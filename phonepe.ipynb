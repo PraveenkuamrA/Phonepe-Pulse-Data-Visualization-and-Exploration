{
 "cells": [
  {
   "cell_type": "code",
   "execution_count": 4,
   "metadata": {},
   "outputs": [
    {
     "data": {
      "text/plain": [
       "<git.repo.base.Repo 'C:\\\\Users\\\\user\\\\OneDrive\\\\Desktop\\\\praveen\\\\phonepe\\\\.git'>"
      ]
     },
     "execution_count": 4,
     "metadata": {},
     "output_type": "execute_result"
    }
   ],
   "source": [
    "import git\n",
    "url='https://github.com/PhonePe/pulse.git'\n",
    "destination=r'C:\\Users\\user\\OneDrive\\Desktop\\praveen\\phonepe'\n",
    "git.Repo.clone_from(url,destination)"
   ]
  },
  {
   "cell_type": "code",
   "execution_count": 118,
   "metadata": {},
   "outputs": [],
   "source": [
    "import mysql.connector\n",
    "\n",
    "mydb = mysql.connector.connect(\n",
    " host=\"localhost\",\n",
    " user=\"root\",\n",
    " password=\"\",\n",
    " )\n",
    "mycursor = mydb.cursor(buffered=True)"
   ]
  },
  {
   "cell_type": "code",
   "execution_count": 13,
   "metadata": {},
   "outputs": [
    {
     "data": {
      "application/vnd.plotly.v1+json": {
       "config": {
        "plotlyServerURL": "https://plot.ly"
       },
       "data": [
        {
         "coloraxis": "coloraxis",
         "featureidkey": "properties.ST_NM",
         "geo": "geo",
         "geojson": "https://gist.githubusercontent.com/jbrobst/56c13bbbf9d97d187fea01ca62ea5112/raw/e388c4cae20aa53cb5090210a42ebb9b765c0a36/india_states.geojson",
         "hovertemplate": "state=%{location}<br>active cases=%{z}<extra></extra>",
         "locations": [
          "Andaman & Nicobar",
          "Andhra Pradesh",
          "Arunachal Pradesh",
          "Assam",
          "Bihar",
          "Chandigarh",
          "Chhattisgarh",
          "Dadra and Nagar Haveli and Daman and Diu",
          "Delhi",
          "Goa",
          "Gujarat",
          "Haryana",
          "Himachal Pradesh",
          "Jammu & Kashmir",
          "Jharkhand",
          "Karnataka",
          "Kerala",
          "Ladakh",
          "Madhya Pradesh",
          "Maharashtra",
          "Manipur",
          "Meghalaya",
          "Mizoram",
          "Nagaland",
          "Odisha",
          "Puducherry",
          "Punjab",
          "Rajasthan",
          "Sikkim",
          "Tamil Nadu",
          "Telangana",
          "Tripura",
          "Uttarakhand",
          "Uttar Pradesh",
          "West Bengal"
         ],
         "name": "",
         "type": "choropleth",
         "z": [
          47,
          18159,
          387,
          6818,
          7549,
          164,
          1260,
          179,
          17407,
          1272,
          11289,
          5495,
          382,
          5488,
          2069,
          30661,
          5376,
          176,
          5562,
          114947,
          635,
          309,
          112,
          525,
          4436,
          774,
          2587,
          6666,
          155,
          46717,
          13327,
          676,
          937,
          15720,
          13679
         ]
        }
       ],
       "layout": {
        "coloraxis": {
         "colorbar": {
          "title": {
           "text": "active cases"
          }
         },
         "colorscale": [
          [
           0,
           "rgb(255,245,240)"
          ],
          [
           0.125,
           "rgb(254,224,210)"
          ],
          [
           0.25,
           "rgb(252,187,161)"
          ],
          [
           0.375,
           "rgb(252,146,114)"
          ],
          [
           0.5,
           "rgb(251,106,74)"
          ],
          [
           0.625,
           "rgb(239,59,44)"
          ],
          [
           0.75,
           "rgb(203,24,29)"
          ],
          [
           0.875,
           "rgb(165,15,21)"
          ],
          [
           1,
           "rgb(103,0,13)"
          ]
         ]
        },
        "geo": {
         "center": {},
         "domain": {
          "x": [
           0,
           1
          ],
          "y": [
           0,
           1
          ]
         },
         "fitbounds": "locations",
         "visible": false
        },
        "legend": {
         "tracegroupgap": 0
        },
        "margin": {
         "t": 60
        },
        "template": {
         "data": {
          "bar": [
           {
            "error_x": {
             "color": "#2a3f5f"
            },
            "error_y": {
             "color": "#2a3f5f"
            },
            "marker": {
             "line": {
              "color": "#E5ECF6",
              "width": 0.5
             },
             "pattern": {
              "fillmode": "overlay",
              "size": 10,
              "solidity": 0.2
             }
            },
            "type": "bar"
           }
          ],
          "barpolar": [
           {
            "marker": {
             "line": {
              "color": "#E5ECF6",
              "width": 0.5
             },
             "pattern": {
              "fillmode": "overlay",
              "size": 10,
              "solidity": 0.2
             }
            },
            "type": "barpolar"
           }
          ],
          "carpet": [
           {
            "aaxis": {
             "endlinecolor": "#2a3f5f",
             "gridcolor": "white",
             "linecolor": "white",
             "minorgridcolor": "white",
             "startlinecolor": "#2a3f5f"
            },
            "baxis": {
             "endlinecolor": "#2a3f5f",
             "gridcolor": "white",
             "linecolor": "white",
             "minorgridcolor": "white",
             "startlinecolor": "#2a3f5f"
            },
            "type": "carpet"
           }
          ],
          "choropleth": [
           {
            "colorbar": {
             "outlinewidth": 0,
             "ticks": ""
            },
            "type": "choropleth"
           }
          ],
          "contour": [
           {
            "colorbar": {
             "outlinewidth": 0,
             "ticks": ""
            },
            "colorscale": [
             [
              0,
              "#0d0887"
             ],
             [
              0.1111111111111111,
              "#46039f"
             ],
             [
              0.2222222222222222,
              "#7201a8"
             ],
             [
              0.3333333333333333,
              "#9c179e"
             ],
             [
              0.4444444444444444,
              "#bd3786"
             ],
             [
              0.5555555555555556,
              "#d8576b"
             ],
             [
              0.6666666666666666,
              "#ed7953"
             ],
             [
              0.7777777777777778,
              "#fb9f3a"
             ],
             [
              0.8888888888888888,
              "#fdca26"
             ],
             [
              1,
              "#f0f921"
             ]
            ],
            "type": "contour"
           }
          ],
          "contourcarpet": [
           {
            "colorbar": {
             "outlinewidth": 0,
             "ticks": ""
            },
            "type": "contourcarpet"
           }
          ],
          "heatmap": [
           {
            "colorbar": {
             "outlinewidth": 0,
             "ticks": ""
            },
            "colorscale": [
             [
              0,
              "#0d0887"
             ],
             [
              0.1111111111111111,
              "#46039f"
             ],
             [
              0.2222222222222222,
              "#7201a8"
             ],
             [
              0.3333333333333333,
              "#9c179e"
             ],
             [
              0.4444444444444444,
              "#bd3786"
             ],
             [
              0.5555555555555556,
              "#d8576b"
             ],
             [
              0.6666666666666666,
              "#ed7953"
             ],
             [
              0.7777777777777778,
              "#fb9f3a"
             ],
             [
              0.8888888888888888,
              "#fdca26"
             ],
             [
              1,
              "#f0f921"
             ]
            ],
            "type": "heatmap"
           }
          ],
          "heatmapgl": [
           {
            "colorbar": {
             "outlinewidth": 0,
             "ticks": ""
            },
            "colorscale": [
             [
              0,
              "#0d0887"
             ],
             [
              0.1111111111111111,
              "#46039f"
             ],
             [
              0.2222222222222222,
              "#7201a8"
             ],
             [
              0.3333333333333333,
              "#9c179e"
             ],
             [
              0.4444444444444444,
              "#bd3786"
             ],
             [
              0.5555555555555556,
              "#d8576b"
             ],
             [
              0.6666666666666666,
              "#ed7953"
             ],
             [
              0.7777777777777778,
              "#fb9f3a"
             ],
             [
              0.8888888888888888,
              "#fdca26"
             ],
             [
              1,
              "#f0f921"
             ]
            ],
            "type": "heatmapgl"
           }
          ],
          "histogram": [
           {
            "marker": {
             "pattern": {
              "fillmode": "overlay",
              "size": 10,
              "solidity": 0.2
             }
            },
            "type": "histogram"
           }
          ],
          "histogram2d": [
           {
            "colorbar": {
             "outlinewidth": 0,
             "ticks": ""
            },
            "colorscale": [
             [
              0,
              "#0d0887"
             ],
             [
              0.1111111111111111,
              "#46039f"
             ],
             [
              0.2222222222222222,
              "#7201a8"
             ],
             [
              0.3333333333333333,
              "#9c179e"
             ],
             [
              0.4444444444444444,
              "#bd3786"
             ],
             [
              0.5555555555555556,
              "#d8576b"
             ],
             [
              0.6666666666666666,
              "#ed7953"
             ],
             [
              0.7777777777777778,
              "#fb9f3a"
             ],
             [
              0.8888888888888888,
              "#fdca26"
             ],
             [
              1,
              "#f0f921"
             ]
            ],
            "type": "histogram2d"
           }
          ],
          "histogram2dcontour": [
           {
            "colorbar": {
             "outlinewidth": 0,
             "ticks": ""
            },
            "colorscale": [
             [
              0,
              "#0d0887"
             ],
             [
              0.1111111111111111,
              "#46039f"
             ],
             [
              0.2222222222222222,
              "#7201a8"
             ],
             [
              0.3333333333333333,
              "#9c179e"
             ],
             [
              0.4444444444444444,
              "#bd3786"
             ],
             [
              0.5555555555555556,
              "#d8576b"
             ],
             [
              0.6666666666666666,
              "#ed7953"
             ],
             [
              0.7777777777777778,
              "#fb9f3a"
             ],
             [
              0.8888888888888888,
              "#fdca26"
             ],
             [
              1,
              "#f0f921"
             ]
            ],
            "type": "histogram2dcontour"
           }
          ],
          "mesh3d": [
           {
            "colorbar": {
             "outlinewidth": 0,
             "ticks": ""
            },
            "type": "mesh3d"
           }
          ],
          "parcoords": [
           {
            "line": {
             "colorbar": {
              "outlinewidth": 0,
              "ticks": ""
             }
            },
            "type": "parcoords"
           }
          ],
          "pie": [
           {
            "automargin": true,
            "type": "pie"
           }
          ],
          "scatter": [
           {
            "fillpattern": {
             "fillmode": "overlay",
             "size": 10,
             "solidity": 0.2
            },
            "type": "scatter"
           }
          ],
          "scatter3d": [
           {
            "line": {
             "colorbar": {
              "outlinewidth": 0,
              "ticks": ""
             }
            },
            "marker": {
             "colorbar": {
              "outlinewidth": 0,
              "ticks": ""
             }
            },
            "type": "scatter3d"
           }
          ],
          "scattercarpet": [
           {
            "marker": {
             "colorbar": {
              "outlinewidth": 0,
              "ticks": ""
             }
            },
            "type": "scattercarpet"
           }
          ],
          "scattergeo": [
           {
            "marker": {
             "colorbar": {
              "outlinewidth": 0,
              "ticks": ""
             }
            },
            "type": "scattergeo"
           }
          ],
          "scattergl": [
           {
            "marker": {
             "colorbar": {
              "outlinewidth": 0,
              "ticks": ""
             }
            },
            "type": "scattergl"
           }
          ],
          "scattermapbox": [
           {
            "marker": {
             "colorbar": {
              "outlinewidth": 0,
              "ticks": ""
             }
            },
            "type": "scattermapbox"
           }
          ],
          "scatterpolar": [
           {
            "marker": {
             "colorbar": {
              "outlinewidth": 0,
              "ticks": ""
             }
            },
            "type": "scatterpolar"
           }
          ],
          "scatterpolargl": [
           {
            "marker": {
             "colorbar": {
              "outlinewidth": 0,
              "ticks": ""
             }
            },
            "type": "scatterpolargl"
           }
          ],
          "scatterternary": [
           {
            "marker": {
             "colorbar": {
              "outlinewidth": 0,
              "ticks": ""
             }
            },
            "type": "scatterternary"
           }
          ],
          "surface": [
           {
            "colorbar": {
             "outlinewidth": 0,
             "ticks": ""
            },
            "colorscale": [
             [
              0,
              "#0d0887"
             ],
             [
              0.1111111111111111,
              "#46039f"
             ],
             [
              0.2222222222222222,
              "#7201a8"
             ],
             [
              0.3333333333333333,
              "#9c179e"
             ],
             [
              0.4444444444444444,
              "#bd3786"
             ],
             [
              0.5555555555555556,
              "#d8576b"
             ],
             [
              0.6666666666666666,
              "#ed7953"
             ],
             [
              0.7777777777777778,
              "#fb9f3a"
             ],
             [
              0.8888888888888888,
              "#fdca26"
             ],
             [
              1,
              "#f0f921"
             ]
            ],
            "type": "surface"
           }
          ],
          "table": [
           {
            "cells": {
             "fill": {
              "color": "#EBF0F8"
             },
             "line": {
              "color": "white"
             }
            },
            "header": {
             "fill": {
              "color": "#C8D4E3"
             },
             "line": {
              "color": "white"
             }
            },
            "type": "table"
           }
          ]
         },
         "layout": {
          "annotationdefaults": {
           "arrowcolor": "#2a3f5f",
           "arrowhead": 0,
           "arrowwidth": 1
          },
          "autotypenumbers": "strict",
          "coloraxis": {
           "colorbar": {
            "outlinewidth": 0,
            "ticks": ""
           }
          },
          "colorscale": {
           "diverging": [
            [
             0,
             "#8e0152"
            ],
            [
             0.1,
             "#c51b7d"
            ],
            [
             0.2,
             "#de77ae"
            ],
            [
             0.3,
             "#f1b6da"
            ],
            [
             0.4,
             "#fde0ef"
            ],
            [
             0.5,
             "#f7f7f7"
            ],
            [
             0.6,
             "#e6f5d0"
            ],
            [
             0.7,
             "#b8e186"
            ],
            [
             0.8,
             "#7fbc41"
            ],
            [
             0.9,
             "#4d9221"
            ],
            [
             1,
             "#276419"
            ]
           ],
           "sequential": [
            [
             0,
             "#0d0887"
            ],
            [
             0.1111111111111111,
             "#46039f"
            ],
            [
             0.2222222222222222,
             "#7201a8"
            ],
            [
             0.3333333333333333,
             "#9c179e"
            ],
            [
             0.4444444444444444,
             "#bd3786"
            ],
            [
             0.5555555555555556,
             "#d8576b"
            ],
            [
             0.6666666666666666,
             "#ed7953"
            ],
            [
             0.7777777777777778,
             "#fb9f3a"
            ],
            [
             0.8888888888888888,
             "#fdca26"
            ],
            [
             1,
             "#f0f921"
            ]
           ],
           "sequentialminus": [
            [
             0,
             "#0d0887"
            ],
            [
             0.1111111111111111,
             "#46039f"
            ],
            [
             0.2222222222222222,
             "#7201a8"
            ],
            [
             0.3333333333333333,
             "#9c179e"
            ],
            [
             0.4444444444444444,
             "#bd3786"
            ],
            [
             0.5555555555555556,
             "#d8576b"
            ],
            [
             0.6666666666666666,
             "#ed7953"
            ],
            [
             0.7777777777777778,
             "#fb9f3a"
            ],
            [
             0.8888888888888888,
             "#fdca26"
            ],
            [
             1,
             "#f0f921"
            ]
           ]
          },
          "colorway": [
           "#636efa",
           "#EF553B",
           "#00cc96",
           "#ab63fa",
           "#FFA15A",
           "#19d3f3",
           "#FF6692",
           "#B6E880",
           "#FF97FF",
           "#FECB52"
          ],
          "font": {
           "color": "#2a3f5f"
          },
          "geo": {
           "bgcolor": "white",
           "lakecolor": "white",
           "landcolor": "#E5ECF6",
           "showlakes": true,
           "showland": true,
           "subunitcolor": "white"
          },
          "hoverlabel": {
           "align": "left"
          },
          "hovermode": "closest",
          "mapbox": {
           "style": "light"
          },
          "paper_bgcolor": "white",
          "plot_bgcolor": "#E5ECF6",
          "polar": {
           "angularaxis": {
            "gridcolor": "white",
            "linecolor": "white",
            "ticks": ""
           },
           "bgcolor": "#E5ECF6",
           "radialaxis": {
            "gridcolor": "white",
            "linecolor": "white",
            "ticks": ""
           }
          },
          "scene": {
           "xaxis": {
            "backgroundcolor": "#E5ECF6",
            "gridcolor": "white",
            "gridwidth": 2,
            "linecolor": "white",
            "showbackground": true,
            "ticks": "",
            "zerolinecolor": "white"
           },
           "yaxis": {
            "backgroundcolor": "#E5ECF6",
            "gridcolor": "white",
            "gridwidth": 2,
            "linecolor": "white",
            "showbackground": true,
            "ticks": "",
            "zerolinecolor": "white"
           },
           "zaxis": {
            "backgroundcolor": "#E5ECF6",
            "gridcolor": "white",
            "gridwidth": 2,
            "linecolor": "white",
            "showbackground": true,
            "ticks": "",
            "zerolinecolor": "white"
           }
          },
          "shapedefaults": {
           "line": {
            "color": "#2a3f5f"
           }
          },
          "ternary": {
           "aaxis": {
            "gridcolor": "white",
            "linecolor": "white",
            "ticks": ""
           },
           "baxis": {
            "gridcolor": "white",
            "linecolor": "white",
            "ticks": ""
           },
           "bgcolor": "#E5ECF6",
           "caxis": {
            "gridcolor": "white",
            "linecolor": "white",
            "ticks": ""
           }
          },
          "title": {
           "x": 0.05
          },
          "xaxis": {
           "automargin": true,
           "gridcolor": "white",
           "linecolor": "white",
           "ticks": "",
           "title": {
            "standoff": 15
           },
           "zerolinecolor": "white",
           "zerolinewidth": 2
          },
          "yaxis": {
           "automargin": true,
           "gridcolor": "white",
           "linecolor": "white",
           "ticks": "",
           "title": {
            "standoff": 15
           },
           "zerolinecolor": "white",
           "zerolinewidth": 2
          }
         }
        }
       }
      }
     },
     "metadata": {},
     "output_type": "display_data"
    }
   ],
   "source": [
    "import pandas as pd\n",
    "import plotly.express as px\n",
    "\n",
    "df = pd.read_csv(\"https://gist.githubusercontent.com/jbrobst/56c13bbbf9d97d187fea01ca62ea5112/raw/e388c4cae20aa53cb5090210a42ebb9b765c0a36/active_cases_2020-07-17_0800.csv\")\n",
    "\n",
    "fig = px.choropleth(\n",
    "    df,\n",
    "    geojson=\"https://gist.githubusercontent.com/jbrobst/56c13bbbf9d97d187fea01ca62ea5112/raw/e388c4cae20aa53cb5090210a42ebb9b765c0a36/india_states.geojson\",\n",
    "    featureidkey='properties.ST_NM',\n",
    "    locations='state',\n",
    "    color='active cases',\n",
    "    color_continuous_scale='Reds'\n",
    ")\n",
    "\n",
    "fig.update_geos(fitbounds=\"locations\", visible=False)\n",
    "\n",
    "fig.show()"
   ]
  },
  {
   "cell_type": "code",
   "execution_count": 2,
   "metadata": {},
   "outputs": [
    {
     "name": "stdout",
     "output_type": "stream",
     "text": [
      "Requirement already satisfied: plotly_express in c:\\users\\user\\onedrive\\desktop\\praveen\\guvi\\lib\\site-packages (0.4.1)\n",
      "Requirement already satisfied: pandas>=0.20.0 in c:\\users\\user\\onedrive\\desktop\\praveen\\guvi\\lib\\site-packages (from plotly_express) (2.2.1)\n",
      "Requirement already satisfied: plotly>=4.1.0 in c:\\users\\user\\onedrive\\desktop\\praveen\\guvi\\lib\\site-packages (from plotly_express) (5.21.0)\n",
      "Requirement already satisfied: statsmodels>=0.9.0 in c:\\users\\user\\onedrive\\desktop\\praveen\\guvi\\lib\\site-packages (from plotly_express) (0.14.2)\n",
      "Requirement already satisfied: scipy>=0.18 in c:\\users\\user\\onedrive\\desktop\\praveen\\guvi\\lib\\site-packages (from plotly_express) (1.13.0)\n",
      "Requirement already satisfied: patsy>=0.5 in c:\\users\\user\\onedrive\\desktop\\praveen\\guvi\\lib\\site-packages (from plotly_express) (0.5.6)\n",
      "Requirement already satisfied: numpy>=1.11 in c:\\users\\user\\onedrive\\desktop\\praveen\\guvi\\lib\\site-packages (from plotly_express) (1.26.4)\n",
      "Requirement already satisfied: python-dateutil>=2.8.2 in c:\\users\\user\\onedrive\\desktop\\praveen\\guvi\\lib\\site-packages (from pandas>=0.20.0->plotly_express) (2.9.0.post0)\n",
      "Requirement already satisfied: pytz>=2020.1 in c:\\users\\user\\onedrive\\desktop\\praveen\\guvi\\lib\\site-packages (from pandas>=0.20.0->plotly_express) (2024.1)\n",
      "Requirement already satisfied: tzdata>=2022.7 in c:\\users\\user\\onedrive\\desktop\\praveen\\guvi\\lib\\site-packages (from pandas>=0.20.0->plotly_express) (2024.1)\n",
      "Requirement already satisfied: six in c:\\users\\user\\onedrive\\desktop\\praveen\\guvi\\lib\\site-packages (from patsy>=0.5->plotly_express) (1.16.0)\n",
      "Requirement already satisfied: tenacity>=6.2.0 in c:\\users\\user\\onedrive\\desktop\\praveen\\guvi\\lib\\site-packages (from plotly>=4.1.0->plotly_express) (8.2.3)\n",
      "Requirement already satisfied: packaging in c:\\users\\user\\onedrive\\desktop\\praveen\\guvi\\lib\\site-packages (from plotly>=4.1.0->plotly_express) (23.2)\n",
      "Note: you may need to restart the kernel to use updated packages.\n"
     ]
    }
   ],
   "source": [
    "pip install plotly_express"
   ]
  },
  {
   "cell_type": "code",
   "execution_count": 3,
   "metadata": {},
   "outputs": [
    {
     "name": "stdout",
     "output_type": "stream",
     "text": [
      "Note: you may need to restart the kernel to use updated packages.\n"
     ]
    },
    {
     "name": "stderr",
     "output_type": "stream",
     "text": [
      "ERROR: Could not find a version that satisfies the requirement choropleth (from versions: none)\n",
      "ERROR: No matching distribution found for choropleth\n"
     ]
    }
   ],
   "source": [
    "pip install choropleth"
   ]
  },
  {
   "cell_type": "code",
   "execution_count": 3,
   "metadata": {},
   "outputs": [
    {
     "name": "stdout",
     "output_type": "stream",
     "text": [
      "Collecting nbformat\n",
      "  Downloading nbformat-5.10.4-py3-none-any.whl.metadata (3.6 kB)\n",
      "Collecting fastjsonschema>=2.15 (from nbformat)\n",
      "  Downloading fastjsonschema-2.19.1-py3-none-any.whl.metadata (2.1 kB)\n",
      "Requirement already satisfied: jsonschema>=2.6 in c:\\users\\user\\onedrive\\desktop\\praveen\\guvi\\lib\\site-packages (from nbformat) (4.21.1)\n",
      "Requirement already satisfied: jupyter-core!=5.0.*,>=4.12 in c:\\users\\user\\onedrive\\desktop\\praveen\\guvi\\lib\\site-packages (from nbformat) (5.7.2)\n",
      "Requirement already satisfied: traitlets>=5.1 in c:\\users\\user\\onedrive\\desktop\\praveen\\guvi\\lib\\site-packages (from nbformat) (5.14.2)\n",
      "Requirement already satisfied: attrs>=22.2.0 in c:\\users\\user\\onedrive\\desktop\\praveen\\guvi\\lib\\site-packages (from jsonschema>=2.6->nbformat) (23.2.0)\n",
      "Requirement already satisfied: jsonschema-specifications>=2023.03.6 in c:\\users\\user\\onedrive\\desktop\\praveen\\guvi\\lib\\site-packages (from jsonschema>=2.6->nbformat) (2023.12.1)\n",
      "Requirement already satisfied: referencing>=0.28.4 in c:\\users\\user\\onedrive\\desktop\\praveen\\guvi\\lib\\site-packages (from jsonschema>=2.6->nbformat) (0.34.0)\n",
      "Requirement already satisfied: rpds-py>=0.7.1 in c:\\users\\user\\onedrive\\desktop\\praveen\\guvi\\lib\\site-packages (from jsonschema>=2.6->nbformat) (0.18.0)\n",
      "Requirement already satisfied: platformdirs>=2.5 in c:\\users\\user\\onedrive\\desktop\\praveen\\guvi\\lib\\site-packages (from jupyter-core!=5.0.*,>=4.12->nbformat) (4.2.0)\n",
      "Requirement already satisfied: pywin32>=300 in c:\\users\\user\\onedrive\\desktop\\praveen\\guvi\\lib\\site-packages (from jupyter-core!=5.0.*,>=4.12->nbformat) (306)\n",
      "Downloading nbformat-5.10.4-py3-none-any.whl (78 kB)\n",
      "   ---------------------------------------- 0.0/78.5 kB ? eta -:--:--\n",
      "   --------------- ------------------------ 30.7/78.5 kB ? eta -:--:--\n",
      "   --------------- ------------------------ 30.7/78.5 kB ? eta -:--:--\n",
      "   ------------------------------------ --- 71.7/78.5 kB 563.7 kB/s eta 0:00:01\n",
      "   ---------------------------------------- 78.5/78.5 kB 545.7 kB/s eta 0:00:00\n",
      "Downloading fastjsonschema-2.19.1-py3-none-any.whl (23 kB)\n",
      "Installing collected packages: fastjsonschema, nbformat\n",
      "Successfully installed fastjsonschema-2.19.1 nbformat-5.10.4\n"
     ]
    }
   ],
   "source": [
    "!pip install nbformat "
   ]
  },
  {
   "cell_type": "code",
   "execution_count": 1,
   "metadata": {},
   "outputs": [
    {
     "name": "stdout",
     "output_type": "stream",
     "text": [
      "Requirement already satisfied: nbformat in c:\\users\\user\\onedrive\\desktop\\praveen\\guvi\\lib\\site-packages (5.10.4)\n",
      "Requirement already satisfied: fastjsonschema>=2.15 in c:\\users\\user\\onedrive\\desktop\\praveen\\guvi\\lib\\site-packages (from nbformat) (2.19.1)\n",
      "Requirement already satisfied: jsonschema>=2.6 in c:\\users\\user\\onedrive\\desktop\\praveen\\guvi\\lib\\site-packages (from nbformat) (4.21.1)\n",
      "Requirement already satisfied: jupyter-core!=5.0.*,>=4.12 in c:\\users\\user\\onedrive\\desktop\\praveen\\guvi\\lib\\site-packages (from nbformat) (5.7.2)\n",
      "Requirement already satisfied: traitlets>=5.1 in c:\\users\\user\\onedrive\\desktop\\praveen\\guvi\\lib\\site-packages (from nbformat) (5.14.2)\n",
      "Requirement already satisfied: attrs>=22.2.0 in c:\\users\\user\\onedrive\\desktop\\praveen\\guvi\\lib\\site-packages (from jsonschema>=2.6->nbformat) (23.2.0)\n",
      "Requirement already satisfied: jsonschema-specifications>=2023.03.6 in c:\\users\\user\\onedrive\\desktop\\praveen\\guvi\\lib\\site-packages (from jsonschema>=2.6->nbformat) (2023.12.1)\n",
      "Requirement already satisfied: referencing>=0.28.4 in c:\\users\\user\\onedrive\\desktop\\praveen\\guvi\\lib\\site-packages (from jsonschema>=2.6->nbformat) (0.34.0)\n",
      "Requirement already satisfied: rpds-py>=0.7.1 in c:\\users\\user\\onedrive\\desktop\\praveen\\guvi\\lib\\site-packages (from jsonschema>=2.6->nbformat) (0.18.0)\n",
      "Requirement already satisfied: platformdirs>=2.5 in c:\\users\\user\\onedrive\\desktop\\praveen\\guvi\\lib\\site-packages (from jupyter-core!=5.0.*,>=4.12->nbformat) (4.2.0)\n",
      "Requirement already satisfied: pywin32>=300 in c:\\users\\user\\onedrive\\desktop\\praveen\\guvi\\lib\\site-packages (from jupyter-core!=5.0.*,>=4.12->nbformat) (306)\n",
      "Note: you may need to restart the kernel to use updated packages.\n"
     ]
    }
   ],
   "source": [
    "pip install --upgrade nbformat"
   ]
  },
  {
   "cell_type": "code",
   "execution_count": 3,
   "metadata": {},
   "outputs": [
    {
     "data": {
      "text/plain": [
       "0                            Andaman & Nicobar\n",
       "1                               Andhra Pradesh\n",
       "2                            Arunachal Pradesh\n",
       "3                                        Assam\n",
       "4                                        Bihar\n",
       "5                                   Chandigarh\n",
       "6                                 Chhattisgarh\n",
       "7     Dadra and Nagar Haveli and Daman and Diu\n",
       "8                                        Delhi\n",
       "9                                          Goa\n",
       "10                                     Gujarat\n",
       "11                                     Haryana\n",
       "12                            Himachal Pradesh\n",
       "13                             Jammu & Kashmir\n",
       "14                                   Jharkhand\n",
       "15                                   Karnataka\n",
       "16                                      Kerala\n",
       "17                                      Ladakh\n",
       "18                              Madhya Pradesh\n",
       "19                                 Maharashtra\n",
       "20                                     Manipur\n",
       "21                                   Meghalaya\n",
       "22                                     Mizoram\n",
       "23                                    Nagaland\n",
       "24                                      Odisha\n",
       "25                                  Puducherry\n",
       "26                                      Punjab\n",
       "27                                   Rajasthan\n",
       "28                                      Sikkim\n",
       "29                                  Tamil Nadu\n",
       "30                                   Telangana\n",
       "31                                     Tripura\n",
       "32                                 Uttarakhand\n",
       "33                               Uttar Pradesh\n",
       "34                                 West Bengal\n",
       "Name: state, dtype: object"
      ]
     },
     "execution_count": 3,
     "metadata": {},
     "output_type": "execute_result"
    }
   ],
   "source": [
    "import pandas as pd \n",
    "df=pd.read_csv(\"https://gist.githubusercontent.com/jbrobst/56c13bbbf9d97d187fea01ca62ea5112/raw/e388c4cae20aa53cb5090210a42ebb9b765c0a36/active_cases_2020-07-17_0800.csv\")\n",
    "df['state']"
   ]
  },
  {
   "cell_type": "code",
   "execution_count": 56,
   "metadata": {},
   "outputs": [
    {
     "data": {
      "text/plain": [
       "['andaman-&-nicobar-islands',\n",
       " 'andhra-pradesh',\n",
       " 'arunachal-pradesh',\n",
       " 'assam',\n",
       " 'bihar',\n",
       " 'chandigarh',\n",
       " 'chhattisgarh',\n",
       " 'dadra-&-nagar-haveli-&-daman-&-diu',\n",
       " 'delhi',\n",
       " 'goa',\n",
       " 'gujarat',\n",
       " 'haryana',\n",
       " 'himachal-pradesh',\n",
       " 'jammu-&-kashmir',\n",
       " 'jharkhand',\n",
       " 'karnataka',\n",
       " 'kerala',\n",
       " 'ladakh',\n",
       " 'lakshadweep',\n",
       " 'madhya-pradesh',\n",
       " 'maharashtra',\n",
       " 'manipur',\n",
       " 'meghalaya',\n",
       " 'mizoram',\n",
       " 'nagaland',\n",
       " 'odisha',\n",
       " 'puducherry',\n",
       " 'punjab',\n",
       " 'rajasthan',\n",
       " 'sikkim',\n",
       " 'tamil-nadu',\n",
       " 'telangana',\n",
       " 'tripura',\n",
       " 'uttar-pradesh',\n",
       " 'uttarakhand',\n",
       " 'west-bengal']"
      ]
     },
     "execution_count": 56,
     "metadata": {},
     "output_type": "execute_result"
    }
   ],
   "source": [
    "import os\n",
    "path=r\"C:\\Users\\user\\OneDrive\\Desktop\\praveen\\phonepe\\data\\aggregated\\transaction\\country\\india\\state\"\n",
    "Agg_state_list=os.listdir(path)\n",
    "Agg_state_list"
   ]
  },
  {
   "cell_type": "code",
   "execution_count": 57,
   "metadata": {},
   "outputs": [],
   "source": [
    "import pandas as pd\n",
    "clm={'State':[], 'Year':[],'Quater':[],'Transacion_type':[], 'Transacion_count':[], 'Transacion_amount':[]}\n",
    "a=0\n",
    "p=['Andaman & Nicobar', 'Andhra Pradesh', 'Arunachal Pradesh',\n",
    "       'Assam', 'Bihar', 'Chandigarh', 'Chhattisgarh',\n",
    "       'Dadra and Nagar Haveli and Daman and Diu', 'Delhi', 'Goa',\n",
    "       'Gujarat', 'Haryana', 'Himachal Pradesh', 'Jammu & Kashmir',\n",
    "       'Jharkhand', 'Karnataka', 'Kerala', 'Ladakh', 'Lakshadweep',\n",
    "       'Madhya Pradesh', 'Maharashtra', 'Manipur', 'Meghalaya', 'Mizoram',\n",
    "       'Nagaland', 'Odisha', 'Puducherry', 'Punjab', 'Rajasthan',\n",
    "       'Sikkim', 'Tamil Nadu', 'Telangana', 'Tripura', 'Uttarakhand',\n",
    "       'Uttar Pradesh', 'West Bengal']\n",
    "b=0\n",
    "for i in Agg_state_list:\n",
    "    p_i=path+'/'+i\n",
    "    Agg_yr=os.listdir(p_i)\n",
    "    for j in Agg_yr:\n",
    "        p_j=p_i+'/'+j\n",
    "        Agg_yr_list=os.listdir(p_j)\n",
    "        for k in Agg_yr_list:\n",
    "            p_k=p_j+'/'+k\n",
    "            D=pd.read_json(p_k)\n",
    "            for z in D['data']['transactionData']:\n",
    "                Name=z['name']\n",
    "                count=z['paymentInstruments'][0]['count']\n",
    "                amount=z['paymentInstruments'][0]['amount']\n",
    "                clm['Transacion_type'].append(Name)\n",
    "                clm['Transacion_count'].append(count)\n",
    "                clm['Transacion_amount'].append(amount)\n",
    "                clm['State'].append(p[b])\n",
    "                clm['Year'].append(j)\n",
    "                clm['Quater'].append(int(k.strip('.json')))\n",
    "                #query='''insert into phonepe.aggtrans(State,Year,Quater,Transacion_type,Transacion_count,Transacion_amount)\n",
    "                #            values(%s,%s,%s,%s,%s,%s)'''\n",
    "                #mycursor.execute(query,(clm['State'][a],clm['Year'][a],clm[\"Quater\"][a],\n",
    "                #                clm['Transacion_type'][a],clm['Transacion_count'][a],\n",
    "                #                clm['Transacion_amount'][a]))\n",
    "                a+=1\n",
    "    b+=1\n",
    "#Succesfully created a dataframe\n",
    "Agg_Trans=pd.DataFrame(clm)\n",
    "#mydb.commit()"
   ]
  },
  {
   "cell_type": "code",
   "execution_count": 58,
   "metadata": {},
   "outputs": [
    {
     "data": {
      "text/html": [
       "<div>\n",
       "<style scoped>\n",
       "    .dataframe tbody tr th:only-of-type {\n",
       "        vertical-align: middle;\n",
       "    }\n",
       "\n",
       "    .dataframe tbody tr th {\n",
       "        vertical-align: top;\n",
       "    }\n",
       "\n",
       "    .dataframe thead th {\n",
       "        text-align: right;\n",
       "    }\n",
       "</style>\n",
       "<table border=\"1\" class=\"dataframe\">\n",
       "  <thead>\n",
       "    <tr style=\"text-align: right;\">\n",
       "      <th></th>\n",
       "      <th>State</th>\n",
       "      <th>Year</th>\n",
       "      <th>Quater</th>\n",
       "      <th>Transacion_type</th>\n",
       "      <th>Transacion_count</th>\n",
       "      <th>Transacion_amount</th>\n",
       "    </tr>\n",
       "  </thead>\n",
       "  <tbody>\n",
       "    <tr>\n",
       "      <th>0</th>\n",
       "      <td>Andaman &amp; Nicobar</td>\n",
       "      <td>2018</td>\n",
       "      <td>1</td>\n",
       "      <td>Recharge &amp; bill payments</td>\n",
       "      <td>4200</td>\n",
       "      <td>1.845307e+06</td>\n",
       "    </tr>\n",
       "    <tr>\n",
       "      <th>1</th>\n",
       "      <td>Andaman &amp; Nicobar</td>\n",
       "      <td>2018</td>\n",
       "      <td>1</td>\n",
       "      <td>Peer-to-peer payments</td>\n",
       "      <td>1871</td>\n",
       "      <td>1.213866e+07</td>\n",
       "    </tr>\n",
       "    <tr>\n",
       "      <th>2</th>\n",
       "      <td>Andaman &amp; Nicobar</td>\n",
       "      <td>2018</td>\n",
       "      <td>1</td>\n",
       "      <td>Merchant payments</td>\n",
       "      <td>298</td>\n",
       "      <td>4.525072e+05</td>\n",
       "    </tr>\n",
       "    <tr>\n",
       "      <th>3</th>\n",
       "      <td>Andaman &amp; Nicobar</td>\n",
       "      <td>2018</td>\n",
       "      <td>1</td>\n",
       "      <td>Financial Services</td>\n",
       "      <td>33</td>\n",
       "      <td>1.060142e+04</td>\n",
       "    </tr>\n",
       "    <tr>\n",
       "      <th>4</th>\n",
       "      <td>Andaman &amp; Nicobar</td>\n",
       "      <td>2018</td>\n",
       "      <td>1</td>\n",
       "      <td>Others</td>\n",
       "      <td>256</td>\n",
       "      <td>1.846899e+05</td>\n",
       "    </tr>\n",
       "    <tr>\n",
       "      <th>...</th>\n",
       "      <td>...</td>\n",
       "      <td>...</td>\n",
       "      <td>...</td>\n",
       "      <td>...</td>\n",
       "      <td>...</td>\n",
       "      <td>...</td>\n",
       "    </tr>\n",
       "    <tr>\n",
       "      <th>4309</th>\n",
       "      <td>West Bengal</td>\n",
       "      <td>2023</td>\n",
       "      <td>4</td>\n",
       "      <td>Merchant payments</td>\n",
       "      <td>354067997</td>\n",
       "      <td>2.390738e+11</td>\n",
       "    </tr>\n",
       "    <tr>\n",
       "      <th>4310</th>\n",
       "      <td>West Bengal</td>\n",
       "      <td>2023</td>\n",
       "      <td>4</td>\n",
       "      <td>Peer-to-peer payments</td>\n",
       "      <td>317959249</td>\n",
       "      <td>9.641385e+11</td>\n",
       "    </tr>\n",
       "    <tr>\n",
       "      <th>4311</th>\n",
       "      <td>West Bengal</td>\n",
       "      <td>2023</td>\n",
       "      <td>4</td>\n",
       "      <td>Recharge &amp; bill payments</td>\n",
       "      <td>64920775</td>\n",
       "      <td>4.531943e+10</td>\n",
       "    </tr>\n",
       "    <tr>\n",
       "      <th>4312</th>\n",
       "      <td>West Bengal</td>\n",
       "      <td>2023</td>\n",
       "      <td>4</td>\n",
       "      <td>Financial Services</td>\n",
       "      <td>480740</td>\n",
       "      <td>4.590073e+08</td>\n",
       "    </tr>\n",
       "    <tr>\n",
       "      <th>4313</th>\n",
       "      <td>West Bengal</td>\n",
       "      <td>2023</td>\n",
       "      <td>4</td>\n",
       "      <td>Others</td>\n",
       "      <td>524477</td>\n",
       "      <td>4.041567e+08</td>\n",
       "    </tr>\n",
       "  </tbody>\n",
       "</table>\n",
       "<p>4314 rows × 6 columns</p>\n",
       "</div>"
      ],
      "text/plain": [
       "                  State  Year  Quater           Transacion_type  \\\n",
       "0     Andaman & Nicobar  2018       1  Recharge & bill payments   \n",
       "1     Andaman & Nicobar  2018       1     Peer-to-peer payments   \n",
       "2     Andaman & Nicobar  2018       1         Merchant payments   \n",
       "3     Andaman & Nicobar  2018       1        Financial Services   \n",
       "4     Andaman & Nicobar  2018       1                    Others   \n",
       "...                 ...   ...     ...                       ...   \n",
       "4309        West Bengal  2023       4         Merchant payments   \n",
       "4310        West Bengal  2023       4     Peer-to-peer payments   \n",
       "4311        West Bengal  2023       4  Recharge & bill payments   \n",
       "4312        West Bengal  2023       4        Financial Services   \n",
       "4313        West Bengal  2023       4                    Others   \n",
       "\n",
       "      Transacion_count  Transacion_amount  \n",
       "0                 4200       1.845307e+06  \n",
       "1                 1871       1.213866e+07  \n",
       "2                  298       4.525072e+05  \n",
       "3                   33       1.060142e+04  \n",
       "4                  256       1.846899e+05  \n",
       "...                ...                ...  \n",
       "4309         354067997       2.390738e+11  \n",
       "4310         317959249       9.641385e+11  \n",
       "4311          64920775       4.531943e+10  \n",
       "4312            480740       4.590073e+08  \n",
       "4313            524477       4.041567e+08  \n",
       "\n",
       "[4314 rows x 6 columns]"
      ]
     },
     "execution_count": 58,
     "metadata": {},
     "output_type": "execute_result"
    }
   ],
   "source": [
    "Agg_Trans"
   ]
  },
  {
   "cell_type": "code",
   "execution_count": 109,
   "metadata": {},
   "outputs": [
    {
     "name": "stdout",
     "output_type": "stream",
     "text": [
      "<class 'pandas.core.frame.DataFrame'>\n",
      "RangeIndex: 4314 entries, 0 to 4313\n",
      "Data columns (total 6 columns):\n",
      " #   Column             Non-Null Count  Dtype  \n",
      "---  ------             --------------  -----  \n",
      " 0   State              4314 non-null   object \n",
      " 1   Year               4314 non-null   object \n",
      " 2   Quater             4314 non-null   int64  \n",
      " 3   Transacion_type    4314 non-null   object \n",
      " 4   Transacion_count   4314 non-null   int64  \n",
      " 5   Transacion_amount  4314 non-null   float64\n",
      "dtypes: float64(1), int64(2), object(3)\n",
      "memory usage: 202.3+ KB\n"
     ]
    }
   ],
   "source": [
    "Agg_Trans.info()"
   ]
  },
  {
   "cell_type": "code",
   "execution_count": 56,
   "metadata": {},
   "outputs": [],
   "source": [
    "Agg_Trans['Year']=Agg_Trans['Year'].astype(int)"
   ]
  },
  {
   "cell_type": "code",
   "execution_count": 60,
   "metadata": {},
   "outputs": [
    {
     "data": {
      "text/html": [
       "<div>\n",
       "<style scoped>\n",
       "    .dataframe tbody tr th:only-of-type {\n",
       "        vertical-align: middle;\n",
       "    }\n",
       "\n",
       "    .dataframe tbody tr th {\n",
       "        vertical-align: top;\n",
       "    }\n",
       "\n",
       "    .dataframe thead th {\n",
       "        text-align: right;\n",
       "    }\n",
       "</style>\n",
       "<table border=\"1\" class=\"dataframe\">\n",
       "  <thead>\n",
       "    <tr style=\"text-align: right;\">\n",
       "      <th></th>\n",
       "      <th>State</th>\n",
       "      <th>Year</th>\n",
       "      <th>Quater</th>\n",
       "      <th>Transacion_type</th>\n",
       "      <th>Transacion_count</th>\n",
       "      <th>Transacion_amount</th>\n",
       "    </tr>\n",
       "  </thead>\n",
       "  <tbody>\n",
       "    <tr>\n",
       "      <th>0</th>\n",
       "      <td>andaman-&amp;-nicobar-islands</td>\n",
       "      <td>2018</td>\n",
       "      <td>1</td>\n",
       "      <td>Recharge &amp; bill payments</td>\n",
       "      <td>4200</td>\n",
       "      <td>1.845307e+06</td>\n",
       "    </tr>\n",
       "    <tr>\n",
       "      <th>1</th>\n",
       "      <td>andaman-&amp;-nicobar-islands</td>\n",
       "      <td>2018</td>\n",
       "      <td>1</td>\n",
       "      <td>Peer-to-peer payments</td>\n",
       "      <td>1871</td>\n",
       "      <td>1.213866e+07</td>\n",
       "    </tr>\n",
       "    <tr>\n",
       "      <th>2</th>\n",
       "      <td>andaman-&amp;-nicobar-islands</td>\n",
       "      <td>2018</td>\n",
       "      <td>1</td>\n",
       "      <td>Merchant payments</td>\n",
       "      <td>298</td>\n",
       "      <td>4.525072e+05</td>\n",
       "    </tr>\n",
       "    <tr>\n",
       "      <th>3</th>\n",
       "      <td>andaman-&amp;-nicobar-islands</td>\n",
       "      <td>2018</td>\n",
       "      <td>1</td>\n",
       "      <td>Financial Services</td>\n",
       "      <td>33</td>\n",
       "      <td>1.060142e+04</td>\n",
       "    </tr>\n",
       "    <tr>\n",
       "      <th>4</th>\n",
       "      <td>andaman-&amp;-nicobar-islands</td>\n",
       "      <td>2018</td>\n",
       "      <td>1</td>\n",
       "      <td>Others</td>\n",
       "      <td>256</td>\n",
       "      <td>1.846899e+05</td>\n",
       "    </tr>\n",
       "    <tr>\n",
       "      <th>...</th>\n",
       "      <td>...</td>\n",
       "      <td>...</td>\n",
       "      <td>...</td>\n",
       "      <td>...</td>\n",
       "      <td>...</td>\n",
       "      <td>...</td>\n",
       "    </tr>\n",
       "    <tr>\n",
       "      <th>4294</th>\n",
       "      <td>west-bengal</td>\n",
       "      <td>2023</td>\n",
       "      <td>1</td>\n",
       "      <td>Peer-to-peer payments</td>\n",
       "      <td>209399898</td>\n",
       "      <td>7.120393e+11</td>\n",
       "    </tr>\n",
       "    <tr>\n",
       "      <th>4295</th>\n",
       "      <td>west-bengal</td>\n",
       "      <td>2023</td>\n",
       "      <td>1</td>\n",
       "      <td>Merchant payments</td>\n",
       "      <td>196695397</td>\n",
       "      <td>1.525290e+11</td>\n",
       "    </tr>\n",
       "    <tr>\n",
       "      <th>4296</th>\n",
       "      <td>west-bengal</td>\n",
       "      <td>2023</td>\n",
       "      <td>1</td>\n",
       "      <td>Recharge &amp; bill payments</td>\n",
       "      <td>52273240</td>\n",
       "      <td>3.158009e+10</td>\n",
       "    </tr>\n",
       "    <tr>\n",
       "      <th>4297</th>\n",
       "      <td>west-bengal</td>\n",
       "      <td>2023</td>\n",
       "      <td>1</td>\n",
       "      <td>Financial Services</td>\n",
       "      <td>287719</td>\n",
       "      <td>2.668729e+08</td>\n",
       "    </tr>\n",
       "    <tr>\n",
       "      <th>4298</th>\n",
       "      <td>west-bengal</td>\n",
       "      <td>2023</td>\n",
       "      <td>1</td>\n",
       "      <td>Others</td>\n",
       "      <td>622090</td>\n",
       "      <td>4.679353e+08</td>\n",
       "    </tr>\n",
       "  </tbody>\n",
       "</table>\n",
       "<p>1077 rows × 6 columns</p>\n",
       "</div>"
      ],
      "text/plain": [
       "                          State  Year  Quater           Transacion_type  \\\n",
       "0     andaman-&-nicobar-islands  2018       1  Recharge & bill payments   \n",
       "1     andaman-&-nicobar-islands  2018       1     Peer-to-peer payments   \n",
       "2     andaman-&-nicobar-islands  2018       1         Merchant payments   \n",
       "3     andaman-&-nicobar-islands  2018       1        Financial Services   \n",
       "4     andaman-&-nicobar-islands  2018       1                    Others   \n",
       "...                         ...   ...     ...                       ...   \n",
       "4294                west-bengal  2023       1     Peer-to-peer payments   \n",
       "4295                west-bengal  2023       1         Merchant payments   \n",
       "4296                west-bengal  2023       1  Recharge & bill payments   \n",
       "4297                west-bengal  2023       1        Financial Services   \n",
       "4298                west-bengal  2023       1                    Others   \n",
       "\n",
       "      Transacion_count  Transacion_amount  \n",
       "0                 4200       1.845307e+06  \n",
       "1                 1871       1.213866e+07  \n",
       "2                  298       4.525072e+05  \n",
       "3                   33       1.060142e+04  \n",
       "4                  256       1.846899e+05  \n",
       "...                ...                ...  \n",
       "4294         209399898       7.120393e+11  \n",
       "4295         196695397       1.525290e+11  \n",
       "4296          52273240       3.158009e+10  \n",
       "4297            287719       2.668729e+08  \n",
       "4298            622090       4.679353e+08  \n",
       "\n",
       "[1077 rows x 6 columns]"
      ]
     },
     "execution_count": 60,
     "metadata": {},
     "output_type": "execute_result"
    }
   ],
   "source": [
    "Agg_Trans_1=Agg_Trans[Agg_Trans['Quater']==1]\n",
    "Agg_Trans_1"
   ]
  },
  {
   "cell_type": "code",
   "execution_count": 110,
   "metadata": {},
   "outputs": [
    {
     "data": {
      "text/plain": [
       "array(['andaman-&-nicobar-islands', 'andhra-pradesh', 'arunachal-pradesh',\n",
       "       'assam', 'bihar', 'chandigarh', 'chhattisgarh',\n",
       "       'dadra-&-nagar-haveli-&-daman-&-diu', 'delhi', 'goa', 'gujarat',\n",
       "       'haryana', 'himachal-pradesh', 'jammu-&-kashmir', 'jharkhand',\n",
       "       'karnataka', 'kerala', 'ladakh', 'lakshadweep', 'madhya-pradesh',\n",
       "       'maharashtra', 'manipur', 'meghalaya', 'mizoram', 'nagaland',\n",
       "       'odisha', 'puducherry', 'punjab', 'rajasthan', 'sikkim',\n",
       "       'tamil-nadu', 'telangana', 'tripura', 'uttar-pradesh',\n",
       "       'uttarakhand', 'west-bengal'], dtype=object)"
      ]
     },
     "execution_count": 110,
     "metadata": {},
     "output_type": "execute_result"
    }
   ],
   "source": [
    "Agg_Trans['State'].unique()"
   ]
  },
  {
   "cell_type": "code",
   "execution_count": 141,
   "metadata": {},
   "outputs": [
    {
     "data": {
      "text/plain": [
       "array(['Andaman & Nicobar', 'Andhra Pradesh', 'Arunachal Pradesh',\n",
       "       'Assam', 'Bihar', 'Chandigarh', 'Chhattisgarh',\n",
       "       'Dadra and Nagar Haveli and Daman and Diu', 'Delhi', 'Goa',\n",
       "       'Gujarat', 'Haryana', 'Himachal Pradesh', 'Jammu & Kashmir',\n",
       "       'Jharkhand', 'Karnataka', 'Kerala', 'Ladakh', 'Lakshadweep',\n",
       "       'Madhya Pradesh', 'Maharashtra', 'Manipur', 'Meghalaya', 'Mizoram',\n",
       "       'Nagaland', 'Odisha', 'Puducherry', 'Punjab', 'Rajasthan',\n",
       "       'Sikkim', 'Tamil Nadu', 'Telangana', 'Tripura', 'Uttarakhand',\n",
       "       'Uttar Pradesh', 'West Bengal'], dtype=object)"
      ]
     },
     "execution_count": 141,
     "metadata": {},
     "output_type": "execute_result"
    }
   ],
   "source": [
    "\n",
    "mapping={\n",
    "        \"andaman-&-nicobar-islands\":\"Andaman & Nicobar\",\n",
    "        'andhra-pradesh':'Andhra Pradesh',\n",
    "        'arunachal-pradesh':'Arunachal Pradesh',\n",
    "        'assam':'Assam',\n",
    "        'bihar':'Bihar',\n",
    "        'chandigarh':'Chandigarh',\n",
    "        'chhattisgarh':'Chhattisgarh',\n",
    "        'dadra-&-nagar-haveli-&-daman-&-diu':'Dadra and Nagar Haveli and Daman and Diu',\n",
    "        'delhi':'Delhi',\n",
    "        'goa':'Goa',\n",
    "        'gujarat':'Gujarat',\n",
    "        'haryana':'Haryana',\n",
    "        'himachal-pradesh':'Himachal Pradesh',\n",
    "        'jammu-&-kashmir':'Jammu & Kashmir',\n",
    "        'jharkhand':'Jharkhand',\n",
    "        'karnataka':'Karnataka',\n",
    "        'kerala':'Kerala',\n",
    "        'ladakh':'Ladakh',\n",
    "        'lakshadweep':'Lakshadweep',\n",
    "        'madhya-pradesh':'Madhya Pradesh',\n",
    "        'maharashtra':'Maharashtra',\n",
    "        'manipur':'Manipur',\n",
    "        'meghalaya':'Meghalaya',\n",
    "        'mizoram':'Mizoram',\n",
    "        'nagaland':'Nagaland',\n",
    "        'odisha':'Odisha',\n",
    "        'puducherry':'Puducherry',\n",
    "        'punjab':'Punjab',\n",
    "        'rajasthan':'Rajasthan',\n",
    "        'sikkim':'Sikkim',\n",
    "        'tamil-nadu':'Tamil Nadu',\n",
    "        'telangana':'Telangana',\n",
    "        'tripura':'Tripura',\n",
    "        'uttar-pradesh':'Uttarakhand',\n",
    "        'uttarakhand':'Uttar Pradesh',\n",
    "        'west-bengal':'West Bengal'\n",
    "}\n",
    "\n",
    "Agg_Trans['State']=Agg_Trans['State'].replace(mapping)\n",
    "Agg_Trans['State'].unique()"
   ]
  },
  {
   "cell_type": "code",
   "execution_count": 88,
   "metadata": {},
   "outputs": [
    {
     "name": "stdout",
     "output_type": "stream",
     "text": [
      "<class 'pandas.core.frame.DataFrame'>\n",
      "RangeIndex: 4314 entries, 0 to 4313\n",
      "Data columns (total 6 columns):\n",
      " #   Column             Non-Null Count  Dtype  \n",
      "---  ------             --------------  -----  \n",
      " 0   State              4314 non-null   object \n",
      " 1   Year               4314 non-null   int32  \n",
      " 2   Quater             4314 non-null   int64  \n",
      " 3   Transacion_type    4314 non-null   object \n",
      " 4   Transacion_count   4314 non-null   int64  \n",
      " 5   Transacion_amount  4314 non-null   float64\n",
      "dtypes: float64(1), int32(1), int64(2), object(2)\n",
      "memory usage: 185.5+ KB\n"
     ]
    }
   ],
   "source": [
    "Agg_Trans.info()"
   ]
  },
  {
   "cell_type": "code",
   "execution_count": 114,
   "metadata": {},
   "outputs": [
    {
     "data": {
      "text/html": [
       "<div>\n",
       "<style scoped>\n",
       "    .dataframe tbody tr th:only-of-type {\n",
       "        vertical-align: middle;\n",
       "    }\n",
       "\n",
       "    .dataframe tbody tr th {\n",
       "        vertical-align: top;\n",
       "    }\n",
       "\n",
       "    .dataframe thead th {\n",
       "        text-align: right;\n",
       "    }\n",
       "</style>\n",
       "<table border=\"1\" class=\"dataframe\">\n",
       "  <thead>\n",
       "    <tr style=\"text-align: right;\">\n",
       "      <th></th>\n",
       "      <th>State</th>\n",
       "      <th>Year</th>\n",
       "      <th>Quater</th>\n",
       "      <th>Transacion_type</th>\n",
       "      <th>Transacion_count</th>\n",
       "      <th>Transacion_amount</th>\n",
       "    </tr>\n",
       "  </thead>\n",
       "  <tbody>\n",
       "    <tr>\n",
       "      <th>0</th>\n",
       "      <td>Andaman &amp; Nicobar</td>\n",
       "      <td>2018</td>\n",
       "      <td>1</td>\n",
       "      <td>Recharge &amp; bill payments</td>\n",
       "      <td>4200</td>\n",
       "      <td>1.845307e+06</td>\n",
       "    </tr>\n",
       "    <tr>\n",
       "      <th>1</th>\n",
       "      <td>Andaman &amp; Nicobar</td>\n",
       "      <td>2018</td>\n",
       "      <td>1</td>\n",
       "      <td>Peer-to-peer payments</td>\n",
       "      <td>1871</td>\n",
       "      <td>1.213866e+07</td>\n",
       "    </tr>\n",
       "    <tr>\n",
       "      <th>2</th>\n",
       "      <td>Andaman &amp; Nicobar</td>\n",
       "      <td>2018</td>\n",
       "      <td>1</td>\n",
       "      <td>Merchant payments</td>\n",
       "      <td>298</td>\n",
       "      <td>4.525072e+05</td>\n",
       "    </tr>\n",
       "    <tr>\n",
       "      <th>3</th>\n",
       "      <td>Andaman &amp; Nicobar</td>\n",
       "      <td>2018</td>\n",
       "      <td>1</td>\n",
       "      <td>Financial Services</td>\n",
       "      <td>33</td>\n",
       "      <td>1.060142e+04</td>\n",
       "    </tr>\n",
       "    <tr>\n",
       "      <th>4</th>\n",
       "      <td>Andaman &amp; Nicobar</td>\n",
       "      <td>2018</td>\n",
       "      <td>1</td>\n",
       "      <td>Others</td>\n",
       "      <td>256</td>\n",
       "      <td>1.846899e+05</td>\n",
       "    </tr>\n",
       "    <tr>\n",
       "      <th>...</th>\n",
       "      <td>...</td>\n",
       "      <td>...</td>\n",
       "      <td>...</td>\n",
       "      <td>...</td>\n",
       "      <td>...</td>\n",
       "      <td>...</td>\n",
       "    </tr>\n",
       "    <tr>\n",
       "      <th>4309</th>\n",
       "      <td>West Bengal</td>\n",
       "      <td>2023</td>\n",
       "      <td>4</td>\n",
       "      <td>Merchant payments</td>\n",
       "      <td>354067997</td>\n",
       "      <td>2.390738e+11</td>\n",
       "    </tr>\n",
       "    <tr>\n",
       "      <th>4310</th>\n",
       "      <td>West Bengal</td>\n",
       "      <td>2023</td>\n",
       "      <td>4</td>\n",
       "      <td>Peer-to-peer payments</td>\n",
       "      <td>317959249</td>\n",
       "      <td>9.641385e+11</td>\n",
       "    </tr>\n",
       "    <tr>\n",
       "      <th>4311</th>\n",
       "      <td>West Bengal</td>\n",
       "      <td>2023</td>\n",
       "      <td>4</td>\n",
       "      <td>Recharge &amp; bill payments</td>\n",
       "      <td>64920775</td>\n",
       "      <td>4.531943e+10</td>\n",
       "    </tr>\n",
       "    <tr>\n",
       "      <th>4312</th>\n",
       "      <td>West Bengal</td>\n",
       "      <td>2023</td>\n",
       "      <td>4</td>\n",
       "      <td>Financial Services</td>\n",
       "      <td>480740</td>\n",
       "      <td>4.590073e+08</td>\n",
       "    </tr>\n",
       "    <tr>\n",
       "      <th>4313</th>\n",
       "      <td>West Bengal</td>\n",
       "      <td>2023</td>\n",
       "      <td>4</td>\n",
       "      <td>Others</td>\n",
       "      <td>524477</td>\n",
       "      <td>4.041567e+08</td>\n",
       "    </tr>\n",
       "  </tbody>\n",
       "</table>\n",
       "<p>4314 rows × 6 columns</p>\n",
       "</div>"
      ],
      "text/plain": [
       "                  State  Year  Quater           Transacion_type  \\\n",
       "0     Andaman & Nicobar  2018       1  Recharge & bill payments   \n",
       "1     Andaman & Nicobar  2018       1     Peer-to-peer payments   \n",
       "2     Andaman & Nicobar  2018       1         Merchant payments   \n",
       "3     Andaman & Nicobar  2018       1        Financial Services   \n",
       "4     Andaman & Nicobar  2018       1                    Others   \n",
       "...                 ...   ...     ...                       ...   \n",
       "4309        West Bengal  2023       4         Merchant payments   \n",
       "4310        West Bengal  2023       4     Peer-to-peer payments   \n",
       "4311        West Bengal  2023       4  Recharge & bill payments   \n",
       "4312        West Bengal  2023       4        Financial Services   \n",
       "4313        West Bengal  2023       4                    Others   \n",
       "\n",
       "      Transacion_count  Transacion_amount  \n",
       "0                 4200       1.845307e+06  \n",
       "1                 1871       1.213866e+07  \n",
       "2                  298       4.525072e+05  \n",
       "3                   33       1.060142e+04  \n",
       "4                  256       1.846899e+05  \n",
       "...                ...                ...  \n",
       "4309         354067997       2.390738e+11  \n",
       "4310         317959249       9.641385e+11  \n",
       "4311          64920775       4.531943e+10  \n",
       "4312            480740       4.590073e+08  \n",
       "4313            524477       4.041567e+08  \n",
       "\n",
       "[4314 rows x 6 columns]"
      ]
     },
     "execution_count": 114,
     "metadata": {},
     "output_type": "execute_result"
    }
   ],
   "source": [
    "Agg_Trans"
   ]
  },
  {
   "cell_type": "code",
   "execution_count": 59,
   "metadata": {},
   "outputs": [],
   "source": [
    "Agg_Trans.to_csv(r'C:\\Users\\user\\OneDrive\\Desktop\\praveen\\savefolder\\AggTrans.csv')"
   ]
  },
  {
   "cell_type": "code",
   "execution_count": 21,
   "metadata": {},
   "outputs": [],
   "source": [
    "import mysql.connector\n",
    "\n",
    "mydb = mysql.connector.connect(\n",
    " host=\"localhost\",\n",
    " user=\"root\",\n",
    " password=\"\",\n",
    " )\n",
    "mycursor = mydb.cursor(buffered=True)"
   ]
  },
  {
   "cell_type": "code",
   "execution_count": 76,
   "metadata": {},
   "outputs": [],
   "source": [
    "mycursor.execute('create database phonepe')"
   ]
  },
  {
   "cell_type": "code",
   "execution_count": 83,
   "metadata": {},
   "outputs": [],
   "source": [
    "mycursor.execute('select * from phonepe.aggtrans')\n",
    "a=mycursor.fetchall()\n",
    "#header=[i[0] for i in mycursor.description]\n",
    "df=pd.DataFrame(a)"
   ]
  },
  {
   "cell_type": "code",
   "execution_count": 2,
   "metadata": {},
   "outputs": [],
   "source": [
    "mycursor.execute('use phonepe')"
   ]
  },
  {
   "cell_type": "code",
   "execution_count": 3,
   "metadata": {},
   "outputs": [],
   "source": [
    "mycursor.execute('drop table mapusers')"
   ]
  },
  {
   "cell_type": "code",
   "execution_count": 96,
   "metadata": {},
   "outputs": [],
   "source": [
    "mycursor.execute('drop table maptrans')"
   ]
  },
  {
   "cell_type": "code",
   "execution_count": null,
   "metadata": {},
   "outputs": [],
   "source": [
    "import pandas as pd\n",
    "import plotly.express as px\n",
    "\n",
    "\n",
    "\n",
    "fig = px.choropleth(\n",
    "    df,\n",
    "    geojson=\"https://gist.githubusercontent.com/jbrobst/56c13bbbf9d97d187fea01ca62ea5112/raw/e388c4cae20aa53cb5090210a42ebb9b765c0a36/india_states.geojson\",\n",
    "    featureidkey='properties.ST_NM',\n",
    "    locations='state',\n",
    "    color='active cases',\n",
    "    color_continuous_scale='Reds'\n",
    ")\n",
    "\n",
    "fig.update_geos(fitbounds=\"locations\", visible=False)\n",
    "\n",
    "fig.show()"
   ]
  },
  {
   "cell_type": "code",
   "execution_count": 135,
   "metadata": {},
   "outputs": [],
   "source": [
    "mycursor.execute('select * from phonepe.aggtrans')\n",
    "out=mycursor.fetchall()\n",
    "header=[i[0] for i in mycursor.description]\n",
    "df=pd.DataFrame(out,columns=header)"
   ]
  },
  {
   "cell_type": "code",
   "execution_count": 136,
   "metadata": {},
   "outputs": [
    {
     "data": {
      "text/html": [
       "<div>\n",
       "<style scoped>\n",
       "    .dataframe tbody tr th:only-of-type {\n",
       "        vertical-align: middle;\n",
       "    }\n",
       "\n",
       "    .dataframe tbody tr th {\n",
       "        vertical-align: top;\n",
       "    }\n",
       "\n",
       "    .dataframe thead th {\n",
       "        text-align: right;\n",
       "    }\n",
       "</style>\n",
       "<table border=\"1\" class=\"dataframe\">\n",
       "  <thead>\n",
       "    <tr style=\"text-align: right;\">\n",
       "      <th></th>\n",
       "      <th>State</th>\n",
       "      <th>Year</th>\n",
       "      <th>Quater</th>\n",
       "      <th>Transacion_type</th>\n",
       "      <th>Transacion_count</th>\n",
       "      <th>Transacion_amount</th>\n",
       "    </tr>\n",
       "  </thead>\n",
       "  <tbody>\n",
       "    <tr>\n",
       "      <th>0</th>\n",
       "      <td>andaman-&amp;-nicobar-islands</td>\n",
       "      <td>2018</td>\n",
       "      <td>1</td>\n",
       "      <td>Recharge &amp; bill payments</td>\n",
       "      <td>4200</td>\n",
       "      <td>1.845310e+06</td>\n",
       "    </tr>\n",
       "    <tr>\n",
       "      <th>1</th>\n",
       "      <td>andaman-&amp;-nicobar-islands</td>\n",
       "      <td>2018</td>\n",
       "      <td>1</td>\n",
       "      <td>Peer-to-peer payments</td>\n",
       "      <td>1871</td>\n",
       "      <td>1.213870e+07</td>\n",
       "    </tr>\n",
       "    <tr>\n",
       "      <th>2</th>\n",
       "      <td>andaman-&amp;-nicobar-islands</td>\n",
       "      <td>2018</td>\n",
       "      <td>1</td>\n",
       "      <td>Merchant payments</td>\n",
       "      <td>298</td>\n",
       "      <td>4.525070e+05</td>\n",
       "    </tr>\n",
       "    <tr>\n",
       "      <th>3</th>\n",
       "      <td>andaman-&amp;-nicobar-islands</td>\n",
       "      <td>2018</td>\n",
       "      <td>1</td>\n",
       "      <td>Financial Services</td>\n",
       "      <td>33</td>\n",
       "      <td>1.060140e+04</td>\n",
       "    </tr>\n",
       "    <tr>\n",
       "      <th>4</th>\n",
       "      <td>andaman-&amp;-nicobar-islands</td>\n",
       "      <td>2018</td>\n",
       "      <td>1</td>\n",
       "      <td>Others</td>\n",
       "      <td>256</td>\n",
       "      <td>1.846900e+05</td>\n",
       "    </tr>\n",
       "    <tr>\n",
       "      <th>...</th>\n",
       "      <td>...</td>\n",
       "      <td>...</td>\n",
       "      <td>...</td>\n",
       "      <td>...</td>\n",
       "      <td>...</td>\n",
       "      <td>...</td>\n",
       "    </tr>\n",
       "    <tr>\n",
       "      <th>4309</th>\n",
       "      <td>west-bengal</td>\n",
       "      <td>2023</td>\n",
       "      <td>4</td>\n",
       "      <td>Merchant payments</td>\n",
       "      <td>354067997</td>\n",
       "      <td>2.390740e+11</td>\n",
       "    </tr>\n",
       "    <tr>\n",
       "      <th>4310</th>\n",
       "      <td>west-bengal</td>\n",
       "      <td>2023</td>\n",
       "      <td>4</td>\n",
       "      <td>Peer-to-peer payments</td>\n",
       "      <td>317959249</td>\n",
       "      <td>9.641390e+11</td>\n",
       "    </tr>\n",
       "    <tr>\n",
       "      <th>4311</th>\n",
       "      <td>west-bengal</td>\n",
       "      <td>2023</td>\n",
       "      <td>4</td>\n",
       "      <td>Recharge &amp; bill payments</td>\n",
       "      <td>64920775</td>\n",
       "      <td>4.531940e+10</td>\n",
       "    </tr>\n",
       "    <tr>\n",
       "      <th>4312</th>\n",
       "      <td>west-bengal</td>\n",
       "      <td>2023</td>\n",
       "      <td>4</td>\n",
       "      <td>Financial Services</td>\n",
       "      <td>480740</td>\n",
       "      <td>4.590070e+08</td>\n",
       "    </tr>\n",
       "    <tr>\n",
       "      <th>4313</th>\n",
       "      <td>west-bengal</td>\n",
       "      <td>2023</td>\n",
       "      <td>4</td>\n",
       "      <td>Others</td>\n",
       "      <td>524477</td>\n",
       "      <td>4.041570e+08</td>\n",
       "    </tr>\n",
       "  </tbody>\n",
       "</table>\n",
       "<p>4314 rows × 6 columns</p>\n",
       "</div>"
      ],
      "text/plain": [
       "                          State  Year  Quater           Transacion_type  \\\n",
       "0     andaman-&-nicobar-islands  2018       1  Recharge & bill payments   \n",
       "1     andaman-&-nicobar-islands  2018       1     Peer-to-peer payments   \n",
       "2     andaman-&-nicobar-islands  2018       1         Merchant payments   \n",
       "3     andaman-&-nicobar-islands  2018       1        Financial Services   \n",
       "4     andaman-&-nicobar-islands  2018       1                    Others   \n",
       "...                         ...   ...     ...                       ...   \n",
       "4309                west-bengal  2023       4         Merchant payments   \n",
       "4310                west-bengal  2023       4     Peer-to-peer payments   \n",
       "4311                west-bengal  2023       4  Recharge & bill payments   \n",
       "4312                west-bengal  2023       4        Financial Services   \n",
       "4313                west-bengal  2023       4                    Others   \n",
       "\n",
       "      Transacion_count  Transacion_amount  \n",
       "0                 4200       1.845310e+06  \n",
       "1                 1871       1.213870e+07  \n",
       "2                  298       4.525070e+05  \n",
       "3                   33       1.060140e+04  \n",
       "4                  256       1.846900e+05  \n",
       "...                ...                ...  \n",
       "4309         354067997       2.390740e+11  \n",
       "4310         317959249       9.641390e+11  \n",
       "4311          64920775       4.531940e+10  \n",
       "4312            480740       4.590070e+08  \n",
       "4313            524477       4.041570e+08  \n",
       "\n",
       "[4314 rows x 6 columns]"
      ]
     },
     "execution_count": 136,
     "metadata": {},
     "output_type": "execute_result"
    }
   ],
   "source": [
    "df"
   ]
  },
  {
   "cell_type": "code",
   "execution_count": 1,
   "metadata": {},
   "outputs": [
    {
     "data": {
      "text/plain": [
       "['andaman-&-nicobar-islands',\n",
       " 'andhra-pradesh',\n",
       " 'arunachal-pradesh',\n",
       " 'assam',\n",
       " 'bihar',\n",
       " 'chandigarh',\n",
       " 'chhattisgarh',\n",
       " 'dadra-&-nagar-haveli-&-daman-&-diu',\n",
       " 'delhi',\n",
       " 'goa',\n",
       " 'gujarat',\n",
       " 'haryana',\n",
       " 'himachal-pradesh',\n",
       " 'jammu-&-kashmir',\n",
       " 'jharkhand',\n",
       " 'karnataka',\n",
       " 'kerala',\n",
       " 'ladakh',\n",
       " 'lakshadweep',\n",
       " 'madhya-pradesh',\n",
       " 'maharashtra',\n",
       " 'manipur',\n",
       " 'meghalaya',\n",
       " 'mizoram',\n",
       " 'nagaland',\n",
       " 'odisha',\n",
       " 'puducherry',\n",
       " 'punjab',\n",
       " 'rajasthan',\n",
       " 'sikkim',\n",
       " 'tamil-nadu',\n",
       " 'telangana',\n",
       " 'tripura',\n",
       " 'uttar-pradesh',\n",
       " 'uttarakhand',\n",
       " 'west-bengal']"
      ]
     },
     "execution_count": 1,
     "metadata": {},
     "output_type": "execute_result"
    }
   ],
   "source": [
    "import os\n",
    "path=r\"C:\\Users\\user\\OneDrive\\Desktop\\praveen\\phonepe\\data\\aggregated\\user\\country\\india\\state\"\n",
    "Agg_state_list=os.listdir(path)\n",
    "Agg_state_list"
   ]
  },
  {
   "cell_type": "code",
   "execution_count": 127,
   "metadata": {},
   "outputs": [],
   "source": [
    "import os\n",
    "import pandas as pd\n",
    "path=r\"C:\\Users\\user\\OneDrive\\Desktop\\praveen\\phonepe\\data\\aggregated\\user\\country\\india\\state\"\n",
    "Agg_state_list=os.listdir(path)\n",
    "Agg_state_list\n",
    "\n",
    "chlm={'State':[], 'Year':[],'Quater':[],'brand':[],'count':[]}\n",
    "chlm1={'State':[], 'Year':[],'Quater':[],'registeredUsers':[],'appOpens':[],}\n",
    "a=0\n",
    "p=['Andaman & Nicobar', 'Andhra Pradesh', 'Arunachal Pradesh',\n",
    "       'Assam', 'Bihar', 'Chandigarh', 'Chhattisgarh',\n",
    "       'Dadra and Nagar Haveli and Daman and Diu', 'Delhi', 'Goa',\n",
    "       'Gujarat', 'Haryana', 'Himachal Pradesh', 'Jammu & Kashmir',\n",
    "       'Jharkhand', 'Karnataka', 'Kerala', 'Ladakh', 'Lakshadweep',\n",
    "       'Madhya Pradesh', 'Maharashtra', 'Manipur', 'Meghalaya', 'Mizoram',\n",
    "       'Nagaland', 'Odisha', 'Puducherry', 'Punjab', 'Rajasthan',\n",
    "       'Sikkim', 'Tamil Nadu', 'Telangana', 'Tripura', 'Uttarakhand',\n",
    "       'Uttar Pradesh', 'West Bengal']\n",
    "b=0\n",
    "for i in Agg_state_list:\n",
    "    p_i=path+'/'+i\n",
    "    Agg_yr=os.listdir(p_i)\n",
    "    for j in Agg_yr: \n",
    "        p_j=p_i+'/'+j\n",
    "        agg_yr_list=os.listdir(p_j)\n",
    "        for k in agg_yr_list:\n",
    "            p_k=p_j+'/'+k\n",
    "            d=pd.read_json(p_k)\n",
    "\n",
    "            m=d['data']['aggregated'][\"registeredUsers\"]\n",
    "            n=d['data']['aggregated']['appOpens']\n",
    "            chlm1['State'].append(p[a])\n",
    "            chlm1['Year'].append(j)\n",
    "            chlm1['Quater'].append(int(k.strip('.json')))\n",
    "            chlm1['registeredUsers'].append(m)\n",
    "            chlm1['appOpens'].append(n)\n",
    "\n",
    "            x=d['data']['usersByDevice']\n",
    "            try:\n",
    "                for y in x:\n",
    "                    chlm['State'].append(p[a])\n",
    "                    chlm['Year'].append(j)\n",
    "                    chlm['Quater'].append(int(k.strip('.json')))\n",
    "                    chlm['brand'].append(y['brand'])\n",
    "                    chlm['count'].append(y['count'])\n",
    "            except: \n",
    "                pass\n",
    "    a+=1\n",
    "\n",
    "Agg_user=pd.DataFrame(chlm)\n",
    "Agg_user_reg=pd.DataFrame(chlm1)\n"
   ]
  },
  {
   "cell_type": "code",
   "execution_count": 128,
   "metadata": {},
   "outputs": [
    {
     "data": {
      "text/html": [
       "<div>\n",
       "<style scoped>\n",
       "    .dataframe tbody tr th:only-of-type {\n",
       "        vertical-align: middle;\n",
       "    }\n",
       "\n",
       "    .dataframe tbody tr th {\n",
       "        vertical-align: top;\n",
       "    }\n",
       "\n",
       "    .dataframe thead th {\n",
       "        text-align: right;\n",
       "    }\n",
       "</style>\n",
       "<table border=\"1\" class=\"dataframe\">\n",
       "  <thead>\n",
       "    <tr style=\"text-align: right;\">\n",
       "      <th></th>\n",
       "      <th>State</th>\n",
       "      <th>Year</th>\n",
       "      <th>Quater</th>\n",
       "      <th>brand</th>\n",
       "      <th>count</th>\n",
       "    </tr>\n",
       "  </thead>\n",
       "  <tbody>\n",
       "    <tr>\n",
       "      <th>0</th>\n",
       "      <td>Andaman &amp; Nicobar</td>\n",
       "      <td>2018</td>\n",
       "      <td>1</td>\n",
       "      <td>Xiaomi</td>\n",
       "      <td>1665</td>\n",
       "    </tr>\n",
       "    <tr>\n",
       "      <th>1</th>\n",
       "      <td>Andaman &amp; Nicobar</td>\n",
       "      <td>2018</td>\n",
       "      <td>1</td>\n",
       "      <td>Samsung</td>\n",
       "      <td>1445</td>\n",
       "    </tr>\n",
       "    <tr>\n",
       "      <th>2</th>\n",
       "      <td>Andaman &amp; Nicobar</td>\n",
       "      <td>2018</td>\n",
       "      <td>1</td>\n",
       "      <td>Vivo</td>\n",
       "      <td>982</td>\n",
       "    </tr>\n",
       "    <tr>\n",
       "      <th>3</th>\n",
       "      <td>Andaman &amp; Nicobar</td>\n",
       "      <td>2018</td>\n",
       "      <td>1</td>\n",
       "      <td>Oppo</td>\n",
       "      <td>501</td>\n",
       "    </tr>\n",
       "    <tr>\n",
       "      <th>4</th>\n",
       "      <td>Andaman &amp; Nicobar</td>\n",
       "      <td>2018</td>\n",
       "      <td>1</td>\n",
       "      <td>OnePlus</td>\n",
       "      <td>332</td>\n",
       "    </tr>\n",
       "    <tr>\n",
       "      <th>...</th>\n",
       "      <td>...</td>\n",
       "      <td>...</td>\n",
       "      <td>...</td>\n",
       "      <td>...</td>\n",
       "      <td>...</td>\n",
       "    </tr>\n",
       "    <tr>\n",
       "      <th>6727</th>\n",
       "      <td>West Bengal</td>\n",
       "      <td>2022</td>\n",
       "      <td>1</td>\n",
       "      <td>Lenovo</td>\n",
       "      <td>330017</td>\n",
       "    </tr>\n",
       "    <tr>\n",
       "      <th>6728</th>\n",
       "      <td>West Bengal</td>\n",
       "      <td>2022</td>\n",
       "      <td>1</td>\n",
       "      <td>Infinix</td>\n",
       "      <td>284678</td>\n",
       "    </tr>\n",
       "    <tr>\n",
       "      <th>6729</th>\n",
       "      <td>West Bengal</td>\n",
       "      <td>2022</td>\n",
       "      <td>1</td>\n",
       "      <td>Asus</td>\n",
       "      <td>280347</td>\n",
       "    </tr>\n",
       "    <tr>\n",
       "      <th>6730</th>\n",
       "      <td>West Bengal</td>\n",
       "      <td>2022</td>\n",
       "      <td>1</td>\n",
       "      <td>Apple</td>\n",
       "      <td>277752</td>\n",
       "    </tr>\n",
       "    <tr>\n",
       "      <th>6731</th>\n",
       "      <td>West Bengal</td>\n",
       "      <td>2022</td>\n",
       "      <td>1</td>\n",
       "      <td>Others</td>\n",
       "      <td>2196334</td>\n",
       "    </tr>\n",
       "  </tbody>\n",
       "</table>\n",
       "<p>6732 rows × 5 columns</p>\n",
       "</div>"
      ],
      "text/plain": [
       "                  State  Year  Quater    brand    count\n",
       "0     Andaman & Nicobar  2018       1   Xiaomi     1665\n",
       "1     Andaman & Nicobar  2018       1  Samsung     1445\n",
       "2     Andaman & Nicobar  2018       1     Vivo      982\n",
       "3     Andaman & Nicobar  2018       1     Oppo      501\n",
       "4     Andaman & Nicobar  2018       1  OnePlus      332\n",
       "...                 ...   ...     ...      ...      ...\n",
       "6727        West Bengal  2022       1   Lenovo   330017\n",
       "6728        West Bengal  2022       1  Infinix   284678\n",
       "6729        West Bengal  2022       1     Asus   280347\n",
       "6730        West Bengal  2022       1    Apple   277752\n",
       "6731        West Bengal  2022       1   Others  2196334\n",
       "\n",
       "[6732 rows x 5 columns]"
      ]
     },
     "execution_count": 128,
     "metadata": {},
     "output_type": "execute_result"
    }
   ],
   "source": [
    "Agg_user"
   ]
  },
  {
   "cell_type": "code",
   "execution_count": 129,
   "metadata": {},
   "outputs": [
    {
     "name": "stdout",
     "output_type": "stream",
     "text": [
      "<class 'pandas.core.frame.DataFrame'>\n",
      "RangeIndex: 6732 entries, 0 to 6731\n",
      "Data columns (total 5 columns):\n",
      " #   Column  Non-Null Count  Dtype \n",
      "---  ------  --------------  ----- \n",
      " 0   State   6732 non-null   object\n",
      " 1   Year    6732 non-null   object\n",
      " 2   Quater  6732 non-null   int64 \n",
      " 3   brand   6732 non-null   object\n",
      " 4   count   6732 non-null   int64 \n",
      "dtypes: int64(2), object(3)\n",
      "memory usage: 263.1+ KB\n"
     ]
    }
   ],
   "source": [
    "Agg_user.info()"
   ]
  },
  {
   "cell_type": "code",
   "execution_count": null,
   "metadata": {},
   "outputs": [],
   "source": []
  },
  {
   "cell_type": "code",
   "execution_count": 44,
   "metadata": {},
   "outputs": [],
   "source": [
    "Agg_user.to_csv(r'C:\\Users\\user\\OneDrive\\Desktop\\praveen\\savefolder\\Aggusers.csv')"
   ]
  },
  {
   "cell_type": "code",
   "execution_count": 47,
   "metadata": {},
   "outputs": [
    {
     "data": {
      "text/html": [
       "<div>\n",
       "<style scoped>\n",
       "    .dataframe tbody tr th:only-of-type {\n",
       "        vertical-align: middle;\n",
       "    }\n",
       "\n",
       "    .dataframe tbody tr th {\n",
       "        vertical-align: top;\n",
       "    }\n",
       "\n",
       "    .dataframe thead th {\n",
       "        text-align: right;\n",
       "    }\n",
       "</style>\n",
       "<table border=\"1\" class=\"dataframe\">\n",
       "  <thead>\n",
       "    <tr style=\"text-align: right;\">\n",
       "      <th></th>\n",
       "      <th>State</th>\n",
       "      <th>Year</th>\n",
       "      <th>Quater</th>\n",
       "      <th>registeredUsers</th>\n",
       "      <th>appOpens</th>\n",
       "    </tr>\n",
       "  </thead>\n",
       "  <tbody>\n",
       "    <tr>\n",
       "      <th>0</th>\n",
       "      <td>Andaman &amp; Nicobar</td>\n",
       "      <td>2018</td>\n",
       "      <td>1</td>\n",
       "      <td>6740</td>\n",
       "      <td>0</td>\n",
       "    </tr>\n",
       "    <tr>\n",
       "      <th>1</th>\n",
       "      <td>Andaman &amp; Nicobar</td>\n",
       "      <td>2018</td>\n",
       "      <td>2</td>\n",
       "      <td>9405</td>\n",
       "      <td>0</td>\n",
       "    </tr>\n",
       "    <tr>\n",
       "      <th>2</th>\n",
       "      <td>Andaman &amp; Nicobar</td>\n",
       "      <td>2018</td>\n",
       "      <td>3</td>\n",
       "      <td>12149</td>\n",
       "      <td>0</td>\n",
       "    </tr>\n",
       "    <tr>\n",
       "      <th>3</th>\n",
       "      <td>Andaman &amp; Nicobar</td>\n",
       "      <td>2018</td>\n",
       "      <td>4</td>\n",
       "      <td>15222</td>\n",
       "      <td>0</td>\n",
       "    </tr>\n",
       "    <tr>\n",
       "      <th>4</th>\n",
       "      <td>Andaman &amp; Nicobar</td>\n",
       "      <td>2019</td>\n",
       "      <td>1</td>\n",
       "      <td>18596</td>\n",
       "      <td>0</td>\n",
       "    </tr>\n",
       "    <tr>\n",
       "      <th>...</th>\n",
       "      <td>...</td>\n",
       "      <td>...</td>\n",
       "      <td>...</td>\n",
       "      <td>...</td>\n",
       "      <td>...</td>\n",
       "    </tr>\n",
       "    <tr>\n",
       "      <th>859</th>\n",
       "      <td>West Bengal</td>\n",
       "      <td>2022</td>\n",
       "      <td>4</td>\n",
       "      <td>25536381</td>\n",
       "      <td>678066327</td>\n",
       "    </tr>\n",
       "    <tr>\n",
       "      <th>860</th>\n",
       "      <td>West Bengal</td>\n",
       "      <td>2023</td>\n",
       "      <td>1</td>\n",
       "      <td>26732895</td>\n",
       "      <td>321102681</td>\n",
       "    </tr>\n",
       "    <tr>\n",
       "      <th>861</th>\n",
       "      <td>West Bengal</td>\n",
       "      <td>2023</td>\n",
       "      <td>2</td>\n",
       "      <td>27827662</td>\n",
       "      <td>350862668</td>\n",
       "    </tr>\n",
       "    <tr>\n",
       "      <th>862</th>\n",
       "      <td>West Bengal</td>\n",
       "      <td>2023</td>\n",
       "      <td>3</td>\n",
       "      <td>28966414</td>\n",
       "      <td>473450373</td>\n",
       "    </tr>\n",
       "    <tr>\n",
       "      <th>863</th>\n",
       "      <td>West Bengal</td>\n",
       "      <td>2023</td>\n",
       "      <td>4</td>\n",
       "      <td>30064546</td>\n",
       "      <td>1467442959</td>\n",
       "    </tr>\n",
       "  </tbody>\n",
       "</table>\n",
       "<p>864 rows × 5 columns</p>\n",
       "</div>"
      ],
      "text/plain": [
       "                 State  Year  Quater  registeredUsers    appOpens\n",
       "0    Andaman & Nicobar  2018       1             6740           0\n",
       "1    Andaman & Nicobar  2018       2             9405           0\n",
       "2    Andaman & Nicobar  2018       3            12149           0\n",
       "3    Andaman & Nicobar  2018       4            15222           0\n",
       "4    Andaman & Nicobar  2019       1            18596           0\n",
       "..                 ...   ...     ...              ...         ...\n",
       "859        West Bengal  2022       4         25536381   678066327\n",
       "860        West Bengal  2023       1         26732895   321102681\n",
       "861        West Bengal  2023       2         27827662   350862668\n",
       "862        West Bengal  2023       3         28966414   473450373\n",
       "863        West Bengal  2023       4         30064546  1467442959\n",
       "\n",
       "[864 rows x 5 columns]"
      ]
     },
     "execution_count": 47,
     "metadata": {},
     "output_type": "execute_result"
    }
   ],
   "source": [
    "Agg_user_reg"
   ]
  },
  {
   "cell_type": "code",
   "execution_count": 48,
   "metadata": {},
   "outputs": [],
   "source": [
    "Agg_user_reg.to_csv(r'C:\\Users\\user\\OneDrive\\Desktop\\praveen\\savefolder\\UserLogin.csv')"
   ]
  },
  {
   "cell_type": "code",
   "execution_count": 103,
   "metadata": {},
   "outputs": [],
   "source": [
    "import os\n",
    "import pandas as pd\n",
    "path=r\"C:\\Users\\user\\OneDrive\\Desktop\\praveen\\phonepe\\data\\map\\transaction\\hover\\country\\india\\state\"\n",
    "Agg_state_list=os.listdir(path)\n",
    "clm2={'State':[], 'Year':[],'Quater':[],'Districts':[],'Transaction_Count':[],'Transaction_amount':[] }\n",
    "a=0\n",
    "p=['Andaman & Nicobar', 'Andhra Pradesh', 'Arunachal Pradesh',\n",
    "       'Assam', 'Bihar', 'Chandigarh', 'Chhattisgarh',\n",
    "       'Dadra and Nagar Haveli and Daman and Diu', 'Delhi', 'Goa',\n",
    "       'Gujarat', 'Haryana', 'Himachal Pradesh', 'Jammu & Kashmir',\n",
    "       'Jharkhand', 'Karnataka', 'Kerala', 'Ladakh', 'Lakshadweep',\n",
    "       'Madhya Pradesh', 'Maharashtra', 'Manipur', 'Meghalaya', 'Mizoram',\n",
    "       'Nagaland', 'Odisha', 'Puducherry', 'Punjab', 'Rajasthan',\n",
    "       'Sikkim', 'Tamil Nadu', 'Telangana', 'Tripura', 'Uttarakhand',\n",
    "       'Uttar Pradesh', 'West Bengal']\n",
    "\n",
    "for i in Agg_state_list: \n",
    "    p_i=path+'/'+i \n",
    "    Agg_yr=os.listdir(p_i)\n",
    "    for j in Agg_yr: \n",
    "        p_j=p_i+'/'+j\n",
    "        agg_yr_list=os.listdir(p_j)\n",
    "        for k in agg_yr_list: \n",
    "            p_k=p_j+'/'+k\n",
    "            d=pd.read_json(p_k)\n",
    "            for x in d[\"data\"]['hoverDataList']: \n",
    "                clm2['State'].append(p[a])\n",
    "                clm2['Year'].append(j)\n",
    "                clm2['Quater'].append(int(k.strip('.json')))\n",
    "                clm2['Districts'].append(x['name'].split('district')[0])\n",
    "                clm2['Transaction_Count'].append(x['metric'][0]['count'])\n",
    "                clm2['Transaction_amount'].append(x['metric'][0]['amount'])\n",
    "    a+=1"
   ]
  },
  {
   "cell_type": "code",
   "execution_count": 104,
   "metadata": {},
   "outputs": [],
   "source": [
    "map_trans=pd.DataFrame(clm2)"
   ]
  },
  {
   "cell_type": "code",
   "execution_count": 105,
   "metadata": {},
   "outputs": [
    {
     "data": {
      "text/html": [
       "<div>\n",
       "<style scoped>\n",
       "    .dataframe tbody tr th:only-of-type {\n",
       "        vertical-align: middle;\n",
       "    }\n",
       "\n",
       "    .dataframe tbody tr th {\n",
       "        vertical-align: top;\n",
       "    }\n",
       "\n",
       "    .dataframe thead th {\n",
       "        text-align: right;\n",
       "    }\n",
       "</style>\n",
       "<table border=\"1\" class=\"dataframe\">\n",
       "  <thead>\n",
       "    <tr style=\"text-align: right;\">\n",
       "      <th></th>\n",
       "      <th>State</th>\n",
       "      <th>Year</th>\n",
       "      <th>Quater</th>\n",
       "      <th>Districts</th>\n",
       "      <th>Transaction_Count</th>\n",
       "      <th>Transaction_amount</th>\n",
       "    </tr>\n",
       "  </thead>\n",
       "  <tbody>\n",
       "    <tr>\n",
       "      <th>0</th>\n",
       "      <td>Andaman &amp; Nicobar</td>\n",
       "      <td>2018</td>\n",
       "      <td>1</td>\n",
       "      <td>north and middle andaman</td>\n",
       "      <td>442</td>\n",
       "      <td>9.316631e+05</td>\n",
       "    </tr>\n",
       "    <tr>\n",
       "      <th>1</th>\n",
       "      <td>Andaman &amp; Nicobar</td>\n",
       "      <td>2018</td>\n",
       "      <td>1</td>\n",
       "      <td>south andaman</td>\n",
       "      <td>5688</td>\n",
       "      <td>1.256025e+07</td>\n",
       "    </tr>\n",
       "    <tr>\n",
       "      <th>2</th>\n",
       "      <td>Andaman &amp; Nicobar</td>\n",
       "      <td>2018</td>\n",
       "      <td>1</td>\n",
       "      <td>nicobars</td>\n",
       "      <td>528</td>\n",
       "      <td>1.139849e+06</td>\n",
       "    </tr>\n",
       "    <tr>\n",
       "      <th>3</th>\n",
       "      <td>Andaman &amp; Nicobar</td>\n",
       "      <td>2018</td>\n",
       "      <td>2</td>\n",
       "      <td>north and middle andaman</td>\n",
       "      <td>825</td>\n",
       "      <td>1.317863e+06</td>\n",
       "    </tr>\n",
       "    <tr>\n",
       "      <th>4</th>\n",
       "      <td>Andaman &amp; Nicobar</td>\n",
       "      <td>2018</td>\n",
       "      <td>2</td>\n",
       "      <td>south andaman</td>\n",
       "      <td>9395</td>\n",
       "      <td>2.394824e+07</td>\n",
       "    </tr>\n",
       "    <tr>\n",
       "      <th>...</th>\n",
       "      <td>...</td>\n",
       "      <td>...</td>\n",
       "      <td>...</td>\n",
       "      <td>...</td>\n",
       "      <td>...</td>\n",
       "      <td>...</td>\n",
       "    </tr>\n",
       "    <tr>\n",
       "      <th>17559</th>\n",
       "      <td>West Bengal</td>\n",
       "      <td>2023</td>\n",
       "      <td>4</td>\n",
       "      <td>nadia</td>\n",
       "      <td>36242432</td>\n",
       "      <td>6.879568e+10</td>\n",
       "    </tr>\n",
       "    <tr>\n",
       "      <th>17560</th>\n",
       "      <td>West Bengal</td>\n",
       "      <td>2023</td>\n",
       "      <td>4</td>\n",
       "      <td>birbhum</td>\n",
       "      <td>20708496</td>\n",
       "      <td>3.690499e+10</td>\n",
       "    </tr>\n",
       "    <tr>\n",
       "      <th>17561</th>\n",
       "      <td>West Bengal</td>\n",
       "      <td>2023</td>\n",
       "      <td>4</td>\n",
       "      <td>purba medinipur</td>\n",
       "      <td>40572042</td>\n",
       "      <td>7.981990e+10</td>\n",
       "    </tr>\n",
       "    <tr>\n",
       "      <th>17562</th>\n",
       "      <td>West Bengal</td>\n",
       "      <td>2023</td>\n",
       "      <td>4</td>\n",
       "      <td>maldah</td>\n",
       "      <td>34654950</td>\n",
       "      <td>6.416729e+10</td>\n",
       "    </tr>\n",
       "    <tr>\n",
       "      <th>17563</th>\n",
       "      <td>West Bengal</td>\n",
       "      <td>2023</td>\n",
       "      <td>4</td>\n",
       "      <td>darjiling</td>\n",
       "      <td>16807885</td>\n",
       "      <td>2.793986e+10</td>\n",
       "    </tr>\n",
       "  </tbody>\n",
       "</table>\n",
       "<p>17564 rows × 6 columns</p>\n",
       "</div>"
      ],
      "text/plain": [
       "                   State  Year  Quater                  Districts  \\\n",
       "0      Andaman & Nicobar  2018       1  north and middle andaman    \n",
       "1      Andaman & Nicobar  2018       1             south andaman    \n",
       "2      Andaman & Nicobar  2018       1                  nicobars    \n",
       "3      Andaman & Nicobar  2018       2  north and middle andaman    \n",
       "4      Andaman & Nicobar  2018       2             south andaman    \n",
       "...                  ...   ...     ...                        ...   \n",
       "17559        West Bengal  2023       4                     nadia    \n",
       "17560        West Bengal  2023       4                   birbhum    \n",
       "17561        West Bengal  2023       4           purba medinipur    \n",
       "17562        West Bengal  2023       4                    maldah    \n",
       "17563        West Bengal  2023       4                 darjiling    \n",
       "\n",
       "       Transaction_Count  Transaction_amount  \n",
       "0                    442        9.316631e+05  \n",
       "1                   5688        1.256025e+07  \n",
       "2                    528        1.139849e+06  \n",
       "3                    825        1.317863e+06  \n",
       "4                   9395        2.394824e+07  \n",
       "...                  ...                 ...  \n",
       "17559           36242432        6.879568e+10  \n",
       "17560           20708496        3.690499e+10  \n",
       "17561           40572042        7.981990e+10  \n",
       "17562           34654950        6.416729e+10  \n",
       "17563           16807885        2.793986e+10  \n",
       "\n",
       "[17564 rows x 6 columns]"
      ]
     },
     "execution_count": 105,
     "metadata": {},
     "output_type": "execute_result"
    }
   ],
   "source": [
    "map_trans"
   ]
  },
  {
   "cell_type": "code",
   "execution_count": 108,
   "metadata": {},
   "outputs": [
    {
     "name": "stdout",
     "output_type": "stream",
     "text": [
      "<class 'pandas.core.frame.DataFrame'>\n",
      "RangeIndex: 17564 entries, 0 to 17563\n",
      "Data columns (total 6 columns):\n",
      " #   Column              Non-Null Count  Dtype  \n",
      "---  ------              --------------  -----  \n",
      " 0   State               17564 non-null  object \n",
      " 1   Year                17564 non-null  int32  \n",
      " 2   Quater              17564 non-null  int64  \n",
      " 3   Districts           17564 non-null  object \n",
      " 4   Transaction_Count   17564 non-null  int64  \n",
      " 5   Transaction_amount  17564 non-null  float64\n",
      "dtypes: float64(1), int32(1), int64(2), object(2)\n",
      "memory usage: 754.8+ KB\n"
     ]
    }
   ],
   "source": [
    "map_trans.info()"
   ]
  },
  {
   "cell_type": "code",
   "execution_count": 107,
   "metadata": {},
   "outputs": [],
   "source": [
    "map_trans['Year']=map_trans['Year'].astype(int)"
   ]
  },
  {
   "cell_type": "code",
   "execution_count": 109,
   "metadata": {},
   "outputs": [],
   "source": [
    "map_trans.to_csv(r'C:\\Users\\user\\OneDrive\\Desktop\\praveen\\savefolder\\maptrans.csv')"
   ]
  },
  {
   "cell_type": "code",
   "execution_count": 113,
   "metadata": {},
   "outputs": [],
   "source": [
    "mycursor.execute('drop table phonepe.maptrans')"
   ]
  },
  {
   "cell_type": "code",
   "execution_count": 130,
   "metadata": {},
   "outputs": [],
   "source": [
    "import os\n",
    "import pandas as pd\n",
    "path=r\"C:\\Users\\user\\OneDrive\\Desktop\\praveen\\phonepe\\data\\map\\user\\hover\\country\\india\\state\"\n",
    "Agg_state_list=os.listdir(path)\n",
    "clm3={'State':[], 'Year':[],'Quater':[],'Districts':[],'RegisteredUsers':[],'AppOpens':[] }\n",
    "a=0\n",
    "p=['Andaman & Nicobar', 'Andhra Pradesh', 'Arunachal Pradesh',\n",
    "       'Assam', 'Bihar', 'Chandigarh', 'Chhattisgarh',\n",
    "       'Dadra and Nagar Haveli and Daman and Diu', 'Delhi', 'Goa',\n",
    "       'Gujarat', 'Haryana', 'Himachal Pradesh', 'Jammu & Kashmir',\n",
    "       'Jharkhand', 'Karnataka', 'Kerala', 'Ladakh', 'Lakshadweep',\n",
    "       'Madhya Pradesh', 'Maharashtra', 'Manipur', 'Meghalaya', 'Mizoram',\n",
    "       'Nagaland', 'Odisha', 'Puducherry', 'Punjab', 'Rajasthan',\n",
    "       'Sikkim', 'Tamil Nadu', 'Telangana', 'Tripura', 'Uttarakhand',\n",
    "       'Uttar Pradesh', 'West Bengal']\n",
    "\n",
    "for i in Agg_state_list: \n",
    "    p_i=path+'/'+i \n",
    "    Agg_yr=os.listdir(p_i)\n",
    "    for j in Agg_yr: \n",
    "        p_j=p_i+'/'+j\n",
    "        agg_yr_list=os.listdir(p_j)\n",
    "        for k in agg_yr_list: \n",
    "            p_k=p_j+'/'+k\n",
    "            d=pd.read_json(p_k)\n",
    "            for x in d[\"data\"]['hoverData'].items(): \n",
    "                clm3['State'].append(p[a])\n",
    "                clm3['Year'].append(j)\n",
    "                clm3['Quater'].append(int(k.strip('.json')))\n",
    "                clm3['Districts'].append(x[0].split('district')[0])\n",
    "                clm3['RegisteredUsers'].append(x[1]['registeredUsers'])\n",
    "                clm3['AppOpens'].append(x[1]['appOpens'])\n",
    "    a+=1\n",
    "map_user=pd.DataFrame(clm3)"
   ]
  },
  {
   "cell_type": "code",
   "execution_count": 131,
   "metadata": {},
   "outputs": [
    {
     "data": {
      "text/html": [
       "<div>\n",
       "<style scoped>\n",
       "    .dataframe tbody tr th:only-of-type {\n",
       "        vertical-align: middle;\n",
       "    }\n",
       "\n",
       "    .dataframe tbody tr th {\n",
       "        vertical-align: top;\n",
       "    }\n",
       "\n",
       "    .dataframe thead th {\n",
       "        text-align: right;\n",
       "    }\n",
       "</style>\n",
       "<table border=\"1\" class=\"dataframe\">\n",
       "  <thead>\n",
       "    <tr style=\"text-align: right;\">\n",
       "      <th></th>\n",
       "      <th>State</th>\n",
       "      <th>Year</th>\n",
       "      <th>Quater</th>\n",
       "      <th>Districts</th>\n",
       "      <th>RegisteredUsers</th>\n",
       "      <th>AppOpens</th>\n",
       "    </tr>\n",
       "  </thead>\n",
       "  <tbody>\n",
       "    <tr>\n",
       "      <th>0</th>\n",
       "      <td>Andaman &amp; Nicobar</td>\n",
       "      <td>2018</td>\n",
       "      <td>1</td>\n",
       "      <td>north and middle andaman</td>\n",
       "      <td>632</td>\n",
       "      <td>0</td>\n",
       "    </tr>\n",
       "    <tr>\n",
       "      <th>1</th>\n",
       "      <td>Andaman &amp; Nicobar</td>\n",
       "      <td>2018</td>\n",
       "      <td>1</td>\n",
       "      <td>south andaman</td>\n",
       "      <td>5846</td>\n",
       "      <td>0</td>\n",
       "    </tr>\n",
       "    <tr>\n",
       "      <th>2</th>\n",
       "      <td>Andaman &amp; Nicobar</td>\n",
       "      <td>2018</td>\n",
       "      <td>1</td>\n",
       "      <td>nicobars</td>\n",
       "      <td>262</td>\n",
       "      <td>0</td>\n",
       "    </tr>\n",
       "    <tr>\n",
       "      <th>3</th>\n",
       "      <td>Andaman &amp; Nicobar</td>\n",
       "      <td>2018</td>\n",
       "      <td>2</td>\n",
       "      <td>north and middle andaman</td>\n",
       "      <td>911</td>\n",
       "      <td>0</td>\n",
       "    </tr>\n",
       "    <tr>\n",
       "      <th>4</th>\n",
       "      <td>Andaman &amp; Nicobar</td>\n",
       "      <td>2018</td>\n",
       "      <td>2</td>\n",
       "      <td>south andaman</td>\n",
       "      <td>8143</td>\n",
       "      <td>0</td>\n",
       "    </tr>\n",
       "    <tr>\n",
       "      <th>...</th>\n",
       "      <td>...</td>\n",
       "      <td>...</td>\n",
       "      <td>...</td>\n",
       "      <td>...</td>\n",
       "      <td>...</td>\n",
       "      <td>...</td>\n",
       "    </tr>\n",
       "    <tr>\n",
       "      <th>17563</th>\n",
       "      <td>West Bengal</td>\n",
       "      <td>2023</td>\n",
       "      <td>4</td>\n",
       "      <td>nadia</td>\n",
       "      <td>1603527</td>\n",
       "      <td>67224546</td>\n",
       "    </tr>\n",
       "    <tr>\n",
       "      <th>17564</th>\n",
       "      <td>West Bengal</td>\n",
       "      <td>2023</td>\n",
       "      <td>4</td>\n",
       "      <td>birbhum</td>\n",
       "      <td>1013025</td>\n",
       "      <td>52281841</td>\n",
       "    </tr>\n",
       "    <tr>\n",
       "      <th>17565</th>\n",
       "      <td>West Bengal</td>\n",
       "      <td>2023</td>\n",
       "      <td>4</td>\n",
       "      <td>purba medinipur</td>\n",
       "      <td>1589203</td>\n",
       "      <td>69991821</td>\n",
       "    </tr>\n",
       "    <tr>\n",
       "      <th>17566</th>\n",
       "      <td>West Bengal</td>\n",
       "      <td>2023</td>\n",
       "      <td>4</td>\n",
       "      <td>maldah</td>\n",
       "      <td>1134600</td>\n",
       "      <td>88292475</td>\n",
       "    </tr>\n",
       "    <tr>\n",
       "      <th>17567</th>\n",
       "      <td>West Bengal</td>\n",
       "      <td>2023</td>\n",
       "      <td>4</td>\n",
       "      <td>darjiling</td>\n",
       "      <td>660231</td>\n",
       "      <td>39079247</td>\n",
       "    </tr>\n",
       "  </tbody>\n",
       "</table>\n",
       "<p>17568 rows × 6 columns</p>\n",
       "</div>"
      ],
      "text/plain": [
       "                   State  Year  Quater                  Districts  \\\n",
       "0      Andaman & Nicobar  2018       1  north and middle andaman    \n",
       "1      Andaman & Nicobar  2018       1             south andaman    \n",
       "2      Andaman & Nicobar  2018       1                  nicobars    \n",
       "3      Andaman & Nicobar  2018       2  north and middle andaman    \n",
       "4      Andaman & Nicobar  2018       2             south andaman    \n",
       "...                  ...   ...     ...                        ...   \n",
       "17563        West Bengal  2023       4                     nadia    \n",
       "17564        West Bengal  2023       4                   birbhum    \n",
       "17565        West Bengal  2023       4           purba medinipur    \n",
       "17566        West Bengal  2023       4                    maldah    \n",
       "17567        West Bengal  2023       4                 darjiling    \n",
       "\n",
       "       RegisteredUsers  AppOpens  \n",
       "0                  632         0  \n",
       "1                 5846         0  \n",
       "2                  262         0  \n",
       "3                  911         0  \n",
       "4                 8143         0  \n",
       "...                ...       ...  \n",
       "17563          1603527  67224546  \n",
       "17564          1013025  52281841  \n",
       "17565          1589203  69991821  \n",
       "17566          1134600  88292475  \n",
       "17567           660231  39079247  \n",
       "\n",
       "[17568 rows x 6 columns]"
      ]
     },
     "execution_count": 131,
     "metadata": {},
     "output_type": "execute_result"
    }
   ],
   "source": [
    "map_user"
   ]
  },
  {
   "cell_type": "code",
   "execution_count": 134,
   "metadata": {},
   "outputs": [
    {
     "name": "stdout",
     "output_type": "stream",
     "text": [
      "<class 'pandas.core.frame.DataFrame'>\n",
      "RangeIndex: 17568 entries, 0 to 17567\n",
      "Data columns (total 6 columns):\n",
      " #   Column           Non-Null Count  Dtype \n",
      "---  ------           --------------  ----- \n",
      " 0   State            17568 non-null  object\n",
      " 1   Year             17568 non-null  int32 \n",
      " 2   Quater           17568 non-null  int64 \n",
      " 3   Districts        17568 non-null  object\n",
      " 4   RegisteredUsers  17568 non-null  int64 \n",
      " 5   AppOpens         17568 non-null  int64 \n",
      "dtypes: int32(1), int64(3), object(2)\n",
      "memory usage: 755.0+ KB\n"
     ]
    }
   ],
   "source": [
    "map_user.info()"
   ]
  },
  {
   "cell_type": "code",
   "execution_count": 133,
   "metadata": {},
   "outputs": [],
   "source": [
    "map_user['Year']=map_user['Year'].astype(int)"
   ]
  },
  {
   "cell_type": "code",
   "execution_count": 135,
   "metadata": {},
   "outputs": [],
   "source": [
    "map_user.to_csv(r'C:\\Users\\user\\OneDrive\\Desktop\\praveen\\savefolder\\mapusers.csv')"
   ]
  },
  {
   "cell_type": "code",
   "execution_count": 78,
   "metadata": {},
   "outputs": [
    {
     "name": "stdout",
     "output_type": "stream",
     "text": [
      "None\n",
      "None\n",
      "None\n",
      "None\n",
      "None\n",
      "None\n",
      "None\n",
      "None\n",
      "None\n",
      "None\n",
      "None\n",
      "None\n",
      "None\n",
      "None\n",
      "None\n",
      "None\n",
      "None\n",
      "None\n",
      "None\n",
      "None\n",
      "None\n",
      "None\n",
      "None\n",
      "None\n",
      "None\n",
      "None\n",
      "None\n",
      "None\n",
      "None\n",
      "None\n",
      "None\n",
      "None\n",
      "None\n",
      "None\n",
      "None\n",
      "None\n",
      "None\n",
      "None\n",
      "None\n",
      "None\n",
      "None\n",
      "None\n",
      "None\n",
      "None\n",
      "None\n",
      "None\n",
      "None\n",
      "None\n",
      "None\n",
      "None\n",
      "None\n",
      "None\n",
      "None\n",
      "None\n",
      "None\n",
      "None\n",
      "None\n",
      "None\n",
      "None\n",
      "None\n",
      "None\n",
      "None\n",
      "None\n",
      "None\n",
      "None\n",
      "None\n",
      "None\n",
      "None\n",
      "None\n",
      "None\n",
      "None\n",
      "None\n",
      "None\n",
      "None\n",
      "None\n",
      "None\n",
      "None\n",
      "None\n",
      "None\n",
      "None\n",
      "None\n",
      "None\n",
      "None\n",
      "None\n",
      "None\n",
      "None\n",
      "None\n",
      "None\n",
      "None\n",
      "None\n",
      "None\n",
      "None\n",
      "None\n",
      "None\n",
      "None\n",
      "None\n",
      "None\n",
      "None\n",
      "None\n",
      "None\n",
      "None\n",
      "None\n",
      "None\n",
      "None\n",
      "None\n",
      "None\n",
      "None\n",
      "None\n",
      "None\n",
      "None\n",
      "None\n",
      "None\n",
      "None\n",
      "None\n",
      "None\n",
      "None\n",
      "None\n",
      "None\n",
      "None\n",
      "None\n",
      "None\n",
      "None\n",
      "None\n",
      "None\n",
      "None\n",
      "None\n",
      "None\n",
      "None\n",
      "None\n",
      "None\n",
      "None\n",
      "None\n",
      "None\n",
      "None\n",
      "None\n",
      "None\n",
      "None\n",
      "None\n",
      "None\n",
      "None\n",
      "None\n",
      "None\n",
      "None\n",
      "None\n",
      "None\n",
      "None\n",
      "None\n",
      "None\n",
      "None\n",
      "None\n",
      "None\n",
      "None\n",
      "None\n",
      "None\n",
      "None\n",
      "None\n",
      "None\n",
      "None\n",
      "None\n",
      "None\n",
      "None\n",
      "None\n",
      "None\n",
      "None\n",
      "None\n",
      "None\n",
      "None\n",
      "None\n",
      "None\n",
      "None\n",
      "None\n",
      "None\n",
      "None\n",
      "None\n",
      "None\n",
      "None\n",
      "None\n",
      "None\n",
      "None\n",
      "None\n",
      "None\n",
      "None\n",
      "None\n",
      "None\n",
      "None\n",
      "None\n",
      "None\n",
      "None\n",
      "None\n",
      "None\n",
      "None\n",
      "None\n",
      "None\n",
      "None\n",
      "None\n",
      "None\n",
      "None\n",
      "None\n",
      "None\n",
      "None\n",
      "None\n",
      "None\n",
      "None\n",
      "None\n",
      "None\n",
      "None\n",
      "None\n",
      "None\n",
      "None\n",
      "None\n",
      "None\n",
      "None\n",
      "None\n",
      "None\n",
      "None\n",
      "None\n",
      "None\n",
      "None\n",
      "None\n",
      "None\n",
      "None\n",
      "None\n",
      "None\n",
      "None\n",
      "None\n",
      "None\n",
      "None\n",
      "None\n",
      "None\n",
      "None\n",
      "None\n",
      "None\n",
      "None\n",
      "None\n",
      "None\n",
      "None\n",
      "None\n",
      "None\n",
      "None\n",
      "None\n",
      "None\n",
      "None\n",
      "None\n",
      "None\n",
      "None\n",
      "None\n",
      "None\n",
      "None\n",
      "None\n",
      "None\n",
      "None\n",
      "None\n",
      "None\n",
      "None\n",
      "None\n",
      "None\n",
      "None\n",
      "None\n",
      "None\n",
      "None\n",
      "None\n",
      "None\n",
      "None\n",
      "None\n",
      "None\n",
      "None\n",
      "None\n",
      "None\n",
      "None\n",
      "None\n",
      "None\n",
      "None\n",
      "None\n",
      "None\n",
      "None\n",
      "None\n",
      "None\n",
      "None\n",
      "None\n",
      "None\n",
      "None\n",
      "None\n",
      "None\n",
      "None\n",
      "None\n",
      "None\n",
      "None\n",
      "None\n",
      "None\n",
      "None\n",
      "None\n",
      "None\n",
      "None\n",
      "None\n",
      "None\n",
      "None\n",
      "None\n",
      "None\n",
      "None\n",
      "None\n",
      "None\n",
      "None\n",
      "None\n",
      "None\n",
      "None\n",
      "None\n",
      "None\n",
      "None\n",
      "None\n",
      "None\n",
      "None\n",
      "None\n",
      "None\n",
      "None\n",
      "None\n",
      "None\n",
      "None\n",
      "None\n",
      "None\n",
      "None\n",
      "None\n",
      "None\n",
      "None\n",
      "None\n",
      "None\n",
      "None\n",
      "None\n",
      "None\n",
      "None\n",
      "None\n",
      "None\n",
      "None\n",
      "None\n",
      "None\n",
      "None\n",
      "None\n",
      "None\n",
      "None\n",
      "None\n",
      "None\n",
      "None\n",
      "None\n",
      "None\n",
      "None\n",
      "None\n",
      "None\n",
      "None\n",
      "None\n",
      "None\n",
      "None\n",
      "None\n",
      "None\n",
      "None\n",
      "None\n",
      "None\n",
      "None\n",
      "None\n",
      "None\n",
      "None\n",
      "None\n",
      "None\n",
      "None\n",
      "None\n",
      "None\n",
      "None\n",
      "None\n",
      "None\n",
      "None\n",
      "None\n",
      "None\n",
      "None\n",
      "None\n",
      "None\n",
      "None\n",
      "None\n",
      "None\n",
      "None\n",
      "None\n",
      "None\n",
      "None\n",
      "None\n",
      "None\n",
      "None\n",
      "None\n",
      "None\n",
      "None\n",
      "None\n",
      "None\n",
      "None\n",
      "None\n",
      "None\n",
      "None\n",
      "None\n",
      "None\n",
      "None\n",
      "None\n",
      "None\n",
      "None\n",
      "None\n",
      "None\n",
      "None\n",
      "None\n",
      "None\n",
      "None\n",
      "None\n",
      "None\n",
      "None\n",
      "None\n",
      "None\n",
      "None\n",
      "None\n",
      "None\n",
      "None\n",
      "None\n",
      "None\n",
      "None\n",
      "None\n",
      "None\n",
      "None\n",
      "None\n",
      "None\n",
      "None\n",
      "None\n",
      "None\n",
      "None\n",
      "None\n",
      "None\n",
      "None\n",
      "None\n",
      "None\n",
      "None\n",
      "None\n",
      "None\n",
      "None\n",
      "None\n",
      "None\n",
      "None\n",
      "None\n",
      "None\n",
      "None\n",
      "None\n",
      "None\n",
      "None\n",
      "None\n",
      "None\n",
      "None\n",
      "None\n",
      "None\n",
      "None\n",
      "None\n",
      "None\n",
      "None\n",
      "None\n",
      "None\n",
      "None\n",
      "None\n",
      "None\n",
      "None\n",
      "None\n",
      "None\n",
      "None\n",
      "None\n",
      "None\n",
      "None\n",
      "None\n",
      "None\n",
      "None\n",
      "None\n",
      "None\n",
      "None\n",
      "None\n",
      "None\n",
      "None\n",
      "None\n",
      "None\n",
      "None\n",
      "None\n",
      "None\n",
      "None\n",
      "None\n",
      "None\n",
      "None\n",
      "None\n",
      "None\n",
      "None\n",
      "None\n",
      "None\n",
      "None\n",
      "None\n",
      "None\n",
      "None\n",
      "None\n",
      "None\n",
      "None\n",
      "None\n",
      "None\n",
      "None\n",
      "None\n",
      "None\n",
      "None\n",
      "None\n",
      "None\n",
      "None\n",
      "None\n",
      "None\n",
      "None\n",
      "None\n",
      "None\n",
      "None\n",
      "None\n",
      "None\n",
      "None\n",
      "None\n",
      "None\n",
      "None\n",
      "None\n",
      "None\n",
      "None\n",
      "None\n",
      "None\n",
      "None\n",
      "None\n",
      "None\n",
      "None\n",
      "None\n",
      "None\n",
      "None\n",
      "None\n",
      "None\n",
      "None\n",
      "None\n",
      "None\n",
      "None\n",
      "None\n",
      "None\n",
      "None\n",
      "None\n",
      "None\n",
      "None\n",
      "None\n",
      "None\n",
      "None\n",
      "None\n",
      "None\n",
      "None\n",
      "None\n",
      "None\n",
      "None\n",
      "None\n",
      "None\n",
      "None\n",
      "None\n",
      "None\n",
      "None\n",
      "None\n",
      "None\n",
      "None\n",
      "None\n",
      "None\n",
      "None\n",
      "None\n",
      "None\n",
      "None\n",
      "None\n",
      "None\n",
      "None\n",
      "None\n",
      "None\n",
      "None\n",
      "None\n",
      "None\n",
      "None\n",
      "None\n",
      "None\n",
      "None\n",
      "None\n",
      "None\n",
      "None\n",
      "None\n",
      "None\n",
      "None\n",
      "None\n",
      "None\n",
      "None\n",
      "None\n",
      "None\n",
      "None\n",
      "None\n",
      "None\n",
      "None\n",
      "None\n",
      "None\n",
      "None\n",
      "None\n",
      "None\n",
      "None\n",
      "None\n",
      "None\n",
      "None\n",
      "None\n",
      "None\n",
      "None\n",
      "None\n",
      "None\n",
      "None\n",
      "None\n",
      "None\n",
      "None\n",
      "None\n",
      "None\n",
      "None\n",
      "None\n",
      "None\n",
      "None\n",
      "None\n",
      "None\n",
      "None\n",
      "None\n",
      "None\n",
      "None\n",
      "None\n",
      "None\n",
      "None\n",
      "None\n",
      "None\n",
      "None\n",
      "None\n",
      "None\n",
      "None\n",
      "None\n",
      "None\n",
      "None\n",
      "None\n",
      "None\n",
      "None\n",
      "None\n",
      "None\n",
      "None\n",
      "None\n",
      "None\n",
      "None\n",
      "None\n",
      "None\n",
      "None\n",
      "None\n",
      "None\n",
      "None\n",
      "None\n",
      "None\n",
      "None\n",
      "None\n",
      "None\n",
      "None\n",
      "None\n",
      "None\n",
      "None\n",
      "None\n",
      "None\n",
      "None\n",
      "None\n",
      "None\n",
      "None\n",
      "None\n",
      "None\n",
      "None\n",
      "None\n",
      "None\n",
      "None\n",
      "None\n",
      "None\n",
      "None\n",
      "None\n",
      "None\n",
      "None\n",
      "None\n",
      "None\n",
      "None\n",
      "None\n",
      "None\n",
      "None\n",
      "None\n",
      "None\n",
      "None\n",
      "None\n",
      "None\n",
      "None\n",
      "None\n",
      "None\n",
      "None\n",
      "None\n",
      "None\n",
      "None\n",
      "None\n",
      "None\n",
      "None\n",
      "None\n",
      "None\n",
      "None\n",
      "None\n",
      "None\n",
      "None\n",
      "None\n",
      "None\n",
      "None\n",
      "None\n",
      "None\n",
      "None\n",
      "None\n",
      "None\n",
      "None\n",
      "None\n",
      "None\n",
      "None\n",
      "None\n",
      "None\n",
      "None\n",
      "None\n",
      "None\n",
      "None\n",
      "None\n",
      "None\n",
      "None\n",
      "None\n",
      "None\n",
      "None\n",
      "None\n",
      "None\n",
      "None\n",
      "None\n",
      "None\n",
      "None\n",
      "None\n",
      "None\n",
      "None\n",
      "None\n",
      "None\n",
      "None\n",
      "None\n",
      "None\n",
      "None\n",
      "None\n",
      "None\n",
      "None\n",
      "None\n",
      "None\n",
      "None\n",
      "None\n",
      "None\n",
      "None\n",
      "None\n",
      "None\n",
      "None\n",
      "None\n",
      "None\n",
      "None\n",
      "None\n",
      "None\n",
      "None\n",
      "None\n",
      "None\n",
      "None\n",
      "None\n",
      "None\n",
      "None\n",
      "None\n",
      "None\n",
      "None\n",
      "None\n",
      "None\n",
      "None\n",
      "None\n",
      "None\n",
      "None\n",
      "None\n",
      "None\n",
      "None\n",
      "None\n",
      "None\n",
      "None\n",
      "None\n",
      "None\n",
      "None\n",
      "None\n",
      "None\n",
      "None\n",
      "None\n",
      "None\n",
      "None\n",
      "None\n",
      "None\n",
      "None\n",
      "None\n",
      "None\n",
      "None\n",
      "None\n",
      "None\n",
      "None\n",
      "None\n",
      "None\n",
      "None\n",
      "None\n",
      "None\n",
      "None\n",
      "None\n",
      "None\n",
      "None\n",
      "None\n",
      "None\n",
      "None\n",
      "None\n",
      "None\n",
      "None\n",
      "None\n",
      "None\n",
      "None\n",
      "None\n",
      "None\n",
      "None\n",
      "None\n",
      "None\n",
      "None\n",
      "None\n",
      "None\n",
      "None\n",
      "None\n",
      "None\n",
      "None\n",
      "None\n",
      "None\n",
      "None\n",
      "None\n",
      "None\n",
      "None\n",
      "None\n",
      "None\n",
      "None\n",
      "None\n",
      "None\n",
      "None\n",
      "None\n",
      "None\n",
      "None\n",
      "None\n",
      "None\n",
      "None\n",
      "None\n",
      "None\n",
      "None\n",
      "None\n",
      "None\n",
      "None\n",
      "None\n",
      "None\n",
      "None\n",
      "None\n",
      "None\n",
      "None\n",
      "None\n",
      "None\n",
      "None\n",
      "None\n",
      "None\n",
      "None\n",
      "None\n"
     ]
    }
   ],
   "source": [
    "import os\n",
    "import pandas as pd\n",
    "path=r\"C:\\Users\\user\\OneDrive\\Desktop\\praveen\\phonepe\\data\\top\\transaction\\country\\india\\state\"\n",
    "Agg_state_list=os.listdir(path)\n",
    "c2={'State':[], 'Year':[],'Quater':[],'Districts':[],'Transaction_Count':[],'Transaction_amount':[] }\n",
    "c3={'State':[], 'Year':[],'Quater':[],'PinCodes':[],'Transaction_Count':[],'Transaction_amount':[] }\n",
    "a=0\n",
    "p=['Andaman & Nicobar', 'Andhra Pradesh', 'Arunachal Pradesh',\n",
    "       'Assam', 'Bihar', 'Chandigarh', 'Chhattisgarh',\n",
    "       'Dadra and Nagar Haveli and Daman and Diu', 'Delhi', 'Goa',\n",
    "       'Gujarat', 'Haryana', 'Himachal Pradesh', 'Jammu & Kashmir',\n",
    "       'Jharkhand', 'Karnataka', 'Kerala', 'Ladakh', 'Lakshadweep',\n",
    "       'Madhya Pradesh', 'Maharashtra', 'Manipur', 'Meghalaya', 'Mizoram',\n",
    "       'Nagaland', 'Odisha', 'Puducherry', 'Punjab', 'Rajasthan',\n",
    "       'Sikkim', 'Tamil Nadu', 'Telangana', 'Tripura', 'Uttarakhand',\n",
    "       'Uttar Pradesh', 'West Bengal']\n",
    "\n",
    "for i in Agg_state_list: \n",
    "    p_i=path+'/'+i \n",
    "    Agg_yr=os.listdir(p_i)\n",
    "    for j in Agg_yr: \n",
    "        p_j=p_i+'/'+j\n",
    "        agg_yr_list=os.listdir(p_j)\n",
    "        for k in agg_yr_list: \n",
    "            p_k=p_j+'/'+k\n",
    "            d=pd.read_json(p_k)\n",
    "            print(d['data']['states'])\n",
    "            #for x in d['data']['districts']:\n",
    "            #    c2['State'].append(p[a])\n",
    "            #    c2['Year'].append(j)\n",
    "            #    c2['Quater'].append(int(k.strip('.json')))\n",
    "            #    c2['Districts'].append(x['entityName'])\n",
    "            #    c2['Transaction_Count'].append(x['metric']['count'])\n",
    "            #    c2['Transaction_amount'].append(x['metric']['amount'])\n",
    "            #for y in d['data']['pincodes']: \n",
    "            #    c3['State'].append(p[a])\n",
    "            #    c3['Year'].append(j)\n",
    "            #    c3['Quater'].append(int(k.strip('.json')))\n",
    "            #    c3['PinCodes'].append(y['entityName'])\n",
    "            #    c3['Transaction_Count'].append(y['metric']['count'])\n",
    "            #    c3['Transaction_amount'].append(y['metric']['amount'])\n",
    "\n",
    "    a+=1"
   ]
  },
  {
   "cell_type": "code",
   "execution_count": 150,
   "metadata": {},
   "outputs": [],
   "source": [
    "top_dis=pd.DataFrame(c2)"
   ]
  },
  {
   "cell_type": "code",
   "execution_count": 151,
   "metadata": {},
   "outputs": [
    {
     "data": {
      "text/html": [
       "<div>\n",
       "<style scoped>\n",
       "    .dataframe tbody tr th:only-of-type {\n",
       "        vertical-align: middle;\n",
       "    }\n",
       "\n",
       "    .dataframe tbody tr th {\n",
       "        vertical-align: top;\n",
       "    }\n",
       "\n",
       "    .dataframe thead th {\n",
       "        text-align: right;\n",
       "    }\n",
       "</style>\n",
       "<table border=\"1\" class=\"dataframe\">\n",
       "  <thead>\n",
       "    <tr style=\"text-align: right;\">\n",
       "      <th></th>\n",
       "      <th>State</th>\n",
       "      <th>Year</th>\n",
       "      <th>Quater</th>\n",
       "      <th>Districts</th>\n",
       "      <th>Transaction_Count</th>\n",
       "      <th>Transaction_amount</th>\n",
       "    </tr>\n",
       "  </thead>\n",
       "  <tbody>\n",
       "    <tr>\n",
       "      <th>0</th>\n",
       "      <td>Andaman &amp; Nicobar</td>\n",
       "      <td>2018</td>\n",
       "      <td>1</td>\n",
       "      <td>south andaman</td>\n",
       "      <td>5688</td>\n",
       "      <td>1.256025e+07</td>\n",
       "    </tr>\n",
       "    <tr>\n",
       "      <th>1</th>\n",
       "      <td>Andaman &amp; Nicobar</td>\n",
       "      <td>2018</td>\n",
       "      <td>1</td>\n",
       "      <td>nicobars</td>\n",
       "      <td>528</td>\n",
       "      <td>1.139849e+06</td>\n",
       "    </tr>\n",
       "    <tr>\n",
       "      <th>2</th>\n",
       "      <td>Andaman &amp; Nicobar</td>\n",
       "      <td>2018</td>\n",
       "      <td>1</td>\n",
       "      <td>north and middle andaman</td>\n",
       "      <td>442</td>\n",
       "      <td>9.316631e+05</td>\n",
       "    </tr>\n",
       "    <tr>\n",
       "      <th>3</th>\n",
       "      <td>Andaman &amp; Nicobar</td>\n",
       "      <td>2018</td>\n",
       "      <td>2</td>\n",
       "      <td>south andaman</td>\n",
       "      <td>9395</td>\n",
       "      <td>2.394824e+07</td>\n",
       "    </tr>\n",
       "    <tr>\n",
       "      <th>4</th>\n",
       "      <td>Andaman &amp; Nicobar</td>\n",
       "      <td>2018</td>\n",
       "      <td>2</td>\n",
       "      <td>nicobars</td>\n",
       "      <td>1120</td>\n",
       "      <td>3.072437e+06</td>\n",
       "    </tr>\n",
       "    <tr>\n",
       "      <th>...</th>\n",
       "      <td>...</td>\n",
       "      <td>...</td>\n",
       "      <td>...</td>\n",
       "      <td>...</td>\n",
       "      <td>...</td>\n",
       "      <td>...</td>\n",
       "    </tr>\n",
       "    <tr>\n",
       "      <th>7099</th>\n",
       "      <td>West Bengal</td>\n",
       "      <td>2023</td>\n",
       "      <td>4</td>\n",
       "      <td>hooghly</td>\n",
       "      <td>36891845</td>\n",
       "      <td>6.416468e+10</td>\n",
       "    </tr>\n",
       "    <tr>\n",
       "      <th>7100</th>\n",
       "      <td>West Bengal</td>\n",
       "      <td>2023</td>\n",
       "      <td>4</td>\n",
       "      <td>howrah</td>\n",
       "      <td>36819833</td>\n",
       "      <td>6.686319e+10</td>\n",
       "    </tr>\n",
       "    <tr>\n",
       "      <th>7101</th>\n",
       "      <td>West Bengal</td>\n",
       "      <td>2023</td>\n",
       "      <td>4</td>\n",
       "      <td>nadia</td>\n",
       "      <td>36242432</td>\n",
       "      <td>6.879568e+10</td>\n",
       "    </tr>\n",
       "    <tr>\n",
       "      <th>7102</th>\n",
       "      <td>West Bengal</td>\n",
       "      <td>2023</td>\n",
       "      <td>4</td>\n",
       "      <td>paschim medinipur</td>\n",
       "      <td>35655256</td>\n",
       "      <td>5.968304e+10</td>\n",
       "    </tr>\n",
       "    <tr>\n",
       "      <th>7103</th>\n",
       "      <td>West Bengal</td>\n",
       "      <td>2023</td>\n",
       "      <td>4</td>\n",
       "      <td>paschim bardhaman</td>\n",
       "      <td>35429318</td>\n",
       "      <td>4.995276e+10</td>\n",
       "    </tr>\n",
       "  </tbody>\n",
       "</table>\n",
       "<p>7104 rows × 6 columns</p>\n",
       "</div>"
      ],
      "text/plain": [
       "                  State  Year  Quater                 Districts  \\\n",
       "0     Andaman & Nicobar  2018       1             south andaman   \n",
       "1     Andaman & Nicobar  2018       1                  nicobars   \n",
       "2     Andaman & Nicobar  2018       1  north and middle andaman   \n",
       "3     Andaman & Nicobar  2018       2             south andaman   \n",
       "4     Andaman & Nicobar  2018       2                  nicobars   \n",
       "...                 ...   ...     ...                       ...   \n",
       "7099        West Bengal  2023       4                   hooghly   \n",
       "7100        West Bengal  2023       4                    howrah   \n",
       "7101        West Bengal  2023       4                     nadia   \n",
       "7102        West Bengal  2023       4         paschim medinipur   \n",
       "7103        West Bengal  2023       4         paschim bardhaman   \n",
       "\n",
       "      Transaction_Count  Transaction_amount  \n",
       "0                  5688        1.256025e+07  \n",
       "1                   528        1.139849e+06  \n",
       "2                   442        9.316631e+05  \n",
       "3                  9395        2.394824e+07  \n",
       "4                  1120        3.072437e+06  \n",
       "...                 ...                 ...  \n",
       "7099           36891845        6.416468e+10  \n",
       "7100           36819833        6.686319e+10  \n",
       "7101           36242432        6.879568e+10  \n",
       "7102           35655256        5.968304e+10  \n",
       "7103           35429318        4.995276e+10  \n",
       "\n",
       "[7104 rows x 6 columns]"
      ]
     },
     "execution_count": 151,
     "metadata": {},
     "output_type": "execute_result"
    }
   ],
   "source": [
    "top_dis"
   ]
  },
  {
   "cell_type": "code",
   "execution_count": 153,
   "metadata": {},
   "outputs": [],
   "source": [
    "top_dis.to_csv(r'C:\\Users\\user\\OneDrive\\Desktop\\praveen\\savefolder\\toptransdis.csv')"
   ]
  },
  {
   "cell_type": "code",
   "execution_count": 165,
   "metadata": {},
   "outputs": [],
   "source": [
    "top_pin=pd.DataFrame(c3)"
   ]
  },
  {
   "cell_type": "code",
   "execution_count": 167,
   "metadata": {},
   "outputs": [],
   "source": [
    "top_pin.to_csv(r'C:\\Users\\user\\OneDrive\\Desktop\\praveen\\savefolder\\pincodes.csv')"
   ]
  },
  {
   "cell_type": "code",
   "execution_count": 11,
   "metadata": {},
   "outputs": [],
   "source": [
    "import os\n",
    "import pandas as pd\n",
    "path=r\"C:\\Users\\user\\OneDrive\\Desktop\\praveen\\phonepe\\data\\top\\user\\country\\india\\state\"\n",
    "Agg_state_list=os.listdir(path)\n",
    "clm5={'State':[], 'Year':[],'Quater':[],'Districts':[],'RegisteredUsers':[]}\n",
    "a=0\n",
    "p=['Andaman & Nicobar', 'Andhra Pradesh', 'Arunachal Pradesh',\n",
    "       'Assam', 'Bihar', 'Chandigarh', 'Chhattisgarh',\n",
    "       'Dadra and Nagar Haveli and Daman and Diu', 'Delhi', 'Goa',\n",
    "       'Gujarat', 'Haryana', 'Himachal Pradesh', 'Jammu & Kashmir',\n",
    "       'Jharkhand', 'Karnataka', 'Kerala', 'Ladakh', 'Lakshadweep',\n",
    "       'Madhya Pradesh', 'Maharashtra', 'Manipur', 'Meghalaya', 'Mizoram',\n",
    "       'Nagaland', 'Odisha', 'Puducherry', 'Punjab', 'Rajasthan',\n",
    "       'Sikkim', 'Tamil Nadu', 'Telangana', 'Tripura', 'Uttarakhand',\n",
    "       'Uttar Pradesh', 'West Bengal']\n",
    "\n",
    "for i in Agg_state_list: \n",
    "    p_i=path+'/'+i \n",
    "    Agg_yr=os.listdir(p_i)\n",
    "    for j in Agg_yr: \n",
    "        p_j=p_i+'/'+j\n",
    "        agg_yr_list=os.listdir(p_j)\n",
    "        for k in agg_yr_list: \n",
    "            p_k=p_j+'/'+k\n",
    "            d=pd.read_json(p_k)\n",
    "            for x in d['data']['districts']: \n",
    "                clm5['State'].append(p[a])\n",
    "                clm5['Year'].append(j)\n",
    "                clm5['Quater'].append(int(k.strip('.json')))\n",
    "                clm5['Districts'].append(x['name'])\n",
    "                clm5['RegisteredUsers'].append(x['registeredUsers'])\n",
    "    a+=1"
   ]
  },
  {
   "cell_type": "code",
   "execution_count": 12,
   "metadata": {},
   "outputs": [],
   "source": [
    "top_user=pd.DataFrame(clm5)"
   ]
  },
  {
   "cell_type": "code",
   "execution_count": 14,
   "metadata": {},
   "outputs": [],
   "source": [
    "top_user.to_csv(r'C:\\Users\\user\\OneDrive\\Desktop\\praveen\\savefolder\\topuser.csv')"
   ]
  },
  {
   "cell_type": "code",
   "execution_count": 1,
   "metadata": {},
   "outputs": [
    {
     "name": "stdout",
     "output_type": "stream",
     "text": [
      "Collecting streamlit-option-menu\n",
      "  Downloading streamlit_option_menu-0.3.12-py3-none-any.whl.metadata (2.5 kB)\n",
      "Requirement already satisfied: streamlit>=0.63 in c:\\users\\user\\onedrive\\desktop\\praveen\\guvi\\lib\\site-packages (from streamlit-option-menu) (1.33.0)\n",
      "Requirement already satisfied: altair<6,>=4.0 in c:\\users\\user\\onedrive\\desktop\\praveen\\guvi\\lib\\site-packages (from streamlit>=0.63->streamlit-option-menu) (5.3.0)\n",
      "Requirement already satisfied: blinker<2,>=1.0.0 in c:\\users\\user\\onedrive\\desktop\\praveen\\guvi\\lib\\site-packages (from streamlit>=0.63->streamlit-option-menu) (1.7.0)\n",
      "Requirement already satisfied: cachetools<6,>=4.0 in c:\\users\\user\\onedrive\\desktop\\praveen\\guvi\\lib\\site-packages (from streamlit>=0.63->streamlit-option-menu) (5.3.3)\n",
      "Requirement already satisfied: click<9,>=7.0 in c:\\users\\user\\onedrive\\desktop\\praveen\\guvi\\lib\\site-packages (from streamlit>=0.63->streamlit-option-menu) (8.1.7)\n",
      "Requirement already satisfied: numpy<2,>=1.19.3 in c:\\users\\user\\onedrive\\desktop\\praveen\\guvi\\lib\\site-packages (from streamlit>=0.63->streamlit-option-menu) (1.26.4)\n",
      "Requirement already satisfied: packaging<25,>=16.8 in c:\\users\\user\\onedrive\\desktop\\praveen\\guvi\\lib\\site-packages (from streamlit>=0.63->streamlit-option-menu) (23.2)\n",
      "Requirement already satisfied: pandas<3,>=1.3.0 in c:\\users\\user\\onedrive\\desktop\\praveen\\guvi\\lib\\site-packages (from streamlit>=0.63->streamlit-option-menu) (2.2.1)\n",
      "Requirement already satisfied: pillow<11,>=7.1.0 in c:\\users\\user\\onedrive\\desktop\\praveen\\guvi\\lib\\site-packages (from streamlit>=0.63->streamlit-option-menu) (10.2.0)\n",
      "Requirement already satisfied: protobuf<5,>=3.20 in c:\\users\\user\\onedrive\\desktop\\praveen\\guvi\\lib\\site-packages (from streamlit>=0.63->streamlit-option-menu) (4.25.3)\n",
      "Requirement already satisfied: pyarrow>=7.0 in c:\\users\\user\\onedrive\\desktop\\praveen\\guvi\\lib\\site-packages (from streamlit>=0.63->streamlit-option-menu) (15.0.2)\n",
      "Requirement already satisfied: requests<3,>=2.27 in c:\\users\\user\\onedrive\\desktop\\praveen\\guvi\\lib\\site-packages (from streamlit>=0.63->streamlit-option-menu) (2.31.0)\n",
      "Requirement already satisfied: rich<14,>=10.14.0 in c:\\users\\user\\onedrive\\desktop\\praveen\\guvi\\lib\\site-packages (from streamlit>=0.63->streamlit-option-menu) (13.7.1)\n",
      "Requirement already satisfied: tenacity<9,>=8.1.0 in c:\\users\\user\\onedrive\\desktop\\praveen\\guvi\\lib\\site-packages (from streamlit>=0.63->streamlit-option-menu) (8.2.3)\n",
      "Requirement already satisfied: toml<2,>=0.10.1 in c:\\users\\user\\onedrive\\desktop\\praveen\\guvi\\lib\\site-packages (from streamlit>=0.63->streamlit-option-menu) (0.10.2)\n",
      "Requirement already satisfied: typing-extensions<5,>=4.3.0 in c:\\users\\user\\onedrive\\desktop\\praveen\\guvi\\lib\\site-packages (from streamlit>=0.63->streamlit-option-menu) (4.10.0)\n",
      "Requirement already satisfied: gitpython!=3.1.19,<4,>=3.0.7 in c:\\users\\user\\onedrive\\desktop\\praveen\\guvi\\lib\\site-packages (from streamlit>=0.63->streamlit-option-menu) (3.1.43)\n",
      "Requirement already satisfied: pydeck<1,>=0.8.0b4 in c:\\users\\user\\onedrive\\desktop\\praveen\\guvi\\lib\\site-packages (from streamlit>=0.63->streamlit-option-menu) (0.8.1b0)\n",
      "Requirement already satisfied: tornado<7,>=6.0.3 in c:\\users\\user\\onedrive\\desktop\\praveen\\guvi\\lib\\site-packages (from streamlit>=0.63->streamlit-option-menu) (6.4)\n",
      "Requirement already satisfied: watchdog>=2.1.5 in c:\\users\\user\\onedrive\\desktop\\praveen\\guvi\\lib\\site-packages (from streamlit>=0.63->streamlit-option-menu) (4.0.0)\n",
      "Requirement already satisfied: jinja2 in c:\\users\\user\\onedrive\\desktop\\praveen\\guvi\\lib\\site-packages (from altair<6,>=4.0->streamlit>=0.63->streamlit-option-menu) (3.1.3)\n",
      "Requirement already satisfied: jsonschema>=3.0 in c:\\users\\user\\onedrive\\desktop\\praveen\\guvi\\lib\\site-packages (from altair<6,>=4.0->streamlit>=0.63->streamlit-option-menu) (4.21.1)\n",
      "Requirement already satisfied: toolz in c:\\users\\user\\onedrive\\desktop\\praveen\\guvi\\lib\\site-packages (from altair<6,>=4.0->streamlit>=0.63->streamlit-option-menu) (0.12.1)\n",
      "Requirement already satisfied: colorama in c:\\users\\user\\onedrive\\desktop\\praveen\\guvi\\lib\\site-packages (from click<9,>=7.0->streamlit>=0.63->streamlit-option-menu) (0.4.6)\n",
      "Requirement already satisfied: gitdb<5,>=4.0.1 in c:\\users\\user\\onedrive\\desktop\\praveen\\guvi\\lib\\site-packages (from gitpython!=3.1.19,<4,>=3.0.7->streamlit>=0.63->streamlit-option-menu) (4.0.11)\n",
      "Requirement already satisfied: python-dateutil>=2.8.2 in c:\\users\\user\\onedrive\\desktop\\praveen\\guvi\\lib\\site-packages (from pandas<3,>=1.3.0->streamlit>=0.63->streamlit-option-menu) (2.9.0.post0)\n",
      "Requirement already satisfied: pytz>=2020.1 in c:\\users\\user\\onedrive\\desktop\\praveen\\guvi\\lib\\site-packages (from pandas<3,>=1.3.0->streamlit>=0.63->streamlit-option-menu) (2024.1)\n",
      "Requirement already satisfied: tzdata>=2022.7 in c:\\users\\user\\onedrive\\desktop\\praveen\\guvi\\lib\\site-packages (from pandas<3,>=1.3.0->streamlit>=0.63->streamlit-option-menu) (2024.1)\n",
      "Requirement already satisfied: charset-normalizer<4,>=2 in c:\\users\\user\\onedrive\\desktop\\praveen\\guvi\\lib\\site-packages (from requests<3,>=2.27->streamlit>=0.63->streamlit-option-menu) (3.3.2)\n",
      "Requirement already satisfied: idna<4,>=2.5 in c:\\users\\user\\onedrive\\desktop\\praveen\\guvi\\lib\\site-packages (from requests<3,>=2.27->streamlit>=0.63->streamlit-option-menu) (3.6)\n",
      "Requirement already satisfied: urllib3<3,>=1.21.1 in c:\\users\\user\\onedrive\\desktop\\praveen\\guvi\\lib\\site-packages (from requests<3,>=2.27->streamlit>=0.63->streamlit-option-menu) (2.2.1)\n",
      "Requirement already satisfied: certifi>=2017.4.17 in c:\\users\\user\\onedrive\\desktop\\praveen\\guvi\\lib\\site-packages (from requests<3,>=2.27->streamlit>=0.63->streamlit-option-menu) (2024.2.2)\n",
      "Requirement already satisfied: markdown-it-py>=2.2.0 in c:\\users\\user\\onedrive\\desktop\\praveen\\guvi\\lib\\site-packages (from rich<14,>=10.14.0->streamlit>=0.63->streamlit-option-menu) (3.0.0)\n",
      "Requirement already satisfied: pygments<3.0.0,>=2.13.0 in c:\\users\\user\\onedrive\\desktop\\praveen\\guvi\\lib\\site-packages (from rich<14,>=10.14.0->streamlit>=0.63->streamlit-option-menu) (2.17.2)\n",
      "Requirement already satisfied: smmap<6,>=3.0.1 in c:\\users\\user\\onedrive\\desktop\\praveen\\guvi\\lib\\site-packages (from gitdb<5,>=4.0.1->gitpython!=3.1.19,<4,>=3.0.7->streamlit>=0.63->streamlit-option-menu) (5.0.1)\n",
      "Requirement already satisfied: MarkupSafe>=2.0 in c:\\users\\user\\onedrive\\desktop\\praveen\\guvi\\lib\\site-packages (from jinja2->altair<6,>=4.0->streamlit>=0.63->streamlit-option-menu) (2.1.5)\n",
      "Requirement already satisfied: attrs>=22.2.0 in c:\\users\\user\\onedrive\\desktop\\praveen\\guvi\\lib\\site-packages (from jsonschema>=3.0->altair<6,>=4.0->streamlit>=0.63->streamlit-option-menu) (23.2.0)\n",
      "Requirement already satisfied: jsonschema-specifications>=2023.03.6 in c:\\users\\user\\onedrive\\desktop\\praveen\\guvi\\lib\\site-packages (from jsonschema>=3.0->altair<6,>=4.0->streamlit>=0.63->streamlit-option-menu) (2023.12.1)\n",
      "Requirement already satisfied: referencing>=0.28.4 in c:\\users\\user\\onedrive\\desktop\\praveen\\guvi\\lib\\site-packages (from jsonschema>=3.0->altair<6,>=4.0->streamlit>=0.63->streamlit-option-menu) (0.34.0)\n",
      "Requirement already satisfied: rpds-py>=0.7.1 in c:\\users\\user\\onedrive\\desktop\\praveen\\guvi\\lib\\site-packages (from jsonschema>=3.0->altair<6,>=4.0->streamlit>=0.63->streamlit-option-menu) (0.18.0)\n",
      "Requirement already satisfied: mdurl~=0.1 in c:\\users\\user\\onedrive\\desktop\\praveen\\guvi\\lib\\site-packages (from markdown-it-py>=2.2.0->rich<14,>=10.14.0->streamlit>=0.63->streamlit-option-menu) (0.1.2)\n",
      "Requirement already satisfied: six>=1.5 in c:\\users\\user\\onedrive\\desktop\\praveen\\guvi\\lib\\site-packages (from python-dateutil>=2.8.2->pandas<3,>=1.3.0->streamlit>=0.63->streamlit-option-menu) (1.16.0)\n",
      "Downloading streamlit_option_menu-0.3.12-py3-none-any.whl (822 kB)\n",
      "   ---------------------------------------- 0.0/822.1 kB ? eta -:--:--\n",
      "   ---------------------------------------- 10.2/822.1 kB ? eta -:--:--\n",
      "   - ------------------------------------- 41.0/822.1 kB 653.6 kB/s eta 0:00:02\n",
      "   ------------------ --------------------- 378.9/822.1 kB 3.4 MB/s eta 0:00:01\n",
      "   ---------------------------------------  819.2/822.1 kB 5.2 MB/s eta 0:00:01\n",
      "   ---------------------------------------- 822.1/822.1 kB 4.3 MB/s eta 0:00:00\n",
      "Installing collected packages: streamlit-option-menu\n",
      "Successfully installed streamlit-option-menu-0.3.12\n",
      "Note: you may need to restart the kernel to use updated packages.\n"
     ]
    }
   ],
   "source": [
    "pip install streamlit-option-menu"
   ]
  },
  {
   "cell_type": "code",
   "execution_count": 2,
   "metadata": {},
   "outputs": [],
   "source": [
    "import PIL"
   ]
  },
  {
   "cell_type": "code",
   "execution_count": 3,
   "metadata": {},
   "outputs": [],
   "source": [
    "from PIL import Image"
   ]
  },
  {
   "cell_type": "code",
   "execution_count": 4,
   "metadata": {},
   "outputs": [
    {
     "data": {
      "application/vnd.plotly.v1+json": {
       "config": {
        "plotlyServerURL": "https://plot.ly"
       },
       "data": [
        {
         "coloraxis": "coloraxis",
         "featureidkey": "properties.ST_NM",
         "geo": "geo",
         "geojson": "https://gist.githubusercontent.com/jbrobst/56c13bbbf9d97d187fea01ca62ea5112/raw/e388c4cae20aa53cb5090210a42ebb9b765c0a36/india_states.geojson",
         "hovertemplate": "state=%{location}<br>active cases=%{z}<extra></extra>",
         "locations": [
          "Andaman & Nicobar",
          "Andhra Pradesh",
          "Arunachal Pradesh",
          "Assam",
          "Bihar",
          "Chandigarh",
          "Chhattisgarh",
          "Dadra and Nagar Haveli and Daman and Diu",
          "Delhi",
          "Goa",
          "Gujarat",
          "Haryana",
          "Himachal Pradesh",
          "Jammu & Kashmir",
          "Jharkhand",
          "Karnataka",
          "Kerala",
          "Ladakh",
          "Madhya Pradesh",
          "Maharashtra",
          "Manipur",
          "Meghalaya",
          "Mizoram",
          "Nagaland",
          "Odisha",
          "Puducherry",
          "Punjab",
          "Rajasthan",
          "Sikkim",
          "Tamil Nadu",
          "Telangana",
          "Tripura",
          "Uttarakhand",
          "Uttar Pradesh",
          "West Bengal"
         ],
         "name": "",
         "type": "choropleth",
         "z": [
          47,
          18159,
          387,
          6818,
          7549,
          164,
          1260,
          179,
          17407,
          1272,
          11289,
          5495,
          382,
          5488,
          2069,
          30661,
          5376,
          176,
          5562,
          114947,
          635,
          309,
          112,
          525,
          4436,
          774,
          2587,
          6666,
          155,
          46717,
          13327,
          676,
          937,
          15720,
          13679
         ]
        }
       ],
       "layout": {
        "coloraxis": {
         "colorbar": {
          "title": {
           "text": "active cases"
          }
         },
         "colorscale": [
          [
           0,
           "rgb(255,245,240)"
          ],
          [
           0.125,
           "rgb(254,224,210)"
          ],
          [
           0.25,
           "rgb(252,187,161)"
          ],
          [
           0.375,
           "rgb(252,146,114)"
          ],
          [
           0.5,
           "rgb(251,106,74)"
          ],
          [
           0.625,
           "rgb(239,59,44)"
          ],
          [
           0.75,
           "rgb(203,24,29)"
          ],
          [
           0.875,
           "rgb(165,15,21)"
          ],
          [
           1,
           "rgb(103,0,13)"
          ]
         ]
        },
        "geo": {
         "center": {},
         "domain": {
          "x": [
           0,
           1
          ],
          "y": [
           0,
           1
          ]
         },
         "fitbounds": "locations",
         "visible": false
        },
        "legend": {
         "tracegroupgap": 0
        },
        "margin": {
         "t": 60
        },
        "template": {
         "data": {
          "bar": [
           {
            "error_x": {
             "color": "#2a3f5f"
            },
            "error_y": {
             "color": "#2a3f5f"
            },
            "marker": {
             "line": {
              "color": "#E5ECF6",
              "width": 0.5
             },
             "pattern": {
              "fillmode": "overlay",
              "size": 10,
              "solidity": 0.2
             }
            },
            "type": "bar"
           }
          ],
          "barpolar": [
           {
            "marker": {
             "line": {
              "color": "#E5ECF6",
              "width": 0.5
             },
             "pattern": {
              "fillmode": "overlay",
              "size": 10,
              "solidity": 0.2
             }
            },
            "type": "barpolar"
           }
          ],
          "carpet": [
           {
            "aaxis": {
             "endlinecolor": "#2a3f5f",
             "gridcolor": "white",
             "linecolor": "white",
             "minorgridcolor": "white",
             "startlinecolor": "#2a3f5f"
            },
            "baxis": {
             "endlinecolor": "#2a3f5f",
             "gridcolor": "white",
             "linecolor": "white",
             "minorgridcolor": "white",
             "startlinecolor": "#2a3f5f"
            },
            "type": "carpet"
           }
          ],
          "choropleth": [
           {
            "colorbar": {
             "outlinewidth": 0,
             "ticks": ""
            },
            "type": "choropleth"
           }
          ],
          "contour": [
           {
            "colorbar": {
             "outlinewidth": 0,
             "ticks": ""
            },
            "colorscale": [
             [
              0,
              "#0d0887"
             ],
             [
              0.1111111111111111,
              "#46039f"
             ],
             [
              0.2222222222222222,
              "#7201a8"
             ],
             [
              0.3333333333333333,
              "#9c179e"
             ],
             [
              0.4444444444444444,
              "#bd3786"
             ],
             [
              0.5555555555555556,
              "#d8576b"
             ],
             [
              0.6666666666666666,
              "#ed7953"
             ],
             [
              0.7777777777777778,
              "#fb9f3a"
             ],
             [
              0.8888888888888888,
              "#fdca26"
             ],
             [
              1,
              "#f0f921"
             ]
            ],
            "type": "contour"
           }
          ],
          "contourcarpet": [
           {
            "colorbar": {
             "outlinewidth": 0,
             "ticks": ""
            },
            "type": "contourcarpet"
           }
          ],
          "heatmap": [
           {
            "colorbar": {
             "outlinewidth": 0,
             "ticks": ""
            },
            "colorscale": [
             [
              0,
              "#0d0887"
             ],
             [
              0.1111111111111111,
              "#46039f"
             ],
             [
              0.2222222222222222,
              "#7201a8"
             ],
             [
              0.3333333333333333,
              "#9c179e"
             ],
             [
              0.4444444444444444,
              "#bd3786"
             ],
             [
              0.5555555555555556,
              "#d8576b"
             ],
             [
              0.6666666666666666,
              "#ed7953"
             ],
             [
              0.7777777777777778,
              "#fb9f3a"
             ],
             [
              0.8888888888888888,
              "#fdca26"
             ],
             [
              1,
              "#f0f921"
             ]
            ],
            "type": "heatmap"
           }
          ],
          "heatmapgl": [
           {
            "colorbar": {
             "outlinewidth": 0,
             "ticks": ""
            },
            "colorscale": [
             [
              0,
              "#0d0887"
             ],
             [
              0.1111111111111111,
              "#46039f"
             ],
             [
              0.2222222222222222,
              "#7201a8"
             ],
             [
              0.3333333333333333,
              "#9c179e"
             ],
             [
              0.4444444444444444,
              "#bd3786"
             ],
             [
              0.5555555555555556,
              "#d8576b"
             ],
             [
              0.6666666666666666,
              "#ed7953"
             ],
             [
              0.7777777777777778,
              "#fb9f3a"
             ],
             [
              0.8888888888888888,
              "#fdca26"
             ],
             [
              1,
              "#f0f921"
             ]
            ],
            "type": "heatmapgl"
           }
          ],
          "histogram": [
           {
            "marker": {
             "pattern": {
              "fillmode": "overlay",
              "size": 10,
              "solidity": 0.2
             }
            },
            "type": "histogram"
           }
          ],
          "histogram2d": [
           {
            "colorbar": {
             "outlinewidth": 0,
             "ticks": ""
            },
            "colorscale": [
             [
              0,
              "#0d0887"
             ],
             [
              0.1111111111111111,
              "#46039f"
             ],
             [
              0.2222222222222222,
              "#7201a8"
             ],
             [
              0.3333333333333333,
              "#9c179e"
             ],
             [
              0.4444444444444444,
              "#bd3786"
             ],
             [
              0.5555555555555556,
              "#d8576b"
             ],
             [
              0.6666666666666666,
              "#ed7953"
             ],
             [
              0.7777777777777778,
              "#fb9f3a"
             ],
             [
              0.8888888888888888,
              "#fdca26"
             ],
             [
              1,
              "#f0f921"
             ]
            ],
            "type": "histogram2d"
           }
          ],
          "histogram2dcontour": [
           {
            "colorbar": {
             "outlinewidth": 0,
             "ticks": ""
            },
            "colorscale": [
             [
              0,
              "#0d0887"
             ],
             [
              0.1111111111111111,
              "#46039f"
             ],
             [
              0.2222222222222222,
              "#7201a8"
             ],
             [
              0.3333333333333333,
              "#9c179e"
             ],
             [
              0.4444444444444444,
              "#bd3786"
             ],
             [
              0.5555555555555556,
              "#d8576b"
             ],
             [
              0.6666666666666666,
              "#ed7953"
             ],
             [
              0.7777777777777778,
              "#fb9f3a"
             ],
             [
              0.8888888888888888,
              "#fdca26"
             ],
             [
              1,
              "#f0f921"
             ]
            ],
            "type": "histogram2dcontour"
           }
          ],
          "mesh3d": [
           {
            "colorbar": {
             "outlinewidth": 0,
             "ticks": ""
            },
            "type": "mesh3d"
           }
          ],
          "parcoords": [
           {
            "line": {
             "colorbar": {
              "outlinewidth": 0,
              "ticks": ""
             }
            },
            "type": "parcoords"
           }
          ],
          "pie": [
           {
            "automargin": true,
            "type": "pie"
           }
          ],
          "scatter": [
           {
            "fillpattern": {
             "fillmode": "overlay",
             "size": 10,
             "solidity": 0.2
            },
            "type": "scatter"
           }
          ],
          "scatter3d": [
           {
            "line": {
             "colorbar": {
              "outlinewidth": 0,
              "ticks": ""
             }
            },
            "marker": {
             "colorbar": {
              "outlinewidth": 0,
              "ticks": ""
             }
            },
            "type": "scatter3d"
           }
          ],
          "scattercarpet": [
           {
            "marker": {
             "colorbar": {
              "outlinewidth": 0,
              "ticks": ""
             }
            },
            "type": "scattercarpet"
           }
          ],
          "scattergeo": [
           {
            "marker": {
             "colorbar": {
              "outlinewidth": 0,
              "ticks": ""
             }
            },
            "type": "scattergeo"
           }
          ],
          "scattergl": [
           {
            "marker": {
             "colorbar": {
              "outlinewidth": 0,
              "ticks": ""
             }
            },
            "type": "scattergl"
           }
          ],
          "scattermapbox": [
           {
            "marker": {
             "colorbar": {
              "outlinewidth": 0,
              "ticks": ""
             }
            },
            "type": "scattermapbox"
           }
          ],
          "scatterpolar": [
           {
            "marker": {
             "colorbar": {
              "outlinewidth": 0,
              "ticks": ""
             }
            },
            "type": "scatterpolar"
           }
          ],
          "scatterpolargl": [
           {
            "marker": {
             "colorbar": {
              "outlinewidth": 0,
              "ticks": ""
             }
            },
            "type": "scatterpolargl"
           }
          ],
          "scatterternary": [
           {
            "marker": {
             "colorbar": {
              "outlinewidth": 0,
              "ticks": ""
             }
            },
            "type": "scatterternary"
           }
          ],
          "surface": [
           {
            "colorbar": {
             "outlinewidth": 0,
             "ticks": ""
            },
            "colorscale": [
             [
              0,
              "#0d0887"
             ],
             [
              0.1111111111111111,
              "#46039f"
             ],
             [
              0.2222222222222222,
              "#7201a8"
             ],
             [
              0.3333333333333333,
              "#9c179e"
             ],
             [
              0.4444444444444444,
              "#bd3786"
             ],
             [
              0.5555555555555556,
              "#d8576b"
             ],
             [
              0.6666666666666666,
              "#ed7953"
             ],
             [
              0.7777777777777778,
              "#fb9f3a"
             ],
             [
              0.8888888888888888,
              "#fdca26"
             ],
             [
              1,
              "#f0f921"
             ]
            ],
            "type": "surface"
           }
          ],
          "table": [
           {
            "cells": {
             "fill": {
              "color": "#EBF0F8"
             },
             "line": {
              "color": "white"
             }
            },
            "header": {
             "fill": {
              "color": "#C8D4E3"
             },
             "line": {
              "color": "white"
             }
            },
            "type": "table"
           }
          ]
         },
         "layout": {
          "annotationdefaults": {
           "arrowcolor": "#2a3f5f",
           "arrowhead": 0,
           "arrowwidth": 1
          },
          "autotypenumbers": "strict",
          "coloraxis": {
           "colorbar": {
            "outlinewidth": 0,
            "ticks": ""
           }
          },
          "colorscale": {
           "diverging": [
            [
             0,
             "#8e0152"
            ],
            [
             0.1,
             "#c51b7d"
            ],
            [
             0.2,
             "#de77ae"
            ],
            [
             0.3,
             "#f1b6da"
            ],
            [
             0.4,
             "#fde0ef"
            ],
            [
             0.5,
             "#f7f7f7"
            ],
            [
             0.6,
             "#e6f5d0"
            ],
            [
             0.7,
             "#b8e186"
            ],
            [
             0.8,
             "#7fbc41"
            ],
            [
             0.9,
             "#4d9221"
            ],
            [
             1,
             "#276419"
            ]
           ],
           "sequential": [
            [
             0,
             "#0d0887"
            ],
            [
             0.1111111111111111,
             "#46039f"
            ],
            [
             0.2222222222222222,
             "#7201a8"
            ],
            [
             0.3333333333333333,
             "#9c179e"
            ],
            [
             0.4444444444444444,
             "#bd3786"
            ],
            [
             0.5555555555555556,
             "#d8576b"
            ],
            [
             0.6666666666666666,
             "#ed7953"
            ],
            [
             0.7777777777777778,
             "#fb9f3a"
            ],
            [
             0.8888888888888888,
             "#fdca26"
            ],
            [
             1,
             "#f0f921"
            ]
           ],
           "sequentialminus": [
            [
             0,
             "#0d0887"
            ],
            [
             0.1111111111111111,
             "#46039f"
            ],
            [
             0.2222222222222222,
             "#7201a8"
            ],
            [
             0.3333333333333333,
             "#9c179e"
            ],
            [
             0.4444444444444444,
             "#bd3786"
            ],
            [
             0.5555555555555556,
             "#d8576b"
            ],
            [
             0.6666666666666666,
             "#ed7953"
            ],
            [
             0.7777777777777778,
             "#fb9f3a"
            ],
            [
             0.8888888888888888,
             "#fdca26"
            ],
            [
             1,
             "#f0f921"
            ]
           ]
          },
          "colorway": [
           "#636efa",
           "#EF553B",
           "#00cc96",
           "#ab63fa",
           "#FFA15A",
           "#19d3f3",
           "#FF6692",
           "#B6E880",
           "#FF97FF",
           "#FECB52"
          ],
          "font": {
           "color": "#2a3f5f"
          },
          "geo": {
           "bgcolor": "white",
           "lakecolor": "white",
           "landcolor": "#E5ECF6",
           "showlakes": true,
           "showland": true,
           "subunitcolor": "white"
          },
          "hoverlabel": {
           "align": "left"
          },
          "hovermode": "closest",
          "mapbox": {
           "style": "light"
          },
          "paper_bgcolor": "white",
          "plot_bgcolor": "#E5ECF6",
          "polar": {
           "angularaxis": {
            "gridcolor": "white",
            "linecolor": "white",
            "ticks": ""
           },
           "bgcolor": "#E5ECF6",
           "radialaxis": {
            "gridcolor": "white",
            "linecolor": "white",
            "ticks": ""
           }
          },
          "scene": {
           "xaxis": {
            "backgroundcolor": "#E5ECF6",
            "gridcolor": "white",
            "gridwidth": 2,
            "linecolor": "white",
            "showbackground": true,
            "ticks": "",
            "zerolinecolor": "white"
           },
           "yaxis": {
            "backgroundcolor": "#E5ECF6",
            "gridcolor": "white",
            "gridwidth": 2,
            "linecolor": "white",
            "showbackground": true,
            "ticks": "",
            "zerolinecolor": "white"
           },
           "zaxis": {
            "backgroundcolor": "#E5ECF6",
            "gridcolor": "white",
            "gridwidth": 2,
            "linecolor": "white",
            "showbackground": true,
            "ticks": "",
            "zerolinecolor": "white"
           }
          },
          "shapedefaults": {
           "line": {
            "color": "#2a3f5f"
           }
          },
          "ternary": {
           "aaxis": {
            "gridcolor": "white",
            "linecolor": "white",
            "ticks": ""
           },
           "baxis": {
            "gridcolor": "white",
            "linecolor": "white",
            "ticks": ""
           },
           "bgcolor": "#E5ECF6",
           "caxis": {
            "gridcolor": "white",
            "linecolor": "white",
            "ticks": ""
           }
          },
          "title": {
           "x": 0.05
          },
          "xaxis": {
           "automargin": true,
           "gridcolor": "white",
           "linecolor": "white",
           "ticks": "",
           "title": {
            "standoff": 15
           },
           "zerolinecolor": "white",
           "zerolinewidth": 2
          },
          "yaxis": {
           "automargin": true,
           "gridcolor": "white",
           "linecolor": "white",
           "ticks": "",
           "title": {
            "standoff": 15
           },
           "zerolinecolor": "white",
           "zerolinewidth": 2
          }
         }
        }
       }
      }
     },
     "metadata": {},
     "output_type": "display_data"
    }
   ],
   "source": [
    "import pandas as pd\n",
    "import plotly.express as px\n",
    "\n",
    "df = pd.read_csv(\"https://gist.githubusercontent.com/jbrobst/56c13bbbf9d97d187fea01ca62ea5112/raw/e388c4cae20aa53cb5090210a42ebb9b765c0a36/active_cases_2020-07-17_0800.csv\")\n",
    "\n",
    "fig = px.choropleth(\n",
    "    df,\n",
    "    geojson=\"https://gist.githubusercontent.com/jbrobst/56c13bbbf9d97d187fea01ca62ea5112/raw/e388c4cae20aa53cb5090210a42ebb9b765c0a36/india_states.geojson\",\n",
    "    featureidkey='properties.ST_NM',\n",
    "    locations='state',\n",
    "    color='active cases',\n",
    "    color_continuous_scale='Reds'\n",
    ")\n",
    "\n",
    "fig.update_geos(fitbounds=\"locations\", visible=False)\n",
    "\n",
    "fig.show()"
   ]
  },
  {
   "cell_type": "code",
   "execution_count": 111,
   "metadata": {},
   "outputs": [],
   "source": [
    "mycursor.execute('use phonepe')"
   ]
  },
  {
   "cell_type": "code",
   "execution_count": 68,
   "metadata": {},
   "outputs": [
    {
     "data": {
      "text/html": [
       "<div>\n",
       "<style scoped>\n",
       "    .dataframe tbody tr th:only-of-type {\n",
       "        vertical-align: middle;\n",
       "    }\n",
       "\n",
       "    .dataframe tbody tr th {\n",
       "        vertical-align: top;\n",
       "    }\n",
       "\n",
       "    .dataframe thead th {\n",
       "        text-align: right;\n",
       "    }\n",
       "</style>\n",
       "<table border=\"1\" class=\"dataframe\">\n",
       "  <thead>\n",
       "    <tr style=\"text-align: right;\">\n",
       "      <th></th>\n",
       "      <th>id</th>\n",
       "      <th>State</th>\n",
       "      <th>Year</th>\n",
       "      <th>Quater</th>\n",
       "      <th>brand</th>\n",
       "      <th>Count</th>\n",
       "    </tr>\n",
       "  </thead>\n",
       "  <tbody>\n",
       "    <tr>\n",
       "      <th>0</th>\n",
       "      <td>89</td>\n",
       "      <td>Andaman &amp; Nicobar</td>\n",
       "      <td>2020</td>\n",
       "      <td>1</td>\n",
       "      <td>Vivo</td>\n",
       "      <td>5880</td>\n",
       "    </tr>\n",
       "    <tr>\n",
       "      <th>1</th>\n",
       "      <td>277</td>\n",
       "      <td>Andhra Pradesh</td>\n",
       "      <td>2020</td>\n",
       "      <td>1</td>\n",
       "      <td>Vivo</td>\n",
       "      <td>2165012</td>\n",
       "    </tr>\n",
       "    <tr>\n",
       "      <th>2</th>\n",
       "      <td>463</td>\n",
       "      <td>Arunachal Pradesh</td>\n",
       "      <td>2020</td>\n",
       "      <td>1</td>\n",
       "      <td>Vivo</td>\n",
       "      <td>31742</td>\n",
       "    </tr>\n",
       "    <tr>\n",
       "      <th>3</th>\n",
       "      <td>650</td>\n",
       "      <td>Assam</td>\n",
       "      <td>2020</td>\n",
       "      <td>1</td>\n",
       "      <td>Vivo</td>\n",
       "      <td>410865</td>\n",
       "    </tr>\n",
       "    <tr>\n",
       "      <th>4</th>\n",
       "      <td>838</td>\n",
       "      <td>Bihar</td>\n",
       "      <td>2020</td>\n",
       "      <td>1</td>\n",
       "      <td>Vivo</td>\n",
       "      <td>1297671</td>\n",
       "    </tr>\n",
       "    <tr>\n",
       "      <th>5</th>\n",
       "      <td>1025</td>\n",
       "      <td>Chandigarh</td>\n",
       "      <td>2020</td>\n",
       "      <td>1</td>\n",
       "      <td>Vivo</td>\n",
       "      <td>49864</td>\n",
       "    </tr>\n",
       "    <tr>\n",
       "      <th>6</th>\n",
       "      <td>1211</td>\n",
       "      <td>Chhattisgarh</td>\n",
       "      <td>2020</td>\n",
       "      <td>1</td>\n",
       "      <td>Vivo</td>\n",
       "      <td>613952</td>\n",
       "    </tr>\n",
       "    <tr>\n",
       "      <th>7</th>\n",
       "      <td>1398</td>\n",
       "      <td>Dadra and Nagar Haveli and Daman and Diu</td>\n",
       "      <td>2020</td>\n",
       "      <td>1</td>\n",
       "      <td>Vivo</td>\n",
       "      <td>48874</td>\n",
       "    </tr>\n",
       "    <tr>\n",
       "      <th>8</th>\n",
       "      <td>1586</td>\n",
       "      <td>Delhi</td>\n",
       "      <td>2020</td>\n",
       "      <td>1</td>\n",
       "      <td>Vivo</td>\n",
       "      <td>1238728</td>\n",
       "    </tr>\n",
       "    <tr>\n",
       "      <th>9</th>\n",
       "      <td>1773</td>\n",
       "      <td>Goa</td>\n",
       "      <td>2020</td>\n",
       "      <td>1</td>\n",
       "      <td>Vivo</td>\n",
       "      <td>54965</td>\n",
       "    </tr>\n",
       "    <tr>\n",
       "      <th>10</th>\n",
       "      <td>1959</td>\n",
       "      <td>Gujarat</td>\n",
       "      <td>2020</td>\n",
       "      <td>1</td>\n",
       "      <td>Vivo</td>\n",
       "      <td>2206536</td>\n",
       "    </tr>\n",
       "    <tr>\n",
       "      <th>11</th>\n",
       "      <td>2147</td>\n",
       "      <td>Haryana</td>\n",
       "      <td>2020</td>\n",
       "      <td>1</td>\n",
       "      <td>Vivo</td>\n",
       "      <td>1250165</td>\n",
       "    </tr>\n",
       "    <tr>\n",
       "      <th>12</th>\n",
       "      <td>2334</td>\n",
       "      <td>Himachal Pradesh</td>\n",
       "      <td>2020</td>\n",
       "      <td>1</td>\n",
       "      <td>Vivo</td>\n",
       "      <td>142220</td>\n",
       "    </tr>\n",
       "    <tr>\n",
       "      <th>13</th>\n",
       "      <td>2521</td>\n",
       "      <td>Jammu &amp; Kashmir</td>\n",
       "      <td>2020</td>\n",
       "      <td>1</td>\n",
       "      <td>Vivo</td>\n",
       "      <td>99861</td>\n",
       "    </tr>\n",
       "    <tr>\n",
       "      <th>14</th>\n",
       "      <td>2708</td>\n",
       "      <td>Jharkhand</td>\n",
       "      <td>2020</td>\n",
       "      <td>1</td>\n",
       "      <td>Vivo</td>\n",
       "      <td>564210</td>\n",
       "    </tr>\n",
       "    <tr>\n",
       "      <th>15</th>\n",
       "      <td>2895</td>\n",
       "      <td>Karnataka</td>\n",
       "      <td>2020</td>\n",
       "      <td>1</td>\n",
       "      <td>Vivo</td>\n",
       "      <td>3081057</td>\n",
       "    </tr>\n",
       "    <tr>\n",
       "      <th>16</th>\n",
       "      <td>3082</td>\n",
       "      <td>Kerala</td>\n",
       "      <td>2020</td>\n",
       "      <td>1</td>\n",
       "      <td>Vivo</td>\n",
       "      <td>448326</td>\n",
       "    </tr>\n",
       "    <tr>\n",
       "      <th>17</th>\n",
       "      <td>3268</td>\n",
       "      <td>Ladakh</td>\n",
       "      <td>2020</td>\n",
       "      <td>1</td>\n",
       "      <td>Vivo</td>\n",
       "      <td>10052</td>\n",
       "    </tr>\n",
       "    <tr>\n",
       "      <th>18</th>\n",
       "      <td>3455</td>\n",
       "      <td>Lakshadweep</td>\n",
       "      <td>2020</td>\n",
       "      <td>1</td>\n",
       "      <td>Vivo</td>\n",
       "      <td>548</td>\n",
       "    </tr>\n",
       "    <tr>\n",
       "      <th>19</th>\n",
       "      <td>3642</td>\n",
       "      <td>Madhya Pradesh</td>\n",
       "      <td>2020</td>\n",
       "      <td>1</td>\n",
       "      <td>Vivo</td>\n",
       "      <td>1956817</td>\n",
       "    </tr>\n",
       "    <tr>\n",
       "      <th>20</th>\n",
       "      <td>3830</td>\n",
       "      <td>Maharashtra</td>\n",
       "      <td>2020</td>\n",
       "      <td>1</td>\n",
       "      <td>Vivo</td>\n",
       "      <td>4396537</td>\n",
       "    </tr>\n",
       "    <tr>\n",
       "      <th>21</th>\n",
       "      <td>4017</td>\n",
       "      <td>Manipur</td>\n",
       "      <td>2020</td>\n",
       "      <td>1</td>\n",
       "      <td>Vivo</td>\n",
       "      <td>20017</td>\n",
       "    </tr>\n",
       "    <tr>\n",
       "      <th>22</th>\n",
       "      <td>4204</td>\n",
       "      <td>Meghalaya</td>\n",
       "      <td>2020</td>\n",
       "      <td>1</td>\n",
       "      <td>Vivo</td>\n",
       "      <td>16379</td>\n",
       "    </tr>\n",
       "    <tr>\n",
       "      <th>23</th>\n",
       "      <td>4390</td>\n",
       "      <td>Mizoram</td>\n",
       "      <td>2020</td>\n",
       "      <td>1</td>\n",
       "      <td>Vivo</td>\n",
       "      <td>8211</td>\n",
       "    </tr>\n",
       "    <tr>\n",
       "      <th>24</th>\n",
       "      <td>4577</td>\n",
       "      <td>Nagaland</td>\n",
       "      <td>2020</td>\n",
       "      <td>1</td>\n",
       "      <td>Vivo</td>\n",
       "      <td>17452</td>\n",
       "    </tr>\n",
       "    <tr>\n",
       "      <th>25</th>\n",
       "      <td>4765</td>\n",
       "      <td>Odisha</td>\n",
       "      <td>2020</td>\n",
       "      <td>1</td>\n",
       "      <td>Vivo</td>\n",
       "      <td>1006170</td>\n",
       "    </tr>\n",
       "    <tr>\n",
       "      <th>26</th>\n",
       "      <td>4952</td>\n",
       "      <td>Puducherry</td>\n",
       "      <td>2020</td>\n",
       "      <td>1</td>\n",
       "      <td>Vivo</td>\n",
       "      <td>41283</td>\n",
       "    </tr>\n",
       "    <tr>\n",
       "      <th>27</th>\n",
       "      <td>5139</td>\n",
       "      <td>Punjab</td>\n",
       "      <td>2020</td>\n",
       "      <td>1</td>\n",
       "      <td>Vivo</td>\n",
       "      <td>654259</td>\n",
       "    </tr>\n",
       "    <tr>\n",
       "      <th>28</th>\n",
       "      <td>5325</td>\n",
       "      <td>Rajasthan</td>\n",
       "      <td>2020</td>\n",
       "      <td>1</td>\n",
       "      <td>Vivo</td>\n",
       "      <td>2582003</td>\n",
       "    </tr>\n",
       "    <tr>\n",
       "      <th>29</th>\n",
       "      <td>5513</td>\n",
       "      <td>Sikkim</td>\n",
       "      <td>2020</td>\n",
       "      <td>1</td>\n",
       "      <td>Vivo</td>\n",
       "      <td>15342</td>\n",
       "    </tr>\n",
       "    <tr>\n",
       "      <th>30</th>\n",
       "      <td>5700</td>\n",
       "      <td>Tamil Nadu</td>\n",
       "      <td>2020</td>\n",
       "      <td>1</td>\n",
       "      <td>Vivo</td>\n",
       "      <td>1937792</td>\n",
       "    </tr>\n",
       "    <tr>\n",
       "      <th>31</th>\n",
       "      <td>5887</td>\n",
       "      <td>Telangana</td>\n",
       "      <td>2020</td>\n",
       "      <td>1</td>\n",
       "      <td>Vivo</td>\n",
       "      <td>2072065</td>\n",
       "    </tr>\n",
       "    <tr>\n",
       "      <th>32</th>\n",
       "      <td>6075</td>\n",
       "      <td>Tripura</td>\n",
       "      <td>2020</td>\n",
       "      <td>1</td>\n",
       "      <td>Vivo</td>\n",
       "      <td>33266</td>\n",
       "    </tr>\n",
       "    <tr>\n",
       "      <th>33</th>\n",
       "      <td>6261</td>\n",
       "      <td>Uttarakhand</td>\n",
       "      <td>2020</td>\n",
       "      <td>1</td>\n",
       "      <td>Vivo</td>\n",
       "      <td>3239764</td>\n",
       "    </tr>\n",
       "    <tr>\n",
       "      <th>34</th>\n",
       "      <td>6448</td>\n",
       "      <td>Uttar Pradesh</td>\n",
       "      <td>2020</td>\n",
       "      <td>1</td>\n",
       "      <td>Vivo</td>\n",
       "      <td>319603</td>\n",
       "    </tr>\n",
       "    <tr>\n",
       "      <th>35</th>\n",
       "      <td>6635</td>\n",
       "      <td>West Bengal</td>\n",
       "      <td>2020</td>\n",
       "      <td>1</td>\n",
       "      <td>Vivo</td>\n",
       "      <td>1536003</td>\n",
       "    </tr>\n",
       "  </tbody>\n",
       "</table>\n",
       "</div>"
      ],
      "text/plain": [
       "      id                                     State  Year  Quater brand  \\\n",
       "0     89                         Andaman & Nicobar  2020       1  Vivo   \n",
       "1    277                            Andhra Pradesh  2020       1  Vivo   \n",
       "2    463                         Arunachal Pradesh  2020       1  Vivo   \n",
       "3    650                                     Assam  2020       1  Vivo   \n",
       "4    838                                     Bihar  2020       1  Vivo   \n",
       "5   1025                                Chandigarh  2020       1  Vivo   \n",
       "6   1211                              Chhattisgarh  2020       1  Vivo   \n",
       "7   1398  Dadra and Nagar Haveli and Daman and Diu  2020       1  Vivo   \n",
       "8   1586                                     Delhi  2020       1  Vivo   \n",
       "9   1773                                       Goa  2020       1  Vivo   \n",
       "10  1959                                   Gujarat  2020       1  Vivo   \n",
       "11  2147                                   Haryana  2020       1  Vivo   \n",
       "12  2334                          Himachal Pradesh  2020       1  Vivo   \n",
       "13  2521                           Jammu & Kashmir  2020       1  Vivo   \n",
       "14  2708                                 Jharkhand  2020       1  Vivo   \n",
       "15  2895                                 Karnataka  2020       1  Vivo   \n",
       "16  3082                                    Kerala  2020       1  Vivo   \n",
       "17  3268                                    Ladakh  2020       1  Vivo   \n",
       "18  3455                               Lakshadweep  2020       1  Vivo   \n",
       "19  3642                            Madhya Pradesh  2020       1  Vivo   \n",
       "20  3830                               Maharashtra  2020       1  Vivo   \n",
       "21  4017                                   Manipur  2020       1  Vivo   \n",
       "22  4204                                 Meghalaya  2020       1  Vivo   \n",
       "23  4390                                   Mizoram  2020       1  Vivo   \n",
       "24  4577                                  Nagaland  2020       1  Vivo   \n",
       "25  4765                                    Odisha  2020       1  Vivo   \n",
       "26  4952                                Puducherry  2020       1  Vivo   \n",
       "27  5139                                    Punjab  2020       1  Vivo   \n",
       "28  5325                                 Rajasthan  2020       1  Vivo   \n",
       "29  5513                                    Sikkim  2020       1  Vivo   \n",
       "30  5700                                Tamil Nadu  2020       1  Vivo   \n",
       "31  5887                                 Telangana  2020       1  Vivo   \n",
       "32  6075                                   Tripura  2020       1  Vivo   \n",
       "33  6261                               Uttarakhand  2020       1  Vivo   \n",
       "34  6448                             Uttar Pradesh  2020       1  Vivo   \n",
       "35  6635                               West Bengal  2020       1  Vivo   \n",
       "\n",
       "      Count  \n",
       "0      5880  \n",
       "1   2165012  \n",
       "2     31742  \n",
       "3    410865  \n",
       "4   1297671  \n",
       "5     49864  \n",
       "6    613952  \n",
       "7     48874  \n",
       "8   1238728  \n",
       "9     54965  \n",
       "10  2206536  \n",
       "11  1250165  \n",
       "12   142220  \n",
       "13    99861  \n",
       "14   564210  \n",
       "15  3081057  \n",
       "16   448326  \n",
       "17    10052  \n",
       "18      548  \n",
       "19  1956817  \n",
       "20  4396537  \n",
       "21    20017  \n",
       "22    16379  \n",
       "23     8211  \n",
       "24    17452  \n",
       "25  1006170  \n",
       "26    41283  \n",
       "27   654259  \n",
       "28  2582003  \n",
       "29    15342  \n",
       "30  1937792  \n",
       "31  2072065  \n",
       "32    33266  \n",
       "33  3239764  \n",
       "34   319603  \n",
       "35  1536003  "
      ]
     },
     "execution_count": 68,
     "metadata": {},
     "output_type": "execute_result"
    }
   ],
   "source": [
    "mycursor.execute(\"select * from aggusers where year=2020 and Quater=1 and brand='Vivo'\")\n",
    "out=mycursor.fetchall()\n",
    "header=[i[0] for i in mycursor.description]\n",
    "data=pd.DataFrame(out,columns=header)\n",
    "data"
   ]
  },
  {
   "cell_type": "code",
   "execution_count": 87,
   "metadata": {},
   "outputs": [
    {
     "data": {
      "text/html": [
       "<div>\n",
       "<style scoped>\n",
       "    .dataframe tbody tr th:only-of-type {\n",
       "        vertical-align: middle;\n",
       "    }\n",
       "\n",
       "    .dataframe tbody tr th {\n",
       "        vertical-align: top;\n",
       "    }\n",
       "\n",
       "    .dataframe thead th {\n",
       "        text-align: right;\n",
       "    }\n",
       "</style>\n",
       "<table border=\"1\" class=\"dataframe\">\n",
       "  <thead>\n",
       "    <tr style=\"text-align: right;\">\n",
       "      <th></th>\n",
       "      <th>id</th>\n",
       "      <th>State</th>\n",
       "      <th>Year</th>\n",
       "      <th>Quater</th>\n",
       "      <th>brand</th>\n",
       "      <th>Count</th>\n",
       "    </tr>\n",
       "  </thead>\n",
       "  <tbody>\n",
       "    <tr>\n",
       "      <th>0</th>\n",
       "      <td>89</td>\n",
       "      <td>Andaman &amp; Nicobar</td>\n",
       "      <td>2020</td>\n",
       "      <td>1</td>\n",
       "      <td>Vivo</td>\n",
       "      <td>5880</td>\n",
       "    </tr>\n",
       "    <tr>\n",
       "      <th>1</th>\n",
       "      <td>277</td>\n",
       "      <td>Andhra Pradesh</td>\n",
       "      <td>2020</td>\n",
       "      <td>1</td>\n",
       "      <td>Vivo</td>\n",
       "      <td>2165012</td>\n",
       "    </tr>\n",
       "    <tr>\n",
       "      <th>2</th>\n",
       "      <td>463</td>\n",
       "      <td>Arunachal Pradesh</td>\n",
       "      <td>2020</td>\n",
       "      <td>1</td>\n",
       "      <td>Vivo</td>\n",
       "      <td>31742</td>\n",
       "    </tr>\n",
       "    <tr>\n",
       "      <th>3</th>\n",
       "      <td>650</td>\n",
       "      <td>Assam</td>\n",
       "      <td>2020</td>\n",
       "      <td>1</td>\n",
       "      <td>Vivo</td>\n",
       "      <td>410865</td>\n",
       "    </tr>\n",
       "    <tr>\n",
       "      <th>4</th>\n",
       "      <td>838</td>\n",
       "      <td>Bihar</td>\n",
       "      <td>2020</td>\n",
       "      <td>1</td>\n",
       "      <td>Vivo</td>\n",
       "      <td>1297671</td>\n",
       "    </tr>\n",
       "  </tbody>\n",
       "</table>\n",
       "</div>"
      ],
      "text/plain": [
       "    id              State  Year  Quater brand    Count\n",
       "0   89  Andaman & Nicobar  2020       1  Vivo     5880\n",
       "1  277     Andhra Pradesh  2020       1  Vivo  2165012\n",
       "2  463  Arunachal Pradesh  2020       1  Vivo    31742\n",
       "3  650              Assam  2020       1  Vivo   410865\n",
       "4  838              Bihar  2020       1  Vivo  1297671"
      ]
     },
     "execution_count": 87,
     "metadata": {},
     "output_type": "execute_result"
    }
   ],
   "source": [
    "data.head()"
   ]
  },
  {
   "cell_type": "code",
   "execution_count": 28,
   "metadata": {},
   "outputs": [
    {
     "name": "stdout",
     "output_type": "stream",
     "text": [
      "<class 'pandas.core.frame.DataFrame'>\n",
      "RangeIndex: 36 entries, 0 to 35\n",
      "Data columns (total 6 columns):\n",
      " #   Column  Non-Null Count  Dtype \n",
      "---  ------  --------------  ----- \n",
      " 0   id      36 non-null     int64 \n",
      " 1   State   36 non-null     object\n",
      " 2   Year    36 non-null     int64 \n",
      " 3   Quater  36 non-null     int64 \n",
      " 4   brand   36 non-null     object\n",
      " 5   count   36 non-null     int64 \n",
      "dtypes: int64(4), object(2)\n",
      "memory usage: 1.8+ KB\n"
     ]
    }
   ],
   "source": [
    "data.info()"
   ]
  },
  {
   "cell_type": "code",
   "execution_count": 72,
   "metadata": {},
   "outputs": [
    {
     "data": {
      "application/vnd.plotly.v1+json": {
       "config": {
        "plotlyServerURL": "https://plot.ly"
       },
       "data": [
        {
         "coloraxis": "coloraxis",
         "featureidkey": "properties.ST_NM",
         "geo": "geo",
         "geojson": "https://gist.githubusercontent.com/jbrobst/56c13bbbf9d97d187fea01ca62ea5112/raw/e388c4cae20aa53cb5090210a42ebb9b765c0a36/india_states.geojson",
         "hovertemplate": "locations=%{location}<br>color=%{z}<extra></extra>",
         "locations": [
          "Andaman & Nicobar",
          "Andhra Pradesh",
          "Arunachal Pradesh",
          "Assam",
          "Bihar",
          "Chandigarh",
          "Chhattisgarh",
          "Dadra and Nagar Haveli and Daman and Diu",
          "Delhi",
          "Goa",
          "Gujarat",
          "Haryana",
          "Himachal Pradesh",
          "Jammu & Kashmir",
          "Jharkhand",
          "Karnataka",
          "Kerala",
          "Ladakh",
          "Lakshadweep",
          "Madhya Pradesh",
          "Maharashtra",
          "Manipur",
          "Meghalaya",
          "Mizoram",
          "Nagaland",
          "Odisha",
          "Puducherry",
          "Punjab",
          "Rajasthan",
          "Sikkim",
          "Tamil Nadu",
          "Telangana",
          "Tripura",
          "Uttarakhand",
          "Uttar Pradesh",
          "West Bengal"
         ],
         "name": "",
         "type": "choropleth",
         "z": [
          5880,
          2165012,
          31742,
          410865,
          1297671,
          49864,
          613952,
          48874,
          1238728,
          54965,
          2206536,
          1250165,
          142220,
          99861,
          564210,
          3081057,
          448326,
          10052,
          548,
          1956817,
          4396537,
          20017,
          16379,
          8211,
          17452,
          1006170,
          41283,
          654259,
          2582003,
          15342,
          1937792,
          2072065,
          33266,
          3239764,
          319603,
          1536003
         ]
        }
       ],
       "layout": {
        "coloraxis": {
         "colorbar": {
          "title": {
           "text": "color"
          }
         },
         "colorscale": [
          [
           0,
           "rgb(0, 155, 158)"
          ],
          [
           0.16666666666666666,
           "rgb(66, 183, 185)"
          ],
          [
           0.3333333333333333,
           "rgb(167, 211, 212)"
          ],
          [
           0.5,
           "rgb(241, 241, 241)"
          ],
          [
           0.6666666666666666,
           "rgb(228, 193, 217)"
          ],
          [
           0.8333333333333334,
           "rgb(214, 145, 193)"
          ],
          [
           1,
           "rgb(199, 93, 171)"
          ]
         ]
        },
        "geo": {
         "center": {},
         "domain": {
          "x": [
           0,
           1
          ],
          "y": [
           0,
           1
          ]
         },
         "fitbounds": "locations",
         "visible": false
        },
        "legend": {
         "tracegroupgap": 0
        },
        "margin": {
         "t": 60
        },
        "template": {
         "data": {
          "bar": [
           {
            "error_x": {
             "color": "#2a3f5f"
            },
            "error_y": {
             "color": "#2a3f5f"
            },
            "marker": {
             "line": {
              "color": "#E5ECF6",
              "width": 0.5
             },
             "pattern": {
              "fillmode": "overlay",
              "size": 10,
              "solidity": 0.2
             }
            },
            "type": "bar"
           }
          ],
          "barpolar": [
           {
            "marker": {
             "line": {
              "color": "#E5ECF6",
              "width": 0.5
             },
             "pattern": {
              "fillmode": "overlay",
              "size": 10,
              "solidity": 0.2
             }
            },
            "type": "barpolar"
           }
          ],
          "carpet": [
           {
            "aaxis": {
             "endlinecolor": "#2a3f5f",
             "gridcolor": "white",
             "linecolor": "white",
             "minorgridcolor": "white",
             "startlinecolor": "#2a3f5f"
            },
            "baxis": {
             "endlinecolor": "#2a3f5f",
             "gridcolor": "white",
             "linecolor": "white",
             "minorgridcolor": "white",
             "startlinecolor": "#2a3f5f"
            },
            "type": "carpet"
           }
          ],
          "choropleth": [
           {
            "colorbar": {
             "outlinewidth": 0,
             "ticks": ""
            },
            "type": "choropleth"
           }
          ],
          "contour": [
           {
            "colorbar": {
             "outlinewidth": 0,
             "ticks": ""
            },
            "colorscale": [
             [
              0,
              "#0d0887"
             ],
             [
              0.1111111111111111,
              "#46039f"
             ],
             [
              0.2222222222222222,
              "#7201a8"
             ],
             [
              0.3333333333333333,
              "#9c179e"
             ],
             [
              0.4444444444444444,
              "#bd3786"
             ],
             [
              0.5555555555555556,
              "#d8576b"
             ],
             [
              0.6666666666666666,
              "#ed7953"
             ],
             [
              0.7777777777777778,
              "#fb9f3a"
             ],
             [
              0.8888888888888888,
              "#fdca26"
             ],
             [
              1,
              "#f0f921"
             ]
            ],
            "type": "contour"
           }
          ],
          "contourcarpet": [
           {
            "colorbar": {
             "outlinewidth": 0,
             "ticks": ""
            },
            "type": "contourcarpet"
           }
          ],
          "heatmap": [
           {
            "colorbar": {
             "outlinewidth": 0,
             "ticks": ""
            },
            "colorscale": [
             [
              0,
              "#0d0887"
             ],
             [
              0.1111111111111111,
              "#46039f"
             ],
             [
              0.2222222222222222,
              "#7201a8"
             ],
             [
              0.3333333333333333,
              "#9c179e"
             ],
             [
              0.4444444444444444,
              "#bd3786"
             ],
             [
              0.5555555555555556,
              "#d8576b"
             ],
             [
              0.6666666666666666,
              "#ed7953"
             ],
             [
              0.7777777777777778,
              "#fb9f3a"
             ],
             [
              0.8888888888888888,
              "#fdca26"
             ],
             [
              1,
              "#f0f921"
             ]
            ],
            "type": "heatmap"
           }
          ],
          "heatmapgl": [
           {
            "colorbar": {
             "outlinewidth": 0,
             "ticks": ""
            },
            "colorscale": [
             [
              0,
              "#0d0887"
             ],
             [
              0.1111111111111111,
              "#46039f"
             ],
             [
              0.2222222222222222,
              "#7201a8"
             ],
             [
              0.3333333333333333,
              "#9c179e"
             ],
             [
              0.4444444444444444,
              "#bd3786"
             ],
             [
              0.5555555555555556,
              "#d8576b"
             ],
             [
              0.6666666666666666,
              "#ed7953"
             ],
             [
              0.7777777777777778,
              "#fb9f3a"
             ],
             [
              0.8888888888888888,
              "#fdca26"
             ],
             [
              1,
              "#f0f921"
             ]
            ],
            "type": "heatmapgl"
           }
          ],
          "histogram": [
           {
            "marker": {
             "pattern": {
              "fillmode": "overlay",
              "size": 10,
              "solidity": 0.2
             }
            },
            "type": "histogram"
           }
          ],
          "histogram2d": [
           {
            "colorbar": {
             "outlinewidth": 0,
             "ticks": ""
            },
            "colorscale": [
             [
              0,
              "#0d0887"
             ],
             [
              0.1111111111111111,
              "#46039f"
             ],
             [
              0.2222222222222222,
              "#7201a8"
             ],
             [
              0.3333333333333333,
              "#9c179e"
             ],
             [
              0.4444444444444444,
              "#bd3786"
             ],
             [
              0.5555555555555556,
              "#d8576b"
             ],
             [
              0.6666666666666666,
              "#ed7953"
             ],
             [
              0.7777777777777778,
              "#fb9f3a"
             ],
             [
              0.8888888888888888,
              "#fdca26"
             ],
             [
              1,
              "#f0f921"
             ]
            ],
            "type": "histogram2d"
           }
          ],
          "histogram2dcontour": [
           {
            "colorbar": {
             "outlinewidth": 0,
             "ticks": ""
            },
            "colorscale": [
             [
              0,
              "#0d0887"
             ],
             [
              0.1111111111111111,
              "#46039f"
             ],
             [
              0.2222222222222222,
              "#7201a8"
             ],
             [
              0.3333333333333333,
              "#9c179e"
             ],
             [
              0.4444444444444444,
              "#bd3786"
             ],
             [
              0.5555555555555556,
              "#d8576b"
             ],
             [
              0.6666666666666666,
              "#ed7953"
             ],
             [
              0.7777777777777778,
              "#fb9f3a"
             ],
             [
              0.8888888888888888,
              "#fdca26"
             ],
             [
              1,
              "#f0f921"
             ]
            ],
            "type": "histogram2dcontour"
           }
          ],
          "mesh3d": [
           {
            "colorbar": {
             "outlinewidth": 0,
             "ticks": ""
            },
            "type": "mesh3d"
           }
          ],
          "parcoords": [
           {
            "line": {
             "colorbar": {
              "outlinewidth": 0,
              "ticks": ""
             }
            },
            "type": "parcoords"
           }
          ],
          "pie": [
           {
            "automargin": true,
            "type": "pie"
           }
          ],
          "scatter": [
           {
            "fillpattern": {
             "fillmode": "overlay",
             "size": 10,
             "solidity": 0.2
            },
            "type": "scatter"
           }
          ],
          "scatter3d": [
           {
            "line": {
             "colorbar": {
              "outlinewidth": 0,
              "ticks": ""
             }
            },
            "marker": {
             "colorbar": {
              "outlinewidth": 0,
              "ticks": ""
             }
            },
            "type": "scatter3d"
           }
          ],
          "scattercarpet": [
           {
            "marker": {
             "colorbar": {
              "outlinewidth": 0,
              "ticks": ""
             }
            },
            "type": "scattercarpet"
           }
          ],
          "scattergeo": [
           {
            "marker": {
             "colorbar": {
              "outlinewidth": 0,
              "ticks": ""
             }
            },
            "type": "scattergeo"
           }
          ],
          "scattergl": [
           {
            "marker": {
             "colorbar": {
              "outlinewidth": 0,
              "ticks": ""
             }
            },
            "type": "scattergl"
           }
          ],
          "scattermapbox": [
           {
            "marker": {
             "colorbar": {
              "outlinewidth": 0,
              "ticks": ""
             }
            },
            "type": "scattermapbox"
           }
          ],
          "scatterpolar": [
           {
            "marker": {
             "colorbar": {
              "outlinewidth": 0,
              "ticks": ""
             }
            },
            "type": "scatterpolar"
           }
          ],
          "scatterpolargl": [
           {
            "marker": {
             "colorbar": {
              "outlinewidth": 0,
              "ticks": ""
             }
            },
            "type": "scatterpolargl"
           }
          ],
          "scatterternary": [
           {
            "marker": {
             "colorbar": {
              "outlinewidth": 0,
              "ticks": ""
             }
            },
            "type": "scatterternary"
           }
          ],
          "surface": [
           {
            "colorbar": {
             "outlinewidth": 0,
             "ticks": ""
            },
            "colorscale": [
             [
              0,
              "#0d0887"
             ],
             [
              0.1111111111111111,
              "#46039f"
             ],
             [
              0.2222222222222222,
              "#7201a8"
             ],
             [
              0.3333333333333333,
              "#9c179e"
             ],
             [
              0.4444444444444444,
              "#bd3786"
             ],
             [
              0.5555555555555556,
              "#d8576b"
             ],
             [
              0.6666666666666666,
              "#ed7953"
             ],
             [
              0.7777777777777778,
              "#fb9f3a"
             ],
             [
              0.8888888888888888,
              "#fdca26"
             ],
             [
              1,
              "#f0f921"
             ]
            ],
            "type": "surface"
           }
          ],
          "table": [
           {
            "cells": {
             "fill": {
              "color": "#EBF0F8"
             },
             "line": {
              "color": "white"
             }
            },
            "header": {
             "fill": {
              "color": "#C8D4E3"
             },
             "line": {
              "color": "white"
             }
            },
            "type": "table"
           }
          ]
         },
         "layout": {
          "annotationdefaults": {
           "arrowcolor": "#2a3f5f",
           "arrowhead": 0,
           "arrowwidth": 1
          },
          "autotypenumbers": "strict",
          "coloraxis": {
           "colorbar": {
            "outlinewidth": 0,
            "ticks": ""
           }
          },
          "colorscale": {
           "diverging": [
            [
             0,
             "#8e0152"
            ],
            [
             0.1,
             "#c51b7d"
            ],
            [
             0.2,
             "#de77ae"
            ],
            [
             0.3,
             "#f1b6da"
            ],
            [
             0.4,
             "#fde0ef"
            ],
            [
             0.5,
             "#f7f7f7"
            ],
            [
             0.6,
             "#e6f5d0"
            ],
            [
             0.7,
             "#b8e186"
            ],
            [
             0.8,
             "#7fbc41"
            ],
            [
             0.9,
             "#4d9221"
            ],
            [
             1,
             "#276419"
            ]
           ],
           "sequential": [
            [
             0,
             "#0d0887"
            ],
            [
             0.1111111111111111,
             "#46039f"
            ],
            [
             0.2222222222222222,
             "#7201a8"
            ],
            [
             0.3333333333333333,
             "#9c179e"
            ],
            [
             0.4444444444444444,
             "#bd3786"
            ],
            [
             0.5555555555555556,
             "#d8576b"
            ],
            [
             0.6666666666666666,
             "#ed7953"
            ],
            [
             0.7777777777777778,
             "#fb9f3a"
            ],
            [
             0.8888888888888888,
             "#fdca26"
            ],
            [
             1,
             "#f0f921"
            ]
           ],
           "sequentialminus": [
            [
             0,
             "#0d0887"
            ],
            [
             0.1111111111111111,
             "#46039f"
            ],
            [
             0.2222222222222222,
             "#7201a8"
            ],
            [
             0.3333333333333333,
             "#9c179e"
            ],
            [
             0.4444444444444444,
             "#bd3786"
            ],
            [
             0.5555555555555556,
             "#d8576b"
            ],
            [
             0.6666666666666666,
             "#ed7953"
            ],
            [
             0.7777777777777778,
             "#fb9f3a"
            ],
            [
             0.8888888888888888,
             "#fdca26"
            ],
            [
             1,
             "#f0f921"
            ]
           ]
          },
          "colorway": [
           "#636efa",
           "#EF553B",
           "#00cc96",
           "#ab63fa",
           "#FFA15A",
           "#19d3f3",
           "#FF6692",
           "#B6E880",
           "#FF97FF",
           "#FECB52"
          ],
          "font": {
           "color": "#2a3f5f"
          },
          "geo": {
           "bgcolor": "white",
           "lakecolor": "white",
           "landcolor": "#E5ECF6",
           "showlakes": true,
           "showland": true,
           "subunitcolor": "white"
          },
          "hoverlabel": {
           "align": "left"
          },
          "hovermode": "closest",
          "mapbox": {
           "style": "light"
          },
          "paper_bgcolor": "white",
          "plot_bgcolor": "#E5ECF6",
          "polar": {
           "angularaxis": {
            "gridcolor": "white",
            "linecolor": "white",
            "ticks": ""
           },
           "bgcolor": "#E5ECF6",
           "radialaxis": {
            "gridcolor": "white",
            "linecolor": "white",
            "ticks": ""
           }
          },
          "scene": {
           "xaxis": {
            "backgroundcolor": "#E5ECF6",
            "gridcolor": "white",
            "gridwidth": 2,
            "linecolor": "white",
            "showbackground": true,
            "ticks": "",
            "zerolinecolor": "white"
           },
           "yaxis": {
            "backgroundcolor": "#E5ECF6",
            "gridcolor": "white",
            "gridwidth": 2,
            "linecolor": "white",
            "showbackground": true,
            "ticks": "",
            "zerolinecolor": "white"
           },
           "zaxis": {
            "backgroundcolor": "#E5ECF6",
            "gridcolor": "white",
            "gridwidth": 2,
            "linecolor": "white",
            "showbackground": true,
            "ticks": "",
            "zerolinecolor": "white"
           }
          },
          "shapedefaults": {
           "line": {
            "color": "#2a3f5f"
           }
          },
          "ternary": {
           "aaxis": {
            "gridcolor": "white",
            "linecolor": "white",
            "ticks": ""
           },
           "baxis": {
            "gridcolor": "white",
            "linecolor": "white",
            "ticks": ""
           },
           "bgcolor": "#E5ECF6",
           "caxis": {
            "gridcolor": "white",
            "linecolor": "white",
            "ticks": ""
           }
          },
          "title": {
           "x": 0.05
          },
          "xaxis": {
           "automargin": true,
           "gridcolor": "white",
           "linecolor": "white",
           "ticks": "",
           "title": {
            "standoff": 15
           },
           "zerolinecolor": "white",
           "zerolinewidth": 2
          },
          "yaxis": {
           "automargin": true,
           "gridcolor": "white",
           "linecolor": "white",
           "ticks": "",
           "title": {
            "standoff": 15
           },
           "zerolinecolor": "white",
           "zerolinewidth": 2
          }
         }
        }
       }
      }
     },
     "metadata": {},
     "output_type": "display_data"
    }
   ],
   "source": [
    "import pandas as pd\n",
    "import plotly.express as px\n",
    "\n",
    "fig = px.choropleth(\n",
    "    df,\n",
    "    geojson=\"https://gist.githubusercontent.com/jbrobst/56c13bbbf9d97d187fea01ca62ea5112/raw/e388c4cae20aa53cb5090210a42ebb9b765c0a36/india_states.geojson\",\n",
    "    featureidkey='properties.ST_NM',\n",
    "    locations=data['State'],\n",
    "    color=data['Count'],\n",
    "    color_continuous_scale='tropic'\n",
    ")\n",
    "\n",
    "fig.update_geos(fitbounds=\"locations\",visible=False)\n",
    "\n",
    "fig.show()"
   ]
  },
  {
   "cell_type": "code",
   "execution_count": 149,
   "metadata": {},
   "outputs": [
    {
     "name": "stdout",
     "output_type": "stream",
     "text": [
      "                                       State  Transaction_amount\n",
      "0                          Andaman & Nicobar        1.463171e+07\n",
      "1                             Andhra Pradesh        1.199629e+10\n",
      "2                          Arunachal Pradesh        9.238733e+07\n",
      "3                                      Assam        1.157804e+09\n",
      "4                                      Bihar        6.045757e+09\n",
      "5                                 Chandigarh        6.134350e+08\n",
      "6                               Chhattisgarh        2.149154e+09\n",
      "7   Dadra and Nagar Haveli and Daman and Diu        1.756583e+08\n",
      "8                                      Delhi        1.121151e+10\n",
      "9                                        Goa        3.038560e+08\n",
      "10                                   Gujarat        7.577975e+09\n",
      "11                                   Haryana        6.793508e+09\n",
      "12                          Himachal Pradesh        6.287381e+08\n",
      "13                           Jammu & Kashmir        1.005371e+09\n",
      "14                                 Jharkhand        2.374187e+09\n",
      "15                                 Karnataka        1.921794e+10\n",
      "16                                    Kerala        2.402676e+09\n",
      "17                                    Ladakh        1.253286e+07\n",
      "18                               Lakshadweep        1.928610e+06\n",
      "19                            Madhya Pradesh        8.681599e+09\n",
      "20                               Maharashtra        2.171162e+10\n",
      "21                                   Manipur        1.280462e+08\n",
      "22                                 Meghalaya        6.625030e+07\n",
      "23                                   Mizoram        4.522725e+07\n",
      "24                                  Nagaland        7.800588e+07\n",
      "25                                    Odisha        4.627638e+09\n",
      "26                                Puducherry        1.658264e+08\n",
      "27                                    Punjab        2.780757e+09\n",
      "28                                 Rajasthan        8.926296e+09\n",
      "29                                    Sikkim        6.465097e+07\n",
      "30                                Tamil Nadu        1.126156e+10\n",
      "31                                 Telangana        1.330820e+10\n",
      "32                                   Tripura        1.379790e+08\n",
      "33                             Uttar Pradesh        1.508545e+09\n",
      "34                               Uttarakhand        1.393997e+10\n",
      "35                               West Bengal        1.062599e+10\n",
      "             State  Transaction_amount\n",
      "20     Maharashtra        2.171162e+10\n",
      "15       Karnataka        1.921794e+10\n",
      "34     Uttarakhand        1.393997e+10\n",
      "31       Telangana        1.330820e+10\n",
      "1   Andhra Pradesh        1.199629e+10\n",
      "30      Tamil Nadu        1.126156e+10\n",
      "8            Delhi        1.121151e+10\n",
      "35     West Bengal        1.062599e+10\n",
      "28       Rajasthan        8.926296e+09\n",
      "19  Madhya Pradesh        8.681599e+09\n"
     ]
    }
   ],
   "source": [
    "import pandas as pd\n",
    "mycursor.execute('''select * from maptrans''')\n",
    "out=mycursor.fetchall()\n",
    "header=[i[0] for i in mycursor.description]\n",
    "df=pd.DataFrame(out,columns=header)\n",
    "# Assuming your DataFrame is named df\n",
    "# Filter the DataFrame for the year 2018 and quarter 1\n",
    "filtered_df = df[(df['Year'] == 2018) & (df['Quater'] == 1)]\n",
    "# Group by state and sum the transaction amount\n",
    "result_amount = filtered_df.groupby('State')['Transaction_amount'].sum().reset_index()\n",
    "result_count = filtered_df.groupby('State')['Transaction_Count'].sum().reset_index()\n",
    "# Display the result\n",
    "print(result_amount)\n",
    "# Display the top 10 states\n",
    "top_10_states_amount = result_amount.nlargest(10, 'Transaction_amount')\n",
    "top_10_states_count = result_count.nlargest(10, 'Transaction_Count')\n",
    "print(top_10_states_amount)"
   ]
  },
  {
   "cell_type": "code",
   "execution_count": 150,
   "metadata": {},
   "outputs": [
    {
     "name": "stdout",
     "output_type": "stream",
     "text": [
      "                                       State  Transaction_amount\n",
      "0                          Andaman & Nicobar        1.463171e+07\n",
      "1                             Andhra Pradesh        1.199629e+10\n",
      "2                          Arunachal Pradesh        9.238733e+07\n",
      "3                                      Assam        1.157804e+09\n",
      "4                                      Bihar        6.045757e+09\n",
      "5                                 Chandigarh        6.134350e+08\n",
      "6                               Chhattisgarh        2.149154e+09\n",
      "7   Dadra and Nagar Haveli and Daman and Diu        1.756583e+08\n",
      "8                                      Delhi        1.121151e+10\n",
      "9                                        Goa        3.038560e+08\n",
      "10                                   Gujarat        7.577975e+09\n",
      "11                                   Haryana        6.793508e+09\n",
      "12                          Himachal Pradesh        6.287381e+08\n",
      "13                           Jammu & Kashmir        1.005371e+09\n",
      "14                                 Jharkhand        2.374187e+09\n",
      "15                                 Karnataka        1.921794e+10\n",
      "16                                    Kerala        2.402676e+09\n",
      "17                                    Ladakh        1.253286e+07\n",
      "18                               Lakshadweep        1.928610e+06\n",
      "19                            Madhya Pradesh        8.681599e+09\n",
      "20                               Maharashtra        2.171162e+10\n",
      "21                                   Manipur        1.280462e+08\n",
      "22                                 Meghalaya        6.625030e+07\n",
      "23                                   Mizoram        4.522725e+07\n",
      "24                                  Nagaland        7.800588e+07\n",
      "25                                    Odisha        4.627638e+09\n",
      "26                                Puducherry        1.658264e+08\n",
      "27                                    Punjab        2.780757e+09\n",
      "28                                 Rajasthan        8.926296e+09\n",
      "29                                    Sikkim        6.465097e+07\n",
      "30                                Tamil Nadu        1.126156e+10\n",
      "31                                 Telangana        1.330820e+10\n",
      "32                                   Tripura        1.379790e+08\n",
      "33                             Uttar Pradesh        1.508545e+09\n",
      "34                               Uttarakhand        1.393997e+10\n",
      "35                               West Bengal        1.062599e+10\n"
     ]
    }
   ],
   "source": [
    "print(result_amount)"
   ]
  },
  {
   "cell_type": "code",
   "execution_count": 151,
   "metadata": {},
   "outputs": [
    {
     "data": {
      "text/html": [
       "<div>\n",
       "<style scoped>\n",
       "    .dataframe tbody tr th:only-of-type {\n",
       "        vertical-align: middle;\n",
       "    }\n",
       "\n",
       "    .dataframe tbody tr th {\n",
       "        vertical-align: top;\n",
       "    }\n",
       "\n",
       "    .dataframe thead th {\n",
       "        text-align: right;\n",
       "    }\n",
       "</style>\n",
       "<table border=\"1\" class=\"dataframe\">\n",
       "  <thead>\n",
       "    <tr style=\"text-align: right;\">\n",
       "      <th></th>\n",
       "      <th>State</th>\n",
       "      <th>Transaction_Count</th>\n",
       "    </tr>\n",
       "  </thead>\n",
       "  <tbody>\n",
       "    <tr>\n",
       "      <th>0</th>\n",
       "      <td>Andaman &amp; Nicobar</td>\n",
       "      <td>6658</td>\n",
       "    </tr>\n",
       "    <tr>\n",
       "      <th>1</th>\n",
       "      <td>Andhra Pradesh</td>\n",
       "      <td>9039585</td>\n",
       "    </tr>\n",
       "    <tr>\n",
       "      <th>2</th>\n",
       "      <td>Arunachal Pradesh</td>\n",
       "      <td>45497</td>\n",
       "    </tr>\n",
       "    <tr>\n",
       "      <th>3</th>\n",
       "      <td>Assam</td>\n",
       "      <td>1056881</td>\n",
       "    </tr>\n",
       "    <tr>\n",
       "      <th>4</th>\n",
       "      <td>Bihar</td>\n",
       "      <td>5824302</td>\n",
       "    </tr>\n",
       "    <tr>\n",
       "      <th>5</th>\n",
       "      <td>Chandigarh</td>\n",
       "      <td>381895</td>\n",
       "    </tr>\n",
       "    <tr>\n",
       "      <th>6</th>\n",
       "      <td>Chhattisgarh</td>\n",
       "      <td>1891514</td>\n",
       "    </tr>\n",
       "    <tr>\n",
       "      <th>7</th>\n",
       "      <td>Dadra and Nagar Haveli and Daman and Diu</td>\n",
       "      <td>148549</td>\n",
       "    </tr>\n",
       "    <tr>\n",
       "      <th>8</th>\n",
       "      <td>Delhi</td>\n",
       "      <td>7122754</td>\n",
       "    </tr>\n",
       "    <tr>\n",
       "      <th>9</th>\n",
       "      <td>Goa</td>\n",
       "      <td>160897</td>\n",
       "    </tr>\n",
       "    <tr>\n",
       "      <th>10</th>\n",
       "      <td>Gujarat</td>\n",
       "      <td>5948775</td>\n",
       "    </tr>\n",
       "    <tr>\n",
       "      <th>11</th>\n",
       "      <td>Haryana</td>\n",
       "      <td>4480770</td>\n",
       "    </tr>\n",
       "    <tr>\n",
       "      <th>12</th>\n",
       "      <td>Himachal Pradesh</td>\n",
       "      <td>481918</td>\n",
       "    </tr>\n",
       "    <tr>\n",
       "      <th>13</th>\n",
       "      <td>Jammu &amp; Kashmir</td>\n",
       "      <td>941568</td>\n",
       "    </tr>\n",
       "    <tr>\n",
       "      <th>14</th>\n",
       "      <td>Jharkhand</td>\n",
       "      <td>2178921</td>\n",
       "    </tr>\n",
       "    <tr>\n",
       "      <th>15</th>\n",
       "      <td>Karnataka</td>\n",
       "      <td>12016899</td>\n",
       "    </tr>\n",
       "    <tr>\n",
       "      <th>16</th>\n",
       "      <td>Kerala</td>\n",
       "      <td>1771380</td>\n",
       "    </tr>\n",
       "    <tr>\n",
       "      <th>17</th>\n",
       "      <td>Ladakh</td>\n",
       "      <td>6089</td>\n",
       "    </tr>\n",
       "    <tr>\n",
       "      <th>18</th>\n",
       "      <td>Lakshadweep</td>\n",
       "      <td>778</td>\n",
       "    </tr>\n",
       "    <tr>\n",
       "      <th>19</th>\n",
       "      <td>Madhya Pradesh</td>\n",
       "      <td>8025395</td>\n",
       "    </tr>\n",
       "    <tr>\n",
       "      <th>20</th>\n",
       "      <td>Maharashtra</td>\n",
       "      <td>16387034</td>\n",
       "    </tr>\n",
       "    <tr>\n",
       "      <th>21</th>\n",
       "      <td>Manipur</td>\n",
       "      <td>84069</td>\n",
       "    </tr>\n",
       "    <tr>\n",
       "      <th>22</th>\n",
       "      <td>Meghalaya</td>\n",
       "      <td>49571</td>\n",
       "    </tr>\n",
       "    <tr>\n",
       "      <th>23</th>\n",
       "      <td>Mizoram</td>\n",
       "      <td>18561</td>\n",
       "    </tr>\n",
       "    <tr>\n",
       "      <th>24</th>\n",
       "      <td>Nagaland</td>\n",
       "      <td>42845</td>\n",
       "    </tr>\n",
       "    <tr>\n",
       "      <th>25</th>\n",
       "      <td>Odisha</td>\n",
       "      <td>5809821</td>\n",
       "    </tr>\n",
       "    <tr>\n",
       "      <th>26</th>\n",
       "      <td>Puducherry</td>\n",
       "      <td>104212</td>\n",
       "    </tr>\n",
       "    <tr>\n",
       "      <th>27</th>\n",
       "      <td>Punjab</td>\n",
       "      <td>1870433</td>\n",
       "    </tr>\n",
       "    <tr>\n",
       "      <th>28</th>\n",
       "      <td>Rajasthan</td>\n",
       "      <td>7591690</td>\n",
       "    </tr>\n",
       "    <tr>\n",
       "      <th>29</th>\n",
       "      <td>Sikkim</td>\n",
       "      <td>44078</td>\n",
       "    </tr>\n",
       "    <tr>\n",
       "      <th>30</th>\n",
       "      <td>Tamil Nadu</td>\n",
       "      <td>6726622</td>\n",
       "    </tr>\n",
       "    <tr>\n",
       "      <th>31</th>\n",
       "      <td>Telangana</td>\n",
       "      <td>8522766</td>\n",
       "    </tr>\n",
       "    <tr>\n",
       "      <th>32</th>\n",
       "      <td>Tripura</td>\n",
       "      <td>148157</td>\n",
       "    </tr>\n",
       "    <tr>\n",
       "      <th>33</th>\n",
       "      <td>Uttar Pradesh</td>\n",
       "      <td>1246685</td>\n",
       "    </tr>\n",
       "    <tr>\n",
       "      <th>34</th>\n",
       "      <td>Uttarakhand</td>\n",
       "      <td>12537805</td>\n",
       "    </tr>\n",
       "    <tr>\n",
       "      <th>35</th>\n",
       "      <td>West Bengal</td>\n",
       "      <td>11710225</td>\n",
       "    </tr>\n",
       "  </tbody>\n",
       "</table>\n",
       "</div>"
      ],
      "text/plain": [
       "                                       State  Transaction_Count\n",
       "0                          Andaman & Nicobar               6658\n",
       "1                             Andhra Pradesh            9039585\n",
       "2                          Arunachal Pradesh              45497\n",
       "3                                      Assam            1056881\n",
       "4                                      Bihar            5824302\n",
       "5                                 Chandigarh             381895\n",
       "6                               Chhattisgarh            1891514\n",
       "7   Dadra and Nagar Haveli and Daman and Diu             148549\n",
       "8                                      Delhi            7122754\n",
       "9                                        Goa             160897\n",
       "10                                   Gujarat            5948775\n",
       "11                                   Haryana            4480770\n",
       "12                          Himachal Pradesh             481918\n",
       "13                           Jammu & Kashmir             941568\n",
       "14                                 Jharkhand            2178921\n",
       "15                                 Karnataka           12016899\n",
       "16                                    Kerala            1771380\n",
       "17                                    Ladakh               6089\n",
       "18                               Lakshadweep                778\n",
       "19                            Madhya Pradesh            8025395\n",
       "20                               Maharashtra           16387034\n",
       "21                                   Manipur              84069\n",
       "22                                 Meghalaya              49571\n",
       "23                                   Mizoram              18561\n",
       "24                                  Nagaland              42845\n",
       "25                                    Odisha            5809821\n",
       "26                                Puducherry             104212\n",
       "27                                    Punjab            1870433\n",
       "28                                 Rajasthan            7591690\n",
       "29                                    Sikkim              44078\n",
       "30                                Tamil Nadu            6726622\n",
       "31                                 Telangana            8522766\n",
       "32                                   Tripura             148157\n",
       "33                             Uttar Pradesh            1246685\n",
       "34                               Uttarakhand           12537805\n",
       "35                               West Bengal           11710225"
      ]
     },
     "execution_count": 151,
     "metadata": {},
     "output_type": "execute_result"
    }
   ],
   "source": [
    "result_count"
   ]
  },
  {
   "cell_type": "code",
   "execution_count": 152,
   "metadata": {},
   "outputs": [
    {
     "data": {
      "text/html": [
       "<div>\n",
       "<style scoped>\n",
       "    .dataframe tbody tr th:only-of-type {\n",
       "        vertical-align: middle;\n",
       "    }\n",
       "\n",
       "    .dataframe tbody tr th {\n",
       "        vertical-align: top;\n",
       "    }\n",
       "\n",
       "    .dataframe thead th {\n",
       "        text-align: right;\n",
       "    }\n",
       "</style>\n",
       "<table border=\"1\" class=\"dataframe\">\n",
       "  <thead>\n",
       "    <tr style=\"text-align: right;\">\n",
       "      <th></th>\n",
       "      <th>State</th>\n",
       "      <th>Transaction_amount</th>\n",
       "    </tr>\n",
       "  </thead>\n",
       "  <tbody>\n",
       "    <tr>\n",
       "      <th>20</th>\n",
       "      <td>Maharashtra</td>\n",
       "      <td>2.171162e+10</td>\n",
       "    </tr>\n",
       "    <tr>\n",
       "      <th>15</th>\n",
       "      <td>Karnataka</td>\n",
       "      <td>1.921794e+10</td>\n",
       "    </tr>\n",
       "    <tr>\n",
       "      <th>34</th>\n",
       "      <td>Uttarakhand</td>\n",
       "      <td>1.393997e+10</td>\n",
       "    </tr>\n",
       "    <tr>\n",
       "      <th>31</th>\n",
       "      <td>Telangana</td>\n",
       "      <td>1.330820e+10</td>\n",
       "    </tr>\n",
       "    <tr>\n",
       "      <th>1</th>\n",
       "      <td>Andhra Pradesh</td>\n",
       "      <td>1.199629e+10</td>\n",
       "    </tr>\n",
       "    <tr>\n",
       "      <th>30</th>\n",
       "      <td>Tamil Nadu</td>\n",
       "      <td>1.126156e+10</td>\n",
       "    </tr>\n",
       "    <tr>\n",
       "      <th>8</th>\n",
       "      <td>Delhi</td>\n",
       "      <td>1.121151e+10</td>\n",
       "    </tr>\n",
       "    <tr>\n",
       "      <th>35</th>\n",
       "      <td>West Bengal</td>\n",
       "      <td>1.062599e+10</td>\n",
       "    </tr>\n",
       "    <tr>\n",
       "      <th>28</th>\n",
       "      <td>Rajasthan</td>\n",
       "      <td>8.926296e+09</td>\n",
       "    </tr>\n",
       "    <tr>\n",
       "      <th>19</th>\n",
       "      <td>Madhya Pradesh</td>\n",
       "      <td>8.681599e+09</td>\n",
       "    </tr>\n",
       "  </tbody>\n",
       "</table>\n",
       "</div>"
      ],
      "text/plain": [
       "             State  Transaction_amount\n",
       "20     Maharashtra        2.171162e+10\n",
       "15       Karnataka        1.921794e+10\n",
       "34     Uttarakhand        1.393997e+10\n",
       "31       Telangana        1.330820e+10\n",
       "1   Andhra Pradesh        1.199629e+10\n",
       "30      Tamil Nadu        1.126156e+10\n",
       "8            Delhi        1.121151e+10\n",
       "35     West Bengal        1.062599e+10\n",
       "28       Rajasthan        8.926296e+09\n",
       "19  Madhya Pradesh        8.681599e+09"
      ]
     },
     "execution_count": 152,
     "metadata": {},
     "output_type": "execute_result"
    }
   ],
   "source": [
    "top_10_states_amount"
   ]
  },
  {
   "cell_type": "code",
   "execution_count": 153,
   "metadata": {},
   "outputs": [
    {
     "data": {
      "text/html": [
       "<div>\n",
       "<style scoped>\n",
       "    .dataframe tbody tr th:only-of-type {\n",
       "        vertical-align: middle;\n",
       "    }\n",
       "\n",
       "    .dataframe tbody tr th {\n",
       "        vertical-align: top;\n",
       "    }\n",
       "\n",
       "    .dataframe thead th {\n",
       "        text-align: right;\n",
       "    }\n",
       "</style>\n",
       "<table border=\"1\" class=\"dataframe\">\n",
       "  <thead>\n",
       "    <tr style=\"text-align: right;\">\n",
       "      <th></th>\n",
       "      <th>State</th>\n",
       "      <th>Transaction_Count</th>\n",
       "    </tr>\n",
       "  </thead>\n",
       "  <tbody>\n",
       "    <tr>\n",
       "      <th>20</th>\n",
       "      <td>Maharashtra</td>\n",
       "      <td>16387034</td>\n",
       "    </tr>\n",
       "    <tr>\n",
       "      <th>34</th>\n",
       "      <td>Uttarakhand</td>\n",
       "      <td>12537805</td>\n",
       "    </tr>\n",
       "    <tr>\n",
       "      <th>15</th>\n",
       "      <td>Karnataka</td>\n",
       "      <td>12016899</td>\n",
       "    </tr>\n",
       "    <tr>\n",
       "      <th>35</th>\n",
       "      <td>West Bengal</td>\n",
       "      <td>11710225</td>\n",
       "    </tr>\n",
       "    <tr>\n",
       "      <th>1</th>\n",
       "      <td>Andhra Pradesh</td>\n",
       "      <td>9039585</td>\n",
       "    </tr>\n",
       "    <tr>\n",
       "      <th>31</th>\n",
       "      <td>Telangana</td>\n",
       "      <td>8522766</td>\n",
       "    </tr>\n",
       "    <tr>\n",
       "      <th>19</th>\n",
       "      <td>Madhya Pradesh</td>\n",
       "      <td>8025395</td>\n",
       "    </tr>\n",
       "    <tr>\n",
       "      <th>28</th>\n",
       "      <td>Rajasthan</td>\n",
       "      <td>7591690</td>\n",
       "    </tr>\n",
       "    <tr>\n",
       "      <th>8</th>\n",
       "      <td>Delhi</td>\n",
       "      <td>7122754</td>\n",
       "    </tr>\n",
       "    <tr>\n",
       "      <th>30</th>\n",
       "      <td>Tamil Nadu</td>\n",
       "      <td>6726622</td>\n",
       "    </tr>\n",
       "  </tbody>\n",
       "</table>\n",
       "</div>"
      ],
      "text/plain": [
       "             State  Transaction_Count\n",
       "20     Maharashtra           16387034\n",
       "34     Uttarakhand           12537805\n",
       "15       Karnataka           12016899\n",
       "35     West Bengal           11710225\n",
       "1   Andhra Pradesh            9039585\n",
       "31       Telangana            8522766\n",
       "19  Madhya Pradesh            8025395\n",
       "28       Rajasthan            7591690\n",
       "8            Delhi            7122754\n",
       "30      Tamil Nadu            6726622"
      ]
     },
     "execution_count": 153,
     "metadata": {},
     "output_type": "execute_result"
    }
   ],
   "source": [
    "top_10_states_count"
   ]
  },
  {
   "cell_type": "code",
   "execution_count": 173,
   "metadata": {},
   "outputs": [
    {
     "data": {
      "image/png": "[encoded data removed]",
      "text/plain": [
       "<Figure size 640x480 with 1 Axes>"
      ]
     },
     "metadata": {},
     "output_type": "display_data"
    },
    {
     "data": {
      "image/png": "[encoded data removed]",
      "text/plain": [
       "<Figure size 640x480 with 1 Axes>"
      ]
     },
     "metadata": {},
     "output_type": "display_data"
    }
   ],
   "source": [
    "import matplotlib.pyplot as plt\n",
    "neth=plt.axes()\n",
    "plt.pie(top_10_states_amount['Transaction_amount'], labels=top_10_states_amount['State'],autopct='%1.1f%%')\n",
    "plt.title('Transaction Amount Distribution by State in 2018, Quarter 1')\n",
    "plt.show()\n",
    "neth=plt.axes()\n",
    "plt.pie(top_10_states_count['Transaction_Count'], labels=top_10_states_count['State'],autopct='%1.1f%%')\n",
    "plt.title('Transaction Amount Distribution by State in 2018, Quarter 1')\n",
    "plt.show()\n"
   ]
  },
  {
   "cell_type": "code",
   "execution_count": 176,
   "metadata": {},
   "outputs": [
    {
     "data": {
      "image/png": "[encoded data removed]",
      "text/plain": [
       "<Figure size 640x480 with 1 Axes>"
      ]
     },
     "metadata": {},
     "output_type": "display_data"
    }
   ],
   "source": [
    "neth=plt.axes()\n",
    "plt.pie(top_10_states_count['Transaction_Count'], labels=top_10_states_count['State'],autopct='%1.1f%%')\n",
    "plt.title('Transaction Amount Distribution by State in 2018, Quarter 1')\n",
    "plt.show()"
   ]
  },
  {
   "cell_type": "code",
   "execution_count": 174,
   "metadata": {},
   "outputs": [
    {
     "data": {
      "image/png": "[encoded data removed]",
      "text/plain": [
       "<Figure size 1400x600 with 2 Axes>"
      ]
     },
     "metadata": {},
     "output_type": "display_data"
    }
   ],
   "source": [
    "import matplotlib.pyplot as plt\n",
    "\n",
    "# Create subplots with 1 row and 2 columns\n",
    "fig, axes = plt.subplots(1, 2, figsize=(14, 6))\n",
    "\n",
    "# Plotting the first pie chart (Transaction Amount Distribution)\n",
    "axes[0].pie(top_10_states_amount['Transaction_amount'], labels=top_10_states_amount['State'], autopct='%1.1f%%')\n",
    "axes[0].set_title('Transaction Amount Distribution by State')\n",
    "\n",
    "# Plotting the second pie chart (Transaction Count Distribution)\n",
    "axes[1].pie(top_10_states_count['Transaction_Count'], labels=top_10_states_count['State'], autopct='%1.1f%%')\n",
    "axes[1].set_title('Transaction Count Distribution')\n",
    "\n",
    "plt.show()"
   ]
  },
  {
   "cell_type": "code",
   "execution_count": 5,
   "metadata": {},
   "outputs": [],
   "source": [
    "import pandas as pd\n",
    "mycursor.execute('use phonepe')\n",
    "mycursor.execute('''select * from aggusers''')\n",
    "out=mycursor.fetchall()\n",
    "header=[i[0] for i in mycursor.description]\n",
    "brands=pd.DataFrame(out,columns=header)\n",
    "filtered_df=brands[(brands['Year']==2022) & (brands['Quarter']==1)]\n",
    "result_count = filtered_df.groupby('brand')['Count'].sum()"
   ]
  },
  {
   "cell_type": "code",
   "execution_count": 6,
   "metadata": {},
   "outputs": [
    {
     "data": {
      "text/html": [
       "<div>\n",
       "<style scoped>\n",
       "    .dataframe tbody tr th:only-of-type {\n",
       "        vertical-align: middle;\n",
       "    }\n",
       "\n",
       "    .dataframe tbody tr th {\n",
       "        vertical-align: top;\n",
       "    }\n",
       "\n",
       "    .dataframe thead th {\n",
       "        text-align: right;\n",
       "    }\n",
       "</style>\n",
       "<table border=\"1\" class=\"dataframe\">\n",
       "  <thead>\n",
       "    <tr style=\"text-align: right;\">\n",
       "      <th></th>\n",
       "      <th>brand</th>\n",
       "      <th>Count</th>\n",
       "    </tr>\n",
       "  </thead>\n",
       "  <tbody>\n",
       "    <tr>\n",
       "      <th>0</th>\n",
       "      <td>Apple</td>\n",
       "      <td>10774897</td>\n",
       "    </tr>\n",
       "    <tr>\n",
       "      <th>1</th>\n",
       "      <td>Asus</td>\n",
       "      <td>291136</td>\n",
       "    </tr>\n",
       "    <tr>\n",
       "      <th>2</th>\n",
       "      <td>Gionee</td>\n",
       "      <td>7892</td>\n",
       "    </tr>\n",
       "    <tr>\n",
       "      <th>3</th>\n",
       "      <td>HMD Global</td>\n",
       "      <td>9363</td>\n",
       "    </tr>\n",
       "    <tr>\n",
       "      <th>4</th>\n",
       "      <td>Huawei</td>\n",
       "      <td>4328502</td>\n",
       "    </tr>\n",
       "    <tr>\n",
       "      <th>5</th>\n",
       "      <td>Infinix</td>\n",
       "      <td>1595017</td>\n",
       "    </tr>\n",
       "    <tr>\n",
       "      <th>6</th>\n",
       "      <td>Lava</td>\n",
       "      <td>31262</td>\n",
       "    </tr>\n",
       "    <tr>\n",
       "      <th>7</th>\n",
       "      <td>Lenovo</td>\n",
       "      <td>1833647</td>\n",
       "    </tr>\n",
       "    <tr>\n",
       "      <th>8</th>\n",
       "      <td>Micromax</td>\n",
       "      <td>259092</td>\n",
       "    </tr>\n",
       "    <tr>\n",
       "      <th>9</th>\n",
       "      <td>Motorola</td>\n",
       "      <td>5003193</td>\n",
       "    </tr>\n",
       "    <tr>\n",
       "      <th>10</th>\n",
       "      <td>OnePlus</td>\n",
       "      <td>7614988</td>\n",
       "    </tr>\n",
       "    <tr>\n",
       "      <th>11</th>\n",
       "      <td>Oppo</td>\n",
       "      <td>49093736</td>\n",
       "    </tr>\n",
       "    <tr>\n",
       "      <th>12</th>\n",
       "      <td>Others</td>\n",
       "      <td>24227235</td>\n",
       "    </tr>\n",
       "    <tr>\n",
       "      <th>13</th>\n",
       "      <td>Realme</td>\n",
       "      <td>32685464</td>\n",
       "    </tr>\n",
       "    <tr>\n",
       "      <th>14</th>\n",
       "      <td>Samsung</td>\n",
       "      <td>65886550</td>\n",
       "    </tr>\n",
       "    <tr>\n",
       "      <th>15</th>\n",
       "      <td>Tecno</td>\n",
       "      <td>3657601</td>\n",
       "    </tr>\n",
       "    <tr>\n",
       "      <th>16</th>\n",
       "      <td>Vivo</td>\n",
       "      <td>77224385</td>\n",
       "    </tr>\n",
       "    <tr>\n",
       "      <th>17</th>\n",
       "      <td>Xiaomi</td>\n",
       "      <td>88426667</td>\n",
       "    </tr>\n",
       "  </tbody>\n",
       "</table>\n",
       "</div>"
      ],
      "text/plain": [
       "         brand     Count\n",
       "0        Apple  10774897\n",
       "1         Asus    291136\n",
       "2       Gionee      7892\n",
       "3   HMD Global      9363\n",
       "4       Huawei   4328502\n",
       "5      Infinix   1595017\n",
       "6         Lava     31262\n",
       "7       Lenovo   1833647\n",
       "8     Micromax    259092\n",
       "9     Motorola   5003193\n",
       "10     OnePlus   7614988\n",
       "11        Oppo  49093736\n",
       "12      Others  24227235\n",
       "13      Realme  32685464\n",
       "14     Samsung  65886550\n",
       "15       Tecno   3657601\n",
       "16        Vivo  77224385\n",
       "17      Xiaomi  88426667"
      ]
     },
     "execution_count": 6,
     "metadata": {},
     "output_type": "execute_result"
    }
   ],
   "source": [
    "result_count"
   ]
  },
  {
   "cell_type": "code",
   "execution_count": 22,
   "metadata": {},
   "outputs": [],
   "source": [
    "import pandas as pd\n",
    "mycursor.execute('use phonepe')\n",
    "mycursor.execute('''select * from aggtrans''')\n",
    "out=mycursor.fetchall()\n",
    "header=[i[0] for i in mycursor.description]\n",
    "data=pd.DataFrame(out,columns=header)"
   ]
  },
  {
   "cell_type": "code",
   "execution_count": 23,
   "metadata": {},
   "outputs": [
    {
     "data": {
      "text/html": [
       "<div>\n",
       "<style scoped>\n",
       "    .dataframe tbody tr th:only-of-type {\n",
       "        vertical-align: middle;\n",
       "    }\n",
       "\n",
       "    .dataframe tbody tr th {\n",
       "        vertical-align: top;\n",
       "    }\n",
       "\n",
       "    .dataframe thead th {\n",
       "        text-align: right;\n",
       "    }\n",
       "</style>\n",
       "<table border=\"1\" class=\"dataframe\">\n",
       "  <thead>\n",
       "    <tr style=\"text-align: right;\">\n",
       "      <th></th>\n",
       "      <th>id</th>\n",
       "      <th>State</th>\n",
       "      <th>Year</th>\n",
       "      <th>Quarter</th>\n",
       "      <th>Transaction_type</th>\n",
       "      <th>Transaction_count</th>\n",
       "      <th>Transaction_amount</th>\n",
       "    </tr>\n",
       "  </thead>\n",
       "  <tbody>\n",
       "    <tr>\n",
       "      <th>0</th>\n",
       "      <td>0</td>\n",
       "      <td>Andaman &amp; Nicobar</td>\n",
       "      <td>2018</td>\n",
       "      <td>1</td>\n",
       "      <td>Recharge &amp; bill payments</td>\n",
       "      <td>4200</td>\n",
       "      <td>1845307</td>\n",
       "    </tr>\n",
       "    <tr>\n",
       "      <th>1</th>\n",
       "      <td>1</td>\n",
       "      <td>Andaman &amp; Nicobar</td>\n",
       "      <td>2018</td>\n",
       "      <td>1</td>\n",
       "      <td>Peer-to-peer payments</td>\n",
       "      <td>1871</td>\n",
       "      <td>12138655</td>\n",
       "    </tr>\n",
       "    <tr>\n",
       "      <th>2</th>\n",
       "      <td>2</td>\n",
       "      <td>Andaman &amp; Nicobar</td>\n",
       "      <td>2018</td>\n",
       "      <td>1</td>\n",
       "      <td>Merchant payments</td>\n",
       "      <td>298</td>\n",
       "      <td>452507</td>\n",
       "    </tr>\n",
       "    <tr>\n",
       "      <th>3</th>\n",
       "      <td>3</td>\n",
       "      <td>Andaman &amp; Nicobar</td>\n",
       "      <td>2018</td>\n",
       "      <td>1</td>\n",
       "      <td>Financial Services</td>\n",
       "      <td>33</td>\n",
       "      <td>10601</td>\n",
       "    </tr>\n",
       "    <tr>\n",
       "      <th>4</th>\n",
       "      <td>4</td>\n",
       "      <td>Andaman &amp; Nicobar</td>\n",
       "      <td>2018</td>\n",
       "      <td>1</td>\n",
       "      <td>Others</td>\n",
       "      <td>256</td>\n",
       "      <td>184689</td>\n",
       "    </tr>\n",
       "    <tr>\n",
       "      <th>5</th>\n",
       "      <td>5</td>\n",
       "      <td>Andaman &amp; Nicobar</td>\n",
       "      <td>2018</td>\n",
       "      <td>2</td>\n",
       "      <td>Recharge &amp; bill payments</td>\n",
       "      <td>6735</td>\n",
       "      <td>2320944</td>\n",
       "    </tr>\n",
       "    <tr>\n",
       "      <th>6</th>\n",
       "      <td>6</td>\n",
       "      <td>Andaman &amp; Nicobar</td>\n",
       "      <td>2018</td>\n",
       "      <td>2</td>\n",
       "      <td>Peer-to-peer payments</td>\n",
       "      <td>3575</td>\n",
       "      <td>24511925</td>\n",
       "    </tr>\n",
       "    <tr>\n",
       "      <th>7</th>\n",
       "      <td>7</td>\n",
       "      <td>Andaman &amp; Nicobar</td>\n",
       "      <td>2018</td>\n",
       "      <td>2</td>\n",
       "      <td>Merchant payments</td>\n",
       "      <td>603</td>\n",
       "      <td>1024491</td>\n",
       "    </tr>\n",
       "    <tr>\n",
       "      <th>8</th>\n",
       "      <td>8</td>\n",
       "      <td>Andaman &amp; Nicobar</td>\n",
       "      <td>2018</td>\n",
       "      <td>2</td>\n",
       "      <td>Financial Services</td>\n",
       "      <td>59</td>\n",
       "      <td>121336</td>\n",
       "    </tr>\n",
       "    <tr>\n",
       "      <th>9</th>\n",
       "      <td>9</td>\n",
       "      <td>Andaman &amp; Nicobar</td>\n",
       "      <td>2018</td>\n",
       "      <td>2</td>\n",
       "      <td>Others</td>\n",
       "      <td>368</td>\n",
       "      <td>359838</td>\n",
       "    </tr>\n",
       "    <tr>\n",
       "      <th>10</th>\n",
       "      <td>10</td>\n",
       "      <td>Andaman &amp; Nicobar</td>\n",
       "      <td>2018</td>\n",
       "      <td>3</td>\n",
       "      <td>Recharge &amp; bill payments</td>\n",
       "      <td>8636</td>\n",
       "      <td>4343504</td>\n",
       "    </tr>\n",
       "    <tr>\n",
       "      <th>11</th>\n",
       "      <td>11</td>\n",
       "      <td>Andaman &amp; Nicobar</td>\n",
       "      <td>2018</td>\n",
       "      <td>3</td>\n",
       "      <td>Peer-to-peer payments</td>\n",
       "      <td>6448</td>\n",
       "      <td>49270781</td>\n",
       "    </tr>\n",
       "    <tr>\n",
       "      <th>12</th>\n",
       "      <td>12</td>\n",
       "      <td>Andaman &amp; Nicobar</td>\n",
       "      <td>2018</td>\n",
       "      <td>3</td>\n",
       "      <td>Merchant payments</td>\n",
       "      <td>945</td>\n",
       "      <td>1627359</td>\n",
       "    </tr>\n",
       "    <tr>\n",
       "      <th>13</th>\n",
       "      <td>13</td>\n",
       "      <td>Andaman &amp; Nicobar</td>\n",
       "      <td>2018</td>\n",
       "      <td>3</td>\n",
       "      <td>Financial Services</td>\n",
       "      <td>42</td>\n",
       "      <td>1481</td>\n",
       "    </tr>\n",
       "    <tr>\n",
       "      <th>14</th>\n",
       "      <td>14</td>\n",
       "      <td>Andaman &amp; Nicobar</td>\n",
       "      <td>2018</td>\n",
       "      <td>3</td>\n",
       "      <td>Others</td>\n",
       "      <td>194</td>\n",
       "      <td>314343</td>\n",
       "    </tr>\n",
       "    <tr>\n",
       "      <th>15</th>\n",
       "      <td>15</td>\n",
       "      <td>Andaman &amp; Nicobar</td>\n",
       "      <td>2018</td>\n",
       "      <td>4</td>\n",
       "      <td>Recharge &amp; bill payments</td>\n",
       "      <td>11517</td>\n",
       "      <td>5450549</td>\n",
       "    </tr>\n",
       "    <tr>\n",
       "      <th>16</th>\n",
       "      <td>16</td>\n",
       "      <td>Andaman &amp; Nicobar</td>\n",
       "      <td>2018</td>\n",
       "      <td>4</td>\n",
       "      <td>Peer-to-peer payments</td>\n",
       "      <td>10451</td>\n",
       "      <td>81001456</td>\n",
       "    </tr>\n",
       "    <tr>\n",
       "      <th>17</th>\n",
       "      <td>17</td>\n",
       "      <td>Andaman &amp; Nicobar</td>\n",
       "      <td>2018</td>\n",
       "      <td>4</td>\n",
       "      <td>Merchant payments</td>\n",
       "      <td>1421</td>\n",
       "      <td>3552027</td>\n",
       "    </tr>\n",
       "    <tr>\n",
       "      <th>18</th>\n",
       "      <td>18</td>\n",
       "      <td>Andaman &amp; Nicobar</td>\n",
       "      <td>2018</td>\n",
       "      <td>4</td>\n",
       "      <td>Financial Services</td>\n",
       "      <td>29</td>\n",
       "      <td>76035</td>\n",
       "    </tr>\n",
       "    <tr>\n",
       "      <th>19</th>\n",
       "      <td>19</td>\n",
       "      <td>Andaman &amp; Nicobar</td>\n",
       "      <td>2018</td>\n",
       "      <td>4</td>\n",
       "      <td>Others</td>\n",
       "      <td>340</td>\n",
       "      <td>468266</td>\n",
       "    </tr>\n",
       "    <tr>\n",
       "      <th>20</th>\n",
       "      <td>20</td>\n",
       "      <td>Andaman &amp; Nicobar</td>\n",
       "      <td>2019</td>\n",
       "      <td>1</td>\n",
       "      <td>Recharge &amp; bill payments</td>\n",
       "      <td>15263</td>\n",
       "      <td>6611459</td>\n",
       "    </tr>\n",
       "    <tr>\n",
       "      <th>21</th>\n",
       "      <td>21</td>\n",
       "      <td>Andaman &amp; Nicobar</td>\n",
       "      <td>2019</td>\n",
       "      <td>1</td>\n",
       "      <td>Peer-to-peer payments</td>\n",
       "      <td>13119</td>\n",
       "      <td>91808345</td>\n",
       "    </tr>\n",
       "    <tr>\n",
       "      <th>22</th>\n",
       "      <td>22</td>\n",
       "      <td>Andaman &amp; Nicobar</td>\n",
       "      <td>2019</td>\n",
       "      <td>1</td>\n",
       "      <td>Merchant payments</td>\n",
       "      <td>1759</td>\n",
       "      <td>3266589</td>\n",
       "    </tr>\n",
       "    <tr>\n",
       "      <th>23</th>\n",
       "      <td>23</td>\n",
       "      <td>Andaman &amp; Nicobar</td>\n",
       "      <td>2019</td>\n",
       "      <td>1</td>\n",
       "      <td>Financial Services</td>\n",
       "      <td>62</td>\n",
       "      <td>116250</td>\n",
       "    </tr>\n",
       "    <tr>\n",
       "      <th>24</th>\n",
       "      <td>24</td>\n",
       "      <td>Andaman &amp; Nicobar</td>\n",
       "      <td>2019</td>\n",
       "      <td>1</td>\n",
       "      <td>Others</td>\n",
       "      <td>283</td>\n",
       "      <td>497094</td>\n",
       "    </tr>\n",
       "    <tr>\n",
       "      <th>25</th>\n",
       "      <td>25</td>\n",
       "      <td>Andaman &amp; Nicobar</td>\n",
       "      <td>2019</td>\n",
       "      <td>2</td>\n",
       "      <td>Recharge &amp; bill payments</td>\n",
       "      <td>14676</td>\n",
       "      <td>7242448</td>\n",
       "    </tr>\n",
       "    <tr>\n",
       "      <th>26</th>\n",
       "      <td>26</td>\n",
       "      <td>Andaman &amp; Nicobar</td>\n",
       "      <td>2019</td>\n",
       "      <td>2</td>\n",
       "      <td>Peer-to-peer payments</td>\n",
       "      <td>14481</td>\n",
       "      <td>107525358</td>\n",
       "    </tr>\n",
       "    <tr>\n",
       "      <th>27</th>\n",
       "      <td>27</td>\n",
       "      <td>Andaman &amp; Nicobar</td>\n",
       "      <td>2019</td>\n",
       "      <td>2</td>\n",
       "      <td>Merchant payments</td>\n",
       "      <td>4031</td>\n",
       "      <td>4702152</td>\n",
       "    </tr>\n",
       "    <tr>\n",
       "      <th>28</th>\n",
       "      <td>28</td>\n",
       "      <td>Andaman &amp; Nicobar</td>\n",
       "      <td>2019</td>\n",
       "      <td>2</td>\n",
       "      <td>Financial Services</td>\n",
       "      <td>124</td>\n",
       "      <td>113278</td>\n",
       "    </tr>\n",
       "    <tr>\n",
       "      <th>29</th>\n",
       "      <td>29</td>\n",
       "      <td>Andaman &amp; Nicobar</td>\n",
       "      <td>2019</td>\n",
       "      <td>2</td>\n",
       "      <td>Others</td>\n",
       "      <td>377</td>\n",
       "      <td>671471</td>\n",
       "    </tr>\n",
       "  </tbody>\n",
       "</table>\n",
       "</div>"
      ],
      "text/plain": [
       "    id              State  Year  Quarter          Transaction_type  \\\n",
       "0    0  Andaman & Nicobar  2018        1  Recharge & bill payments   \n",
       "1    1  Andaman & Nicobar  2018        1     Peer-to-peer payments   \n",
       "2    2  Andaman & Nicobar  2018        1         Merchant payments   \n",
       "3    3  Andaman & Nicobar  2018        1        Financial Services   \n",
       "4    4  Andaman & Nicobar  2018        1                    Others   \n",
       "5    5  Andaman & Nicobar  2018        2  Recharge & bill payments   \n",
       "6    6  Andaman & Nicobar  2018        2     Peer-to-peer payments   \n",
       "7    7  Andaman & Nicobar  2018        2         Merchant payments   \n",
       "8    8  Andaman & Nicobar  2018        2        Financial Services   \n",
       "9    9  Andaman & Nicobar  2018        2                    Others   \n",
       "10  10  Andaman & Nicobar  2018        3  Recharge & bill payments   \n",
       "11  11  Andaman & Nicobar  2018        3     Peer-to-peer payments   \n",
       "12  12  Andaman & Nicobar  2018        3         Merchant payments   \n",
       "13  13  Andaman & Nicobar  2018        3        Financial Services   \n",
       "14  14  Andaman & Nicobar  2018        3                    Others   \n",
       "15  15  Andaman & Nicobar  2018        4  Recharge & bill payments   \n",
       "16  16  Andaman & Nicobar  2018        4     Peer-to-peer payments   \n",
       "17  17  Andaman & Nicobar  2018        4         Merchant payments   \n",
       "18  18  Andaman & Nicobar  2018        4        Financial Services   \n",
       "19  19  Andaman & Nicobar  2018        4                    Others   \n",
       "20  20  Andaman & Nicobar  2019        1  Recharge & bill payments   \n",
       "21  21  Andaman & Nicobar  2019        1     Peer-to-peer payments   \n",
       "22  22  Andaman & Nicobar  2019        1         Merchant payments   \n",
       "23  23  Andaman & Nicobar  2019        1        Financial Services   \n",
       "24  24  Andaman & Nicobar  2019        1                    Others   \n",
       "25  25  Andaman & Nicobar  2019        2  Recharge & bill payments   \n",
       "26  26  Andaman & Nicobar  2019        2     Peer-to-peer payments   \n",
       "27  27  Andaman & Nicobar  2019        2         Merchant payments   \n",
       "28  28  Andaman & Nicobar  2019        2        Financial Services   \n",
       "29  29  Andaman & Nicobar  2019        2                    Others   \n",
       "\n",
       "    Transaction_count  Transaction_amount  \n",
       "0                4200             1845307  \n",
       "1                1871            12138655  \n",
       "2                 298              452507  \n",
       "3                  33               10601  \n",
       "4                 256              184689  \n",
       "5                6735             2320944  \n",
       "6                3575            24511925  \n",
       "7                 603             1024491  \n",
       "8                  59              121336  \n",
       "9                 368              359838  \n",
       "10               8636             4343504  \n",
       "11               6448            49270781  \n",
       "12                945             1627359  \n",
       "13                 42                1481  \n",
       "14                194              314343  \n",
       "15              11517             5450549  \n",
       "16              10451            81001456  \n",
       "17               1421             3552027  \n",
       "18                 29               76035  \n",
       "19                340              468266  \n",
       "20              15263             6611459  \n",
       "21              13119            91808345  \n",
       "22               1759             3266589  \n",
       "23                 62              116250  \n",
       "24                283              497094  \n",
       "25              14676             7242448  \n",
       "26              14481           107525358  \n",
       "27               4031             4702152  \n",
       "28                124              113278  \n",
       "29                377              671471  "
      ]
     },
     "execution_count": 23,
     "metadata": {},
     "output_type": "execute_result"
    }
   ],
   "source": [
    "data.head(30)"
   ]
  },
  {
   "cell_type": "code",
   "execution_count": 24,
   "metadata": {},
   "outputs": [],
   "source": [
    "filtered_data=data[(data['Year']==2018) & (data['Quarter']==1)]\n",
    "result_data_amount=filtered_data.groupby('Transaction_type')['Transaction_amount'].sum().reset_index()"
   ]
  },
  {
   "cell_type": "code",
   "execution_count": 25,
   "metadata": {},
   "outputs": [
    {
     "data": {
      "text/html": [
       "<div>\n",
       "<style scoped>\n",
       "    .dataframe tbody tr th:only-of-type {\n",
       "        vertical-align: middle;\n",
       "    }\n",
       "\n",
       "    .dataframe tbody tr th {\n",
       "        vertical-align: top;\n",
       "    }\n",
       "\n",
       "    .dataframe thead th {\n",
       "        text-align: right;\n",
       "    }\n",
       "</style>\n",
       "<table border=\"1\" class=\"dataframe\">\n",
       "  <thead>\n",
       "    <tr style=\"text-align: right;\">\n",
       "      <th></th>\n",
       "      <th>Transaction_type</th>\n",
       "      <th>Transaction_amount</th>\n",
       "    </tr>\n",
       "  </thead>\n",
       "  <tbody>\n",
       "    <tr>\n",
       "      <th>0</th>\n",
       "      <td>Financial Services</td>\n",
       "      <td>815853087</td>\n",
       "    </tr>\n",
       "    <tr>\n",
       "      <th>1</th>\n",
       "      <td>Merchant payments</td>\n",
       "      <td>4656675940</td>\n",
       "    </tr>\n",
       "    <tr>\n",
       "      <th>2</th>\n",
       "      <td>Others</td>\n",
       "      <td>4643212567</td>\n",
       "    </tr>\n",
       "    <tr>\n",
       "      <th>3</th>\n",
       "      <td>Peer-to-peer payments</td>\n",
       "      <td>43546769325</td>\n",
       "    </tr>\n",
       "    <tr>\n",
       "      <th>4</th>\n",
       "      <td>Recharge &amp; bill payments</td>\n",
       "      <td>14336511628</td>\n",
       "    </tr>\n",
       "  </tbody>\n",
       "</table>\n",
       "</div>"
      ],
      "text/plain": [
       "           Transaction_type  Transaction_amount\n",
       "0        Financial Services           815853087\n",
       "1         Merchant payments          4656675940\n",
       "2                    Others          4643212567\n",
       "3     Peer-to-peer payments         43546769325\n",
       "4  Recharge & bill payments         14336511628"
      ]
     },
     "execution_count": 25,
     "metadata": {},
     "output_type": "execute_result"
    }
   ],
   "source": [
    "result_data_amount"
   ]
  },
  {
   "cell_type": "code",
   "execution_count": 29,
   "metadata": {},
   "outputs": [
    {
     "data": {
      "image/png": "[encoded data removed]",
      "text/plain": [
       "<Figure size 640x480 with 1 Axes>"
      ]
     },
     "metadata": {},
     "output_type": "display_data"
    }
   ],
   "source": [
    "import matplotlib.pyplot as plt\n",
    "neth=plt.axes()\n",
    "plt.pie(result_data_amount['Transaction_amount'], labels=result_data_amount['Transaction_type'],autopct='%1.1f%%')\n",
    "plt.title('Transaction Amount Distribution by Type,Year and Quarter')\n",
    "plt.show()"
   ]
  },
  {
   "cell_type": "code",
   "execution_count": 30,
   "metadata": {},
   "outputs": [],
   "source": [
    "filtered_data=data[(data['Year']==2018) & (data['Quarter']==1)]\n",
    "result_data_count=filtered_data.groupby('Transaction_type')['Transaction_count'].sum().reset_index()"
   ]
  },
  {
   "cell_type": "code",
   "execution_count": 31,
   "metadata": {},
   "outputs": [
    {
     "data": {
      "image/png": "[encoded data removed]",
      "text/plain": [
       "<Figure size 640x480 with 1 Axes>"
      ]
     },
     "metadata": {},
     "output_type": "display_data"
    }
   ],
   "source": [
    "import matplotlib.pyplot as plt\n",
    "neth=plt.axes()\n",
    "plt.pie(result_data_count['Transaction_count'], labels=result_data_count['Transaction_type'],autopct='%1.1f%%')\n",
    "plt.title('Number of Transaction  Distribution by Type,Year and Quarter')\n",
    "plt.show()"
   ]
  },
  {
   "cell_type": "code",
   "execution_count": 32,
   "metadata": {},
   "outputs": [],
   "source": [
    "mycursor.execute('use phonepe')\n",
    "mycursor.execute('''select * from maptrans''')\n",
    "out=mycursor.fetchall()\n",
    "header=[i[0] for i in mycursor.description]\n",
    "df=pd.DataFrame(out,columns=header)\n",
    "\n",
    "filtered_df = df[(df['Year'] == 2018) & (df['Quarter'] == 1)]\n",
    "\n",
    "result_amount = filtered_df.groupby('State')['Transaction_amount'].sum().reset_index()\n",
    "result_count = filtered_df.groupby('State')['Transaction_Count'].sum().reset_index()\n"
   ]
  },
  {
   "cell_type": "code",
   "execution_count": 33,
   "metadata": {},
   "outputs": [
    {
     "data": {
      "text/html": [
       "<div>\n",
       "<style scoped>\n",
       "    .dataframe tbody tr th:only-of-type {\n",
       "        vertical-align: middle;\n",
       "    }\n",
       "\n",
       "    .dataframe tbody tr th {\n",
       "        vertical-align: top;\n",
       "    }\n",
       "\n",
       "    .dataframe thead th {\n",
       "        text-align: right;\n",
       "    }\n",
       "</style>\n",
       "<table border=\"1\" class=\"dataframe\">\n",
       "  <thead>\n",
       "    <tr style=\"text-align: right;\">\n",
       "      <th></th>\n",
       "      <th>State</th>\n",
       "      <th>Transaction_amount</th>\n",
       "    </tr>\n",
       "  </thead>\n",
       "  <tbody>\n",
       "    <tr>\n",
       "      <th>0</th>\n",
       "      <td>Andaman &amp; Nicobar</td>\n",
       "      <td>1.463171e+07</td>\n",
       "    </tr>\n",
       "    <tr>\n",
       "      <th>1</th>\n",
       "      <td>Andhra Pradesh</td>\n",
       "      <td>1.199629e+10</td>\n",
       "    </tr>\n",
       "    <tr>\n",
       "      <th>2</th>\n",
       "      <td>Arunachal Pradesh</td>\n",
       "      <td>9.238733e+07</td>\n",
       "    </tr>\n",
       "    <tr>\n",
       "      <th>3</th>\n",
       "      <td>Assam</td>\n",
       "      <td>1.157804e+09</td>\n",
       "    </tr>\n",
       "    <tr>\n",
       "      <th>4</th>\n",
       "      <td>Bihar</td>\n",
       "      <td>6.045757e+09</td>\n",
       "    </tr>\n",
       "    <tr>\n",
       "      <th>5</th>\n",
       "      <td>Chandigarh</td>\n",
       "      <td>6.134350e+08</td>\n",
       "    </tr>\n",
       "    <tr>\n",
       "      <th>6</th>\n",
       "      <td>Chhattisgarh</td>\n",
       "      <td>2.149154e+09</td>\n",
       "    </tr>\n",
       "    <tr>\n",
       "      <th>7</th>\n",
       "      <td>Dadra and Nagar Haveli and Daman and Diu</td>\n",
       "      <td>1.756583e+08</td>\n",
       "    </tr>\n",
       "    <tr>\n",
       "      <th>8</th>\n",
       "      <td>Delhi</td>\n",
       "      <td>1.121151e+10</td>\n",
       "    </tr>\n",
       "    <tr>\n",
       "      <th>9</th>\n",
       "      <td>Goa</td>\n",
       "      <td>3.038560e+08</td>\n",
       "    </tr>\n",
       "    <tr>\n",
       "      <th>10</th>\n",
       "      <td>Gujarat</td>\n",
       "      <td>7.577975e+09</td>\n",
       "    </tr>\n",
       "    <tr>\n",
       "      <th>11</th>\n",
       "      <td>Haryana</td>\n",
       "      <td>6.793508e+09</td>\n",
       "    </tr>\n",
       "    <tr>\n",
       "      <th>12</th>\n",
       "      <td>Himachal Pradesh</td>\n",
       "      <td>6.287381e+08</td>\n",
       "    </tr>\n",
       "    <tr>\n",
       "      <th>13</th>\n",
       "      <td>Jammu &amp; Kashmir</td>\n",
       "      <td>1.005371e+09</td>\n",
       "    </tr>\n",
       "    <tr>\n",
       "      <th>14</th>\n",
       "      <td>Jharkhand</td>\n",
       "      <td>2.374187e+09</td>\n",
       "    </tr>\n",
       "    <tr>\n",
       "      <th>15</th>\n",
       "      <td>Karnataka</td>\n",
       "      <td>1.921794e+10</td>\n",
       "    </tr>\n",
       "    <tr>\n",
       "      <th>16</th>\n",
       "      <td>Kerala</td>\n",
       "      <td>2.402676e+09</td>\n",
       "    </tr>\n",
       "    <tr>\n",
       "      <th>17</th>\n",
       "      <td>Ladakh</td>\n",
       "      <td>1.253286e+07</td>\n",
       "    </tr>\n",
       "    <tr>\n",
       "      <th>18</th>\n",
       "      <td>Lakshadweep</td>\n",
       "      <td>1.928610e+06</td>\n",
       "    </tr>\n",
       "    <tr>\n",
       "      <th>19</th>\n",
       "      <td>Madhya Pradesh</td>\n",
       "      <td>8.681599e+09</td>\n",
       "    </tr>\n",
       "    <tr>\n",
       "      <th>20</th>\n",
       "      <td>Maharashtra</td>\n",
       "      <td>2.171162e+10</td>\n",
       "    </tr>\n",
       "    <tr>\n",
       "      <th>21</th>\n",
       "      <td>Manipur</td>\n",
       "      <td>1.280462e+08</td>\n",
       "    </tr>\n",
       "    <tr>\n",
       "      <th>22</th>\n",
       "      <td>Meghalaya</td>\n",
       "      <td>6.625030e+07</td>\n",
       "    </tr>\n",
       "    <tr>\n",
       "      <th>23</th>\n",
       "      <td>Mizoram</td>\n",
       "      <td>4.522725e+07</td>\n",
       "    </tr>\n",
       "    <tr>\n",
       "      <th>24</th>\n",
       "      <td>Nagaland</td>\n",
       "      <td>7.800588e+07</td>\n",
       "    </tr>\n",
       "    <tr>\n",
       "      <th>25</th>\n",
       "      <td>Odisha</td>\n",
       "      <td>4.627638e+09</td>\n",
       "    </tr>\n",
       "    <tr>\n",
       "      <th>26</th>\n",
       "      <td>Puducherry</td>\n",
       "      <td>1.658264e+08</td>\n",
       "    </tr>\n",
       "    <tr>\n",
       "      <th>27</th>\n",
       "      <td>Punjab</td>\n",
       "      <td>2.780757e+09</td>\n",
       "    </tr>\n",
       "    <tr>\n",
       "      <th>28</th>\n",
       "      <td>Rajasthan</td>\n",
       "      <td>8.926296e+09</td>\n",
       "    </tr>\n",
       "    <tr>\n",
       "      <th>29</th>\n",
       "      <td>Sikkim</td>\n",
       "      <td>6.465097e+07</td>\n",
       "    </tr>\n",
       "    <tr>\n",
       "      <th>30</th>\n",
       "      <td>Tamil Nadu</td>\n",
       "      <td>1.126156e+10</td>\n",
       "    </tr>\n",
       "    <tr>\n",
       "      <th>31</th>\n",
       "      <td>Telangana</td>\n",
       "      <td>1.330820e+10</td>\n",
       "    </tr>\n",
       "    <tr>\n",
       "      <th>32</th>\n",
       "      <td>Tripura</td>\n",
       "      <td>1.379790e+08</td>\n",
       "    </tr>\n",
       "    <tr>\n",
       "      <th>33</th>\n",
       "      <td>Uttar Pradesh</td>\n",
       "      <td>1.508545e+09</td>\n",
       "    </tr>\n",
       "    <tr>\n",
       "      <th>34</th>\n",
       "      <td>Uttarakhand</td>\n",
       "      <td>1.393997e+10</td>\n",
       "    </tr>\n",
       "    <tr>\n",
       "      <th>35</th>\n",
       "      <td>West Bengal</td>\n",
       "      <td>1.062599e+10</td>\n",
       "    </tr>\n",
       "  </tbody>\n",
       "</table>\n",
       "</div>"
      ],
      "text/plain": [
       "                                       State  Transaction_amount\n",
       "0                          Andaman & Nicobar        1.463171e+07\n",
       "1                             Andhra Pradesh        1.199629e+10\n",
       "2                          Arunachal Pradesh        9.238733e+07\n",
       "3                                      Assam        1.157804e+09\n",
       "4                                      Bihar        6.045757e+09\n",
       "5                                 Chandigarh        6.134350e+08\n",
       "6                               Chhattisgarh        2.149154e+09\n",
       "7   Dadra and Nagar Haveli and Daman and Diu        1.756583e+08\n",
       "8                                      Delhi        1.121151e+10\n",
       "9                                        Goa        3.038560e+08\n",
       "10                                   Gujarat        7.577975e+09\n",
       "11                                   Haryana        6.793508e+09\n",
       "12                          Himachal Pradesh        6.287381e+08\n",
       "13                           Jammu & Kashmir        1.005371e+09\n",
       "14                                 Jharkhand        2.374187e+09\n",
       "15                                 Karnataka        1.921794e+10\n",
       "16                                    Kerala        2.402676e+09\n",
       "17                                    Ladakh        1.253286e+07\n",
       "18                               Lakshadweep        1.928610e+06\n",
       "19                            Madhya Pradesh        8.681599e+09\n",
       "20                               Maharashtra        2.171162e+10\n",
       "21                                   Manipur        1.280462e+08\n",
       "22                                 Meghalaya        6.625030e+07\n",
       "23                                   Mizoram        4.522725e+07\n",
       "24                                  Nagaland        7.800588e+07\n",
       "25                                    Odisha        4.627638e+09\n",
       "26                                Puducherry        1.658264e+08\n",
       "27                                    Punjab        2.780757e+09\n",
       "28                                 Rajasthan        8.926296e+09\n",
       "29                                    Sikkim        6.465097e+07\n",
       "30                                Tamil Nadu        1.126156e+10\n",
       "31                                 Telangana        1.330820e+10\n",
       "32                                   Tripura        1.379790e+08\n",
       "33                             Uttar Pradesh        1.508545e+09\n",
       "34                               Uttarakhand        1.393997e+10\n",
       "35                               West Bengal        1.062599e+10"
      ]
     },
     "execution_count": 33,
     "metadata": {},
     "output_type": "execute_result"
    }
   ],
   "source": [
    "result_amount"
   ]
  },
  {
   "cell_type": "code",
   "execution_count": 41,
   "metadata": {},
   "outputs": [
    {
     "data": {
      "application/vnd.plotly.v1+json": {
       "config": {
        "plotlyServerURL": "https://plot.ly"
       },
       "data": [
        {
         "coloraxis": "coloraxis",
         "featureidkey": "properties.ST_NM",
         "geo": "geo",
         "geojson": "https://gist.githubusercontent.com/jbrobst/56c13bbbf9d97d187fea01ca62ea5112/raw/e388c4cae20aa53cb5090210a42ebb9b765c0a36/india_states.geojson",
         "hovertemplate": "locations=%{location}<br>color=%{z}<extra></extra>",
         "locations": [
          "Andaman & Nicobar",
          "Andhra Pradesh",
          "Arunachal Pradesh",
          "Assam",
          "Bihar",
          "Chandigarh",
          "Chhattisgarh",
          "Dadra and Nagar Haveli and Daman and Diu",
          "Delhi",
          "Goa",
          "Gujarat",
          "Haryana",
          "Himachal Pradesh",
          "Jammu & Kashmir",
          "Jharkhand",
          "Karnataka",
          "Kerala",
          "Ladakh",
          "Lakshadweep",
          "Madhya Pradesh",
          "Maharashtra",
          "Manipur",
          "Meghalaya",
          "Mizoram",
          "Nagaland",
          "Odisha",
          "Puducherry",
          "Punjab",
          "Rajasthan",
          "Sikkim",
          "Tamil Nadu",
          "Telangana",
          "Tripura",
          "Uttar Pradesh",
          "Uttarakhand",
          "West Bengal"
         ],
         "name": "",
         "type": "choropleth",
         "z": [
          14631713,
          11996291000,
          92387331.219,
          1157803997,
          6045757300,
          613435000,
          2149154450,
          175658280,
          11211512000,
          303856000,
          7577974640,
          6793508000,
          628738145,
          1005370939.8,
          2374187380,
          19217942900,
          2402675900,
          12532860,
          1928610,
          8681599300,
          21711615400,
          128046166.09,
          66250305,
          45227246,
          78005875,
          4627637900,
          165826360,
          2780757300,
          8926295600,
          64650970,
          11261559500,
          13308197400,
          137978970,
          1508544980,
          13939965500,
          10625985090
         ]
        }
       ],
       "layout": {
        "coloraxis": {
         "colorbar": {
          "title": {
           "text": "color"
          }
         },
         "colorscale": [
          [
           0,
           "rgb(0, 155, 158)"
          ],
          [
           0.16666666666666666,
           "rgb(66, 183, 185)"
          ],
          [
           0.3333333333333333,
           "rgb(167, 211, 212)"
          ],
          [
           0.5,
           "rgb(241, 241, 241)"
          ],
          [
           0.6666666666666666,
           "rgb(228, 193, 217)"
          ],
          [
           0.8333333333333334,
           "rgb(214, 145, 193)"
          ],
          [
           1,
           "rgb(199, 93, 171)"
          ]
         ]
        },
        "geo": {
         "center": {},
         "domain": {
          "x": [
           0,
           1
          ],
          "y": [
           0,
           1
          ]
         },
         "fitbounds": "locations",
         "visible": false
        },
        "legend": {
         "tracegroupgap": 0
        },
        "margin": {
         "t": 60
        },
        "template": {
         "data": {
          "bar": [
           {
            "error_x": {
             "color": "#2a3f5f"
            },
            "error_y": {
             "color": "#2a3f5f"
            },
            "marker": {
             "line": {
              "color": "#E5ECF6",
              "width": 0.5
             },
             "pattern": {
              "fillmode": "overlay",
              "size": 10,
              "solidity": 0.2
             }
            },
            "type": "bar"
           }
          ],
          "barpolar": [
           {
            "marker": {
             "line": {
              "color": "#E5ECF6",
              "width": 0.5
             },
             "pattern": {
              "fillmode": "overlay",
              "size": 10,
              "solidity": 0.2
             }
            },
            "type": "barpolar"
           }
          ],
          "carpet": [
           {
            "aaxis": {
             "endlinecolor": "#2a3f5f",
             "gridcolor": "white",
             "linecolor": "white",
             "minorgridcolor": "white",
             "startlinecolor": "#2a3f5f"
            },
            "baxis": {
             "endlinecolor": "#2a3f5f",
             "gridcolor": "white",
             "linecolor": "white",
             "minorgridcolor": "white",
             "startlinecolor": "#2a3f5f"
            },
            "type": "carpet"
           }
          ],
          "choropleth": [
           {
            "colorbar": {
             "outlinewidth": 0,
             "ticks": ""
            },
            "type": "choropleth"
           }
          ],
          "contour": [
           {
            "colorbar": {
             "outlinewidth": 0,
             "ticks": ""
            },
            "colorscale": [
             [
              0,
              "#0d0887"
             ],
             [
              0.1111111111111111,
              "#46039f"
             ],
             [
              0.2222222222222222,
              "#7201a8"
             ],
             [
              0.3333333333333333,
              "#9c179e"
             ],
             [
              0.4444444444444444,
              "#bd3786"
             ],
             [
              0.5555555555555556,
              "#d8576b"
             ],
             [
              0.6666666666666666,
              "#ed7953"
             ],
             [
              0.7777777777777778,
              "#fb9f3a"
             ],
             [
              0.8888888888888888,
              "#fdca26"
             ],
             [
              1,
              "#f0f921"
             ]
            ],
            "type": "contour"
           }
          ],
          "contourcarpet": [
           {
            "colorbar": {
             "outlinewidth": 0,
             "ticks": ""
            },
            "type": "contourcarpet"
           }
          ],
          "heatmap": [
           {
            "colorbar": {
             "outlinewidth": 0,
             "ticks": ""
            },
            "colorscale": [
             [
              0,
              "#0d0887"
             ],
             [
              0.1111111111111111,
              "#46039f"
             ],
             [
              0.2222222222222222,
              "#7201a8"
             ],
             [
              0.3333333333333333,
              "#9c179e"
             ],
             [
              0.4444444444444444,
              "#bd3786"
             ],
             [
              0.5555555555555556,
              "#d8576b"
             ],
             [
              0.6666666666666666,
              "#ed7953"
             ],
             [
              0.7777777777777778,
              "#fb9f3a"
             ],
             [
              0.8888888888888888,
              "#fdca26"
             ],
             [
              1,
              "#f0f921"
             ]
            ],
            "type": "heatmap"
           }
          ],
          "heatmapgl": [
           {
            "colorbar": {
             "outlinewidth": 0,
             "ticks": ""
            },
            "colorscale": [
             [
              0,
              "#0d0887"
             ],
             [
              0.1111111111111111,
              "#46039f"
             ],
             [
              0.2222222222222222,
              "#7201a8"
             ],
             [
              0.3333333333333333,
              "#9c179e"
             ],
             [
              0.4444444444444444,
              "#bd3786"
             ],
             [
              0.5555555555555556,
              "#d8576b"
             ],
             [
              0.6666666666666666,
              "#ed7953"
             ],
             [
              0.7777777777777778,
              "#fb9f3a"
             ],
             [
              0.8888888888888888,
              "#fdca26"
             ],
             [
              1,
              "#f0f921"
             ]
            ],
            "type": "heatmapgl"
           }
          ],
          "histogram": [
           {
            "marker": {
             "pattern": {
              "fillmode": "overlay",
              "size": 10,
              "solidity": 0.2
             }
            },
            "type": "histogram"
           }
          ],
          "histogram2d": [
           {
            "colorbar": {
             "outlinewidth": 0,
             "ticks": ""
            },
            "colorscale": [
             [
              0,
              "#0d0887"
             ],
             [
              0.1111111111111111,
              "#46039f"
             ],
             [
              0.2222222222222222,
              "#7201a8"
             ],
             [
              0.3333333333333333,
              "#9c179e"
             ],
             [
              0.4444444444444444,
              "#bd3786"
             ],
             [
              0.5555555555555556,
              "#d8576b"
             ],
             [
              0.6666666666666666,
              "#ed7953"
             ],
             [
              0.7777777777777778,
              "#fb9f3a"
             ],
             [
              0.8888888888888888,
              "#fdca26"
             ],
             [
              1,
              "#f0f921"
             ]
            ],
            "type": "histogram2d"
           }
          ],
          "histogram2dcontour": [
           {
            "colorbar": {
             "outlinewidth": 0,
             "ticks": ""
            },
            "colorscale": [
             [
              0,
              "#0d0887"
             ],
             [
              0.1111111111111111,
              "#46039f"
             ],
             [
              0.2222222222222222,
              "#7201a8"
             ],
             [
              0.3333333333333333,
              "#9c179e"
             ],
             [
              0.4444444444444444,
              "#bd3786"
             ],
             [
              0.5555555555555556,
              "#d8576b"
             ],
             [
              0.6666666666666666,
              "#ed7953"
             ],
             [
              0.7777777777777778,
              "#fb9f3a"
             ],
             [
              0.8888888888888888,
              "#fdca26"
             ],
             [
              1,
              "#f0f921"
             ]
            ],
            "type": "histogram2dcontour"
           }
          ],
          "mesh3d": [
           {
            "colorbar": {
             "outlinewidth": 0,
             "ticks": ""
            },
            "type": "mesh3d"
           }
          ],
          "parcoords": [
           {
            "line": {
             "colorbar": {
              "outlinewidth": 0,
              "ticks": ""
             }
            },
            "type": "parcoords"
           }
          ],
          "pie": [
           {
            "automargin": true,
            "type": "pie"
           }
          ],
          "scatter": [
           {
            "fillpattern": {
             "fillmode": "overlay",
             "size": 10,
             "solidity": 0.2
            },
            "type": "scatter"
           }
          ],
          "scatter3d": [
           {
            "line": {
             "colorbar": {
              "outlinewidth": 0,
              "ticks": ""
             }
            },
            "marker": {
             "colorbar": {
              "outlinewidth": 0,
              "ticks": ""
             }
            },
            "type": "scatter3d"
           }
          ],
          "scattercarpet": [
           {
            "marker": {
             "colorbar": {
              "outlinewidth": 0,
              "ticks": ""
             }
            },
            "type": "scattercarpet"
           }
          ],
          "scattergeo": [
           {
            "marker": {
             "colorbar": {
              "outlinewidth": 0,
              "ticks": ""
             }
            },
            "type": "scattergeo"
           }
          ],
          "scattergl": [
           {
            "marker": {
             "colorbar": {
              "outlinewidth": 0,
              "ticks": ""
             }
            },
            "type": "scattergl"
           }
          ],
          "scattermapbox": [
           {
            "marker": {
             "colorbar": {
              "outlinewidth": 0,
              "ticks": ""
             }
            },
            "type": "scattermapbox"
           }
          ],
          "scatterpolar": [
           {
            "marker": {
             "colorbar": {
              "outlinewidth": 0,
              "ticks": ""
             }
            },
            "type": "scatterpolar"
           }
          ],
          "scatterpolargl": [
           {
            "marker": {
             "colorbar": {
              "outlinewidth": 0,
              "ticks": ""
             }
            },
            "type": "scatterpolargl"
           }
          ],
          "scatterternary": [
           {
            "marker": {
             "colorbar": {
              "outlinewidth": 0,
              "ticks": ""
             }
            },
            "type": "scatterternary"
           }
          ],
          "surface": [
           {
            "colorbar": {
             "outlinewidth": 0,
             "ticks": ""
            },
            "colorscale": [
             [
              0,
              "#0d0887"
             ],
             [
              0.1111111111111111,
              "#46039f"
             ],
             [
              0.2222222222222222,
              "#7201a8"
             ],
             [
              0.3333333333333333,
              "#9c179e"
             ],
             [
              0.4444444444444444,
              "#bd3786"
             ],
             [
              0.5555555555555556,
              "#d8576b"
             ],
             [
              0.6666666666666666,
              "#ed7953"
             ],
             [
              0.7777777777777778,
              "#fb9f3a"
             ],
             [
              0.8888888888888888,
              "#fdca26"
             ],
             [
              1,
              "#f0f921"
             ]
            ],
            "type": "surface"
           }
          ],
          "table": [
           {
            "cells": {
             "fill": {
              "color": "#EBF0F8"
             },
             "line": {
              "color": "white"
             }
            },
            "header": {
             "fill": {
              "color": "#C8D4E3"
             },
             "line": {
              "color": "white"
             }
            },
            "type": "table"
           }
          ]
         },
         "layout": {
          "annotationdefaults": {
           "arrowcolor": "#2a3f5f",
           "arrowhead": 0,
           "arrowwidth": 1
          },
          "autotypenumbers": "strict",
          "coloraxis": {
           "colorbar": {
            "outlinewidth": 0,
            "ticks": ""
           }
          },
          "colorscale": {
           "diverging": [
            [
             0,
             "#8e0152"
            ],
            [
             0.1,
             "#c51b7d"
            ],
            [
             0.2,
             "#de77ae"
            ],
            [
             0.3,
             "#f1b6da"
            ],
            [
             0.4,
             "#fde0ef"
            ],
            [
             0.5,
             "#f7f7f7"
            ],
            [
             0.6,
             "#e6f5d0"
            ],
            [
             0.7,
             "#b8e186"
            ],
            [
             0.8,
             "#7fbc41"
            ],
            [
             0.9,
             "#4d9221"
            ],
            [
             1,
             "#276419"
            ]
           ],
           "sequential": [
            [
             0,
             "#0d0887"
            ],
            [
             0.1111111111111111,
             "#46039f"
            ],
            [
             0.2222222222222222,
             "#7201a8"
            ],
            [
             0.3333333333333333,
             "#9c179e"
            ],
            [
             0.4444444444444444,
             "#bd3786"
            ],
            [
             0.5555555555555556,
             "#d8576b"
            ],
            [
             0.6666666666666666,
             "#ed7953"
            ],
            [
             0.7777777777777778,
             "#fb9f3a"
            ],
            [
             0.8888888888888888,
             "#fdca26"
            ],
            [
             1,
             "#f0f921"
            ]
           ],
           "sequentialminus": [
            [
             0,
             "#0d0887"
            ],
            [
             0.1111111111111111,
             "#46039f"
            ],
            [
             0.2222222222222222,
             "#7201a8"
            ],
            [
             0.3333333333333333,
             "#9c179e"
            ],
            [
             0.4444444444444444,
             "#bd3786"
            ],
            [
             0.5555555555555556,
             "#d8576b"
            ],
            [
             0.6666666666666666,
             "#ed7953"
            ],
            [
             0.7777777777777778,
             "#fb9f3a"
            ],
            [
             0.8888888888888888,
             "#fdca26"
            ],
            [
             1,
             "#f0f921"
            ]
           ]
          },
          "colorway": [
           "#636efa",
           "#EF553B",
           "#00cc96",
           "#ab63fa",
           "#FFA15A",
           "#19d3f3",
           "#FF6692",
           "#B6E880",
           "#FF97FF",
           "#FECB52"
          ],
          "font": {
           "color": "#2a3f5f"
          },
          "geo": {
           "bgcolor": "white",
           "lakecolor": "white",
           "landcolor": "#E5ECF6",
           "showlakes": true,
           "showland": true,
           "subunitcolor": "white"
          },
          "hoverlabel": {
           "align": "left"
          },
          "hovermode": "closest",
          "mapbox": {
           "style": "light"
          },
          "paper_bgcolor": "white",
          "plot_bgcolor": "#E5ECF6",
          "polar": {
           "angularaxis": {
            "gridcolor": "white",
            "linecolor": "white",
            "ticks": ""
           },
           "bgcolor": "#E5ECF6",
           "radialaxis": {
            "gridcolor": "white",
            "linecolor": "white",
            "ticks": ""
           }
          },
          "scene": {
           "xaxis": {
            "backgroundcolor": "#E5ECF6",
            "gridcolor": "white",
            "gridwidth": 2,
            "linecolor": "white",
            "showbackground": true,
            "ticks": "",
            "zerolinecolor": "white"
           },
           "yaxis": {
            "backgroundcolor": "#E5ECF6",
            "gridcolor": "white",
            "gridwidth": 2,
            "linecolor": "white",
            "showbackground": true,
            "ticks": "",
            "zerolinecolor": "white"
           },
           "zaxis": {
            "backgroundcolor": "#E5ECF6",
            "gridcolor": "white",
            "gridwidth": 2,
            "linecolor": "white",
            "showbackground": true,
            "ticks": "",
            "zerolinecolor": "white"
           }
          },
          "shapedefaults": {
           "line": {
            "color": "#2a3f5f"
           }
          },
          "ternary": {
           "aaxis": {
            "gridcolor": "white",
            "linecolor": "white",
            "ticks": ""
           },
           "baxis": {
            "gridcolor": "white",
            "linecolor": "white",
            "ticks": ""
           },
           "bgcolor": "#E5ECF6",
           "caxis": {
            "gridcolor": "white",
            "linecolor": "white",
            "ticks": ""
           }
          },
          "title": {
           "x": 0.05
          },
          "xaxis": {
           "automargin": true,
           "gridcolor": "white",
           "linecolor": "white",
           "ticks": "",
           "title": {
            "standoff": 15
           },
           "zerolinecolor": "white",
           "zerolinewidth": 2
          },
          "yaxis": {
           "automargin": true,
           "gridcolor": "white",
           "linecolor": "white",
           "ticks": "",
           "title": {
            "standoff": 15
           },
           "zerolinecolor": "white",
           "zerolinewidth": 2
          }
         }
        }
       }
      }
     },
     "metadata": {},
     "output_type": "display_data"
    }
   ],
   "source": [
    "import pandas as pd\n",
    "import plotly.express as px\n",
    "\n",
    "\n",
    "fig = px.choropleth(\n",
    "    df,\n",
    "    geojson=\"https://gist.githubusercontent.com/jbrobst/56c13bbbf9d97d187fea01ca62ea5112/raw/e388c4cae20aa53cb5090210a42ebb9b765c0a36/india_states.geojson\",\n",
    "    featureidkey='properties.ST_NM',\n",
    "    locations=result_amount['State'],\n",
    "    color=result_amount['Transaction_amount'],\n",
    "    color_continuous_scale='tropic'\n",
    ")\n",
    "\n",
    "fig.update_geos(fitbounds=\"locations\",visible=False)\n",
    "\n",
    "fig.show()"
   ]
  }
 ],
 "metadata": {
  "kernelspec": {
   "display_name": "guvi",
   "language": "python",
   "name": "python3"
  },
  "language_info": {
   "codemirror_mode": {
    "name": "ipython",
    "version": 3
   },
   "file_extension": ".py",
   "mimetype": "text/x-python",
   "name": "python",
   "nbconvert_exporter": "python",
   "pygments_lexer": "ipython3",
   "version": "3.12.2"
  }
 },
 "nbformat": 4,
 "nbformat_minor": 2
}
